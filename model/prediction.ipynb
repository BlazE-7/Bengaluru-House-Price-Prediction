{
 "cells": [
  {
   "cell_type": "code",
   "execution_count": 1,
   "metadata": {},
   "outputs": [],
   "source": [
    "import pandas as pd\n",
    "import numpy as np\n",
    "import matplotlib.pyplot as plt\n",
    "import matplotlib_inline"
   ]
  },
  {
   "cell_type": "code",
   "execution_count": 2,
   "metadata": {},
   "outputs": [
    {
     "data": {
      "application/vnd.microsoft.datawrangler.viewer.v0+json": {
       "columns": [
        {
         "name": "index",
         "rawType": "int64",
         "type": "integer"
        },
        {
         "name": "area_type",
         "rawType": "object",
         "type": "string"
        },
        {
         "name": "availability",
         "rawType": "object",
         "type": "string"
        },
        {
         "name": "location",
         "rawType": "object",
         "type": "unknown"
        },
        {
         "name": "size",
         "rawType": "object",
         "type": "unknown"
        },
        {
         "name": "society",
         "rawType": "object",
         "type": "unknown"
        },
        {
         "name": "total_sqft",
         "rawType": "object",
         "type": "string"
        },
        {
         "name": "bath",
         "rawType": "float64",
         "type": "float"
        },
        {
         "name": "balcony",
         "rawType": "float64",
         "type": "float"
        },
        {
         "name": "price",
         "rawType": "float64",
         "type": "float"
        }
       ],
       "conversionMethod": "pd.DataFrame",
       "ref": "8ff65167-f5c5-4307-9892-ae4973c8cfde",
       "rows": [
        [
         "0",
         "Super built-up  Area",
         "19-Dec",
         "Electronic City Phase II",
         "2 BHK",
         "Coomee ",
         "1056",
         "2.0",
         "1.0",
         "39.07"
        ],
        [
         "1",
         "Plot  Area",
         "Ready To Move",
         "Chikka Tirupathi",
         "4 Bedroom",
         "Theanmp",
         "2600",
         "5.0",
         "3.0",
         "120.0"
        ],
        [
         "2",
         "Built-up  Area",
         "Ready To Move",
         "Uttarahalli",
         "3 BHK",
         null,
         "1440",
         "2.0",
         "3.0",
         "62.0"
        ],
        [
         "3",
         "Super built-up  Area",
         "Ready To Move",
         "Lingadheeranahalli",
         "3 BHK",
         "Soiewre",
         "1521",
         "3.0",
         "1.0",
         "95.0"
        ],
        [
         "4",
         "Super built-up  Area",
         "Ready To Move",
         "Kothanur",
         "2 BHK",
         null,
         "1200",
         "2.0",
         "1.0",
         "51.0"
        ],
        [
         "5",
         "Super built-up  Area",
         "Ready To Move",
         "Whitefield",
         "2 BHK",
         "DuenaTa",
         "1170",
         "2.0",
         "1.0",
         "38.0"
        ],
        [
         "6",
         "Super built-up  Area",
         "18-May",
         "Old Airport Road",
         "4 BHK",
         "Jaades ",
         "2732",
         "4.0",
         null,
         "204.0"
        ],
        [
         "7",
         "Super built-up  Area",
         "Ready To Move",
         "Rajaji Nagar",
         "4 BHK",
         "Brway G",
         "3300",
         "4.0",
         null,
         "600.0"
        ],
        [
         "8",
         "Super built-up  Area",
         "Ready To Move",
         "Marathahalli",
         "3 BHK",
         null,
         "1310",
         "3.0",
         "1.0",
         "63.25"
        ],
        [
         "9",
         "Plot  Area",
         "Ready To Move",
         "Gandhi Bazar",
         "6 Bedroom",
         null,
         "1020",
         "6.0",
         null,
         "370.0"
        ],
        [
         "10",
         "Super built-up  Area",
         "18-Feb",
         "Whitefield",
         "3 BHK",
         null,
         "1800",
         "2.0",
         "2.0",
         "70.0"
        ],
        [
         "11",
         "Plot  Area",
         "Ready To Move",
         "Whitefield",
         "4 Bedroom",
         "Prrry M",
         "2785",
         "5.0",
         "3.0",
         "295.0"
        ],
        [
         "12",
         "Super built-up  Area",
         "Ready To Move",
         "7th Phase JP Nagar",
         "2 BHK",
         "Shncyes",
         "1000",
         "2.0",
         "1.0",
         "38.0"
        ],
        [
         "13",
         "Built-up  Area",
         "Ready To Move",
         "Gottigere",
         "2 BHK",
         null,
         "1100",
         "2.0",
         "2.0",
         "40.0"
        ],
        [
         "14",
         "Plot  Area",
         "Ready To Move",
         "Sarjapur",
         "3 Bedroom",
         "Skityer",
         "2250",
         "3.0",
         "2.0",
         "148.0"
        ],
        [
         "15",
         "Super built-up  Area",
         "Ready To Move",
         "Mysore Road",
         "2 BHK",
         "PrntaEn",
         "1175",
         "2.0",
         "2.0",
         "73.5"
        ],
        [
         "16",
         "Super built-up  Area",
         "Ready To Move",
         "Bisuvanahalli",
         "3 BHK",
         "Prityel",
         "1180",
         "3.0",
         "2.0",
         "48.0"
        ],
        [
         "17",
         "Super built-up  Area",
         "Ready To Move",
         "Raja Rajeshwari Nagar",
         "3 BHK",
         "GrrvaGr",
         "1540",
         "3.0",
         "3.0",
         "60.0"
        ],
        [
         "18",
         "Super built-up  Area",
         "Ready To Move",
         "Ramakrishnappa Layout",
         "3 BHK",
         "PeBayle",
         "2770",
         "4.0",
         "2.0",
         "290.0"
        ],
        [
         "19",
         "Super built-up  Area",
         "Ready To Move",
         "Manayata Tech Park",
         "2 BHK",
         null,
         "1100",
         "2.0",
         "2.0",
         "48.0"
        ],
        [
         "20",
         "Built-up  Area",
         "Ready To Move",
         "Kengeri",
         "1 BHK",
         null,
         "600",
         "1.0",
         "1.0",
         "15.0"
        ],
        [
         "21",
         "Super built-up  Area",
         "19-Dec",
         "Binny Pete",
         "3 BHK",
         "She 2rk",
         "1755",
         "3.0",
         "1.0",
         "122.0"
        ],
        [
         "22",
         "Plot  Area",
         "Ready To Move",
         "Thanisandra",
         "4 Bedroom",
         "Soitya ",
         "2800",
         "5.0",
         "2.0",
         "380.0"
        ],
        [
         "23",
         "Super built-up  Area",
         "Ready To Move",
         "Bellandur",
         "3 BHK",
         null,
         "1767",
         "3.0",
         "1.0",
         "103.0"
        ],
        [
         "24",
         "Super built-up  Area",
         "18-Nov",
         " Thanisandra",
         "1 RK",
         "Bhe 2ko",
         "510",
         "1.0",
         "0.0",
         "25.25"
        ],
        [
         "25",
         "Super built-up  Area",
         "18-May",
         "Mangammanapalya",
         "3 BHK",
         null,
         "1250",
         "3.0",
         "2.0",
         "56.0"
        ],
        [
         "26",
         "Super built-up  Area",
         "Ready To Move",
         "Electronic City",
         "2 BHK",
         "Itelaa ",
         "660",
         "1.0",
         "1.0",
         "23.1"
        ],
        [
         "27",
         "Built-up  Area",
         "20-Dec",
         "Whitefield",
         "3 BHK",
         null,
         "1610",
         "3.0",
         "2.0",
         "81.0"
        ],
        [
         "28",
         "Super built-up  Area",
         "17-Oct",
         "Ramagondanahalli",
         "2 BHK",
         "ViistLa",
         "1151",
         "2.0",
         "2.0",
         "48.77"
        ],
        [
         "29",
         "Super built-up  Area",
         "Ready To Move",
         "Electronic City",
         "3 BHK",
         "KBityo ",
         "1025",
         "2.0",
         "1.0",
         "47.0"
        ],
        [
         "30",
         "Super built-up  Area",
         "19-Dec",
         "Yelahanka",
         "4 BHK",
         "LedorSa",
         "2100 - 2850",
         "4.0",
         "0.0",
         "186.0"
        ],
        [
         "31",
         "Super built-up  Area",
         "Ready To Move",
         "Bisuvanahalli",
         "3 BHK",
         "Prityel",
         "1075",
         "2.0",
         "1.0",
         "35.0"
        ],
        [
         "32",
         "Super built-up  Area",
         "Ready To Move",
         "Hebbal",
         "3 BHK",
         "Mahosya",
         "1760",
         "2.0",
         "2.0",
         "123.0"
        ],
        [
         "33",
         "Super built-up  Area",
         "Ready To Move",
         "Raja Rajeshwari Nagar",
         "3 BHK",
         "GrrvaGr",
         "1693",
         "3.0",
         "3.0",
         "57.39"
        ],
        [
         "34",
         "Built-up  Area",
         "Ready To Move",
         "Kasturi Nagar",
         "3 BHK",
         "Kantsce",
         "1925",
         "3.0",
         null,
         "125.0"
        ],
        [
         "35",
         "Super built-up  Area",
         "21-Dec",
         "Kanakpura Road",
         "2 BHK",
         "PrarePa",
         "700",
         "2.0",
         "1.0",
         "36.0"
        ],
        [
         "36",
         "Super built-up  Area",
         "Ready To Move",
         "Electronics City Phase 1",
         "2 BHK",
         null,
         "1070",
         "2.0",
         "1.0",
         "45.5"
        ],
        [
         "37",
         "Super built-up  Area",
         "Ready To Move",
         "Kundalahalli",
         "3 BHK",
         "Dieldli",
         "1724",
         "3.0",
         "2.0",
         "125.0"
        ],
        [
         "38",
         "Super built-up  Area",
         "Ready To Move",
         "Chikkalasandra",
         "3 BHK",
         null,
         "1290",
         "2.0",
         "2.0",
         "56.12"
        ],
        [
         "39",
         "Built-up  Area",
         "Ready To Move",
         "Uttarahalli",
         "2 BHK",
         null,
         "1143",
         "2.0",
         "2.0",
         "45.0"
        ],
        [
         "40",
         "Built-up  Area",
         "Ready To Move",
         "Murugeshpalya",
         "2 BHK",
         "Gentson",
         "1296",
         "2.0",
         null,
         "81.0"
        ],
        [
         "41",
         "Super built-up  Area",
         "19-Dec",
         "Sarjapur  Road",
         "3 BHK",
         "Soini T",
         "1254",
         "3.0",
         "2.0",
         "38.0"
        ],
        [
         "42",
         "Super built-up  Area",
         "Ready To Move",
         "Ganga Nagar",
         "1 BHK",
         "Ceove G",
         "600",
         "1.0",
         "0.0",
         "38.0"
        ],
        [
         "43",
         "Plot  Area",
         "Ready To Move",
         "Yelahanka",
         "1 Bedroom",
         null,
         "660",
         "1.0",
         "0.0",
         "48.0"
        ],
        [
         "44",
         "Super built-up  Area",
         "19-Sep",
         "Kanakpura Road",
         "2 BHK",
         "Soazak ",
         "1330.74",
         "2.0",
         "2.0",
         "91.79"
        ],
        [
         "45",
         "Plot  Area",
         "Ready To Move",
         "HSR Layout",
         "8 Bedroom",
         null,
         "600",
         "9.0",
         null,
         "200.0"
        ],
        [
         "46",
         "Super built-up  Area",
         "Ready To Move",
         "Doddathoguru",
         "2 BHK",
         "LancyRe",
         "970",
         "2.0",
         "0.0",
         "33.0"
        ],
        [
         "47",
         "Super built-up  Area",
         "20-Sep",
         "Whitefield",
         "2 BHK",
         "Goted U",
         "1459",
         "2.0",
         "1.0",
         "94.82"
        ],
        [
         "48",
         "Plot  Area",
         "Ready To Move",
         "KR Puram",
         "2 Bedroom",
         null,
         "800",
         "1.0",
         "1.0",
         "130.0"
        ],
        [
         "49",
         "Built-up  Area",
         "Ready To Move",
         "Himagiri Meadows",
         "2 BHK",
         null,
         "869",
         "2.0",
         "1.0",
         "36.0"
        ]
       ],
       "shape": {
        "columns": 9,
        "rows": 13320
       }
      },
      "text/html": [
       "<div>\n",
       "<style scoped>\n",
       "    .dataframe tbody tr th:only-of-type {\n",
       "        vertical-align: middle;\n",
       "    }\n",
       "\n",
       "    .dataframe tbody tr th {\n",
       "        vertical-align: top;\n",
       "    }\n",
       "\n",
       "    .dataframe thead th {\n",
       "        text-align: right;\n",
       "    }\n",
       "</style>\n",
       "<table border=\"1\" class=\"dataframe\">\n",
       "  <thead>\n",
       "    <tr style=\"text-align: right;\">\n",
       "      <th></th>\n",
       "      <th>area_type</th>\n",
       "      <th>availability</th>\n",
       "      <th>location</th>\n",
       "      <th>size</th>\n",
       "      <th>society</th>\n",
       "      <th>total_sqft</th>\n",
       "      <th>bath</th>\n",
       "      <th>balcony</th>\n",
       "      <th>price</th>\n",
       "    </tr>\n",
       "  </thead>\n",
       "  <tbody>\n",
       "    <tr>\n",
       "      <th>0</th>\n",
       "      <td>Super built-up  Area</td>\n",
       "      <td>19-Dec</td>\n",
       "      <td>Electronic City Phase II</td>\n",
       "      <td>2 BHK</td>\n",
       "      <td>Coomee</td>\n",
       "      <td>1056</td>\n",
       "      <td>2.0</td>\n",
       "      <td>1.0</td>\n",
       "      <td>39.07</td>\n",
       "    </tr>\n",
       "    <tr>\n",
       "      <th>1</th>\n",
       "      <td>Plot  Area</td>\n",
       "      <td>Ready To Move</td>\n",
       "      <td>Chikka Tirupathi</td>\n",
       "      <td>4 Bedroom</td>\n",
       "      <td>Theanmp</td>\n",
       "      <td>2600</td>\n",
       "      <td>5.0</td>\n",
       "      <td>3.0</td>\n",
       "      <td>120.00</td>\n",
       "    </tr>\n",
       "    <tr>\n",
       "      <th>2</th>\n",
       "      <td>Built-up  Area</td>\n",
       "      <td>Ready To Move</td>\n",
       "      <td>Uttarahalli</td>\n",
       "      <td>3 BHK</td>\n",
       "      <td>NaN</td>\n",
       "      <td>1440</td>\n",
       "      <td>2.0</td>\n",
       "      <td>3.0</td>\n",
       "      <td>62.00</td>\n",
       "    </tr>\n",
       "    <tr>\n",
       "      <th>3</th>\n",
       "      <td>Super built-up  Area</td>\n",
       "      <td>Ready To Move</td>\n",
       "      <td>Lingadheeranahalli</td>\n",
       "      <td>3 BHK</td>\n",
       "      <td>Soiewre</td>\n",
       "      <td>1521</td>\n",
       "      <td>3.0</td>\n",
       "      <td>1.0</td>\n",
       "      <td>95.00</td>\n",
       "    </tr>\n",
       "    <tr>\n",
       "      <th>4</th>\n",
       "      <td>Super built-up  Area</td>\n",
       "      <td>Ready To Move</td>\n",
       "      <td>Kothanur</td>\n",
       "      <td>2 BHK</td>\n",
       "      <td>NaN</td>\n",
       "      <td>1200</td>\n",
       "      <td>2.0</td>\n",
       "      <td>1.0</td>\n",
       "      <td>51.00</td>\n",
       "    </tr>\n",
       "    <tr>\n",
       "      <th>...</th>\n",
       "      <td>...</td>\n",
       "      <td>...</td>\n",
       "      <td>...</td>\n",
       "      <td>...</td>\n",
       "      <td>...</td>\n",
       "      <td>...</td>\n",
       "      <td>...</td>\n",
       "      <td>...</td>\n",
       "      <td>...</td>\n",
       "    </tr>\n",
       "    <tr>\n",
       "      <th>13315</th>\n",
       "      <td>Built-up  Area</td>\n",
       "      <td>Ready To Move</td>\n",
       "      <td>Whitefield</td>\n",
       "      <td>5 Bedroom</td>\n",
       "      <td>ArsiaEx</td>\n",
       "      <td>3453</td>\n",
       "      <td>4.0</td>\n",
       "      <td>0.0</td>\n",
       "      <td>231.00</td>\n",
       "    </tr>\n",
       "    <tr>\n",
       "      <th>13316</th>\n",
       "      <td>Super built-up  Area</td>\n",
       "      <td>Ready To Move</td>\n",
       "      <td>Richards Town</td>\n",
       "      <td>4 BHK</td>\n",
       "      <td>NaN</td>\n",
       "      <td>3600</td>\n",
       "      <td>5.0</td>\n",
       "      <td>NaN</td>\n",
       "      <td>400.00</td>\n",
       "    </tr>\n",
       "    <tr>\n",
       "      <th>13317</th>\n",
       "      <td>Built-up  Area</td>\n",
       "      <td>Ready To Move</td>\n",
       "      <td>Raja Rajeshwari Nagar</td>\n",
       "      <td>2 BHK</td>\n",
       "      <td>Mahla T</td>\n",
       "      <td>1141</td>\n",
       "      <td>2.0</td>\n",
       "      <td>1.0</td>\n",
       "      <td>60.00</td>\n",
       "    </tr>\n",
       "    <tr>\n",
       "      <th>13318</th>\n",
       "      <td>Super built-up  Area</td>\n",
       "      <td>18-Jun</td>\n",
       "      <td>Padmanabhanagar</td>\n",
       "      <td>4 BHK</td>\n",
       "      <td>SollyCl</td>\n",
       "      <td>4689</td>\n",
       "      <td>4.0</td>\n",
       "      <td>1.0</td>\n",
       "      <td>488.00</td>\n",
       "    </tr>\n",
       "    <tr>\n",
       "      <th>13319</th>\n",
       "      <td>Super built-up  Area</td>\n",
       "      <td>Ready To Move</td>\n",
       "      <td>Doddathoguru</td>\n",
       "      <td>1 BHK</td>\n",
       "      <td>NaN</td>\n",
       "      <td>550</td>\n",
       "      <td>1.0</td>\n",
       "      <td>1.0</td>\n",
       "      <td>17.00</td>\n",
       "    </tr>\n",
       "  </tbody>\n",
       "</table>\n",
       "<p>13320 rows × 9 columns</p>\n",
       "</div>"
      ],
      "text/plain": [
       "                  area_type   availability                  location  \\\n",
       "0      Super built-up  Area         19-Dec  Electronic City Phase II   \n",
       "1                Plot  Area  Ready To Move          Chikka Tirupathi   \n",
       "2            Built-up  Area  Ready To Move               Uttarahalli   \n",
       "3      Super built-up  Area  Ready To Move        Lingadheeranahalli   \n",
       "4      Super built-up  Area  Ready To Move                  Kothanur   \n",
       "...                     ...            ...                       ...   \n",
       "13315        Built-up  Area  Ready To Move                Whitefield   \n",
       "13316  Super built-up  Area  Ready To Move             Richards Town   \n",
       "13317        Built-up  Area  Ready To Move     Raja Rajeshwari Nagar   \n",
       "13318  Super built-up  Area         18-Jun           Padmanabhanagar   \n",
       "13319  Super built-up  Area  Ready To Move              Doddathoguru   \n",
       "\n",
       "            size  society total_sqft  bath  balcony   price  \n",
       "0          2 BHK  Coomee        1056   2.0      1.0   39.07  \n",
       "1      4 Bedroom  Theanmp       2600   5.0      3.0  120.00  \n",
       "2          3 BHK      NaN       1440   2.0      3.0   62.00  \n",
       "3          3 BHK  Soiewre       1521   3.0      1.0   95.00  \n",
       "4          2 BHK      NaN       1200   2.0      1.0   51.00  \n",
       "...          ...      ...        ...   ...      ...     ...  \n",
       "13315  5 Bedroom  ArsiaEx       3453   4.0      0.0  231.00  \n",
       "13316      4 BHK      NaN       3600   5.0      NaN  400.00  \n",
       "13317      2 BHK  Mahla T       1141   2.0      1.0   60.00  \n",
       "13318      4 BHK  SollyCl       4689   4.0      1.0  488.00  \n",
       "13319      1 BHK      NaN        550   1.0      1.0   17.00  \n",
       "\n",
       "[13320 rows x 9 columns]"
      ]
     },
     "execution_count": 2,
     "metadata": {},
     "output_type": "execute_result"
    }
   ],
   "source": [
    "df1 = pd.read_csv(r\"D:\\Data Science Works\\Data\\Bengaluru_House_Data.csv\")\n",
    "df1"
   ]
  },
  {
   "cell_type": "code",
   "execution_count": 3,
   "metadata": {},
   "outputs": [
    {
     "data": {
      "text/plain": [
       "(13320, 9)"
      ]
     },
     "execution_count": 3,
     "metadata": {},
     "output_type": "execute_result"
    }
   ],
   "source": [
    "df1.shape"
   ]
  },
  {
   "cell_type": "code",
   "execution_count": 4,
   "metadata": {},
   "outputs": [
    {
     "name": "stdout",
     "output_type": "stream",
     "text": [
      "<class 'pandas.core.frame.DataFrame'>\n",
      "RangeIndex: 13320 entries, 0 to 13319\n",
      "Data columns (total 9 columns):\n",
      " #   Column        Non-Null Count  Dtype  \n",
      "---  ------        --------------  -----  \n",
      " 0   area_type     13320 non-null  object \n",
      " 1   availability  13320 non-null  object \n",
      " 2   location      13319 non-null  object \n",
      " 3   size          13304 non-null  object \n",
      " 4   society       7818 non-null   object \n",
      " 5   total_sqft    13320 non-null  object \n",
      " 6   bath          13247 non-null  float64\n",
      " 7   balcony       12711 non-null  float64\n",
      " 8   price         13320 non-null  float64\n",
      "dtypes: float64(3), object(6)\n",
      "memory usage: 936.7+ KB\n"
     ]
    }
   ],
   "source": [
    "df1.info()"
   ]
  },
  {
   "cell_type": "code",
   "execution_count": 5,
   "metadata": {},
   "outputs": [],
   "source": [
    "df2 = df1.drop(columns=['area_type', 'availability', 'society', 'balcony'], inplace=True)"
   ]
  },
  {
   "cell_type": "code",
   "execution_count": 6,
   "metadata": {},
   "outputs": [
    {
     "data": {
      "application/vnd.microsoft.datawrangler.viewer.v0+json": {
       "columns": [
        {
         "name": "index",
         "rawType": "int64",
         "type": "integer"
        },
        {
         "name": "location",
         "rawType": "object",
         "type": "string"
        },
        {
         "name": "size",
         "rawType": "object",
         "type": "string"
        },
        {
         "name": "total_sqft",
         "rawType": "object",
         "type": "string"
        },
        {
         "name": "bath",
         "rawType": "float64",
         "type": "float"
        },
        {
         "name": "price",
         "rawType": "float64",
         "type": "float"
        }
       ],
       "conversionMethod": "pd.DataFrame",
       "ref": "a1905061-1d53-4e85-8997-89bb4280dbaf",
       "rows": [
        [
         "0",
         "Electronic City Phase II",
         "2 BHK",
         "1056",
         "2.0",
         "39.07"
        ],
        [
         "1",
         "Chikka Tirupathi",
         "4 Bedroom",
         "2600",
         "5.0",
         "120.0"
        ],
        [
         "2",
         "Uttarahalli",
         "3 BHK",
         "1440",
         "2.0",
         "62.0"
        ],
        [
         "3",
         "Lingadheeranahalli",
         "3 BHK",
         "1521",
         "3.0",
         "95.0"
        ],
        [
         "4",
         "Kothanur",
         "2 BHK",
         "1200",
         "2.0",
         "51.0"
        ]
       ],
       "shape": {
        "columns": 5,
        "rows": 5
       }
      },
      "text/html": [
       "<div>\n",
       "<style scoped>\n",
       "    .dataframe tbody tr th:only-of-type {\n",
       "        vertical-align: middle;\n",
       "    }\n",
       "\n",
       "    .dataframe tbody tr th {\n",
       "        vertical-align: top;\n",
       "    }\n",
       "\n",
       "    .dataframe thead th {\n",
       "        text-align: right;\n",
       "    }\n",
       "</style>\n",
       "<table border=\"1\" class=\"dataframe\">\n",
       "  <thead>\n",
       "    <tr style=\"text-align: right;\">\n",
       "      <th></th>\n",
       "      <th>location</th>\n",
       "      <th>size</th>\n",
       "      <th>total_sqft</th>\n",
       "      <th>bath</th>\n",
       "      <th>price</th>\n",
       "    </tr>\n",
       "  </thead>\n",
       "  <tbody>\n",
       "    <tr>\n",
       "      <th>0</th>\n",
       "      <td>Electronic City Phase II</td>\n",
       "      <td>2 BHK</td>\n",
       "      <td>1056</td>\n",
       "      <td>2.0</td>\n",
       "      <td>39.07</td>\n",
       "    </tr>\n",
       "    <tr>\n",
       "      <th>1</th>\n",
       "      <td>Chikka Tirupathi</td>\n",
       "      <td>4 Bedroom</td>\n",
       "      <td>2600</td>\n",
       "      <td>5.0</td>\n",
       "      <td>120.00</td>\n",
       "    </tr>\n",
       "    <tr>\n",
       "      <th>2</th>\n",
       "      <td>Uttarahalli</td>\n",
       "      <td>3 BHK</td>\n",
       "      <td>1440</td>\n",
       "      <td>2.0</td>\n",
       "      <td>62.00</td>\n",
       "    </tr>\n",
       "    <tr>\n",
       "      <th>3</th>\n",
       "      <td>Lingadheeranahalli</td>\n",
       "      <td>3 BHK</td>\n",
       "      <td>1521</td>\n",
       "      <td>3.0</td>\n",
       "      <td>95.00</td>\n",
       "    </tr>\n",
       "    <tr>\n",
       "      <th>4</th>\n",
       "      <td>Kothanur</td>\n",
       "      <td>2 BHK</td>\n",
       "      <td>1200</td>\n",
       "      <td>2.0</td>\n",
       "      <td>51.00</td>\n",
       "    </tr>\n",
       "  </tbody>\n",
       "</table>\n",
       "</div>"
      ],
      "text/plain": [
       "                   location       size total_sqft  bath   price\n",
       "0  Electronic City Phase II      2 BHK       1056   2.0   39.07\n",
       "1          Chikka Tirupathi  4 Bedroom       2600   5.0  120.00\n",
       "2               Uttarahalli      3 BHK       1440   2.0   62.00\n",
       "3        Lingadheeranahalli      3 BHK       1521   3.0   95.00\n",
       "4                  Kothanur      2 BHK       1200   2.0   51.00"
      ]
     },
     "execution_count": 6,
     "metadata": {},
     "output_type": "execute_result"
    }
   ],
   "source": [
    "df1.head()"
   ]
  },
  {
   "cell_type": "code",
   "execution_count": 7,
   "metadata": {},
   "outputs": [
    {
     "data": {
      "text/plain": [
       "location       1\n",
       "size          16\n",
       "total_sqft     0\n",
       "bath          73\n",
       "price          0\n",
       "dtype: int64"
      ]
     },
     "execution_count": 7,
     "metadata": {},
     "output_type": "execute_result"
    }
   ],
   "source": [
    "df1.isnull().sum()"
   ]
  },
  {
   "cell_type": "code",
   "execution_count": 8,
   "metadata": {},
   "outputs": [],
   "source": [
    "df2 = df1.dropna()"
   ]
  },
  {
   "cell_type": "code",
   "execution_count": 9,
   "metadata": {},
   "outputs": [
    {
     "data": {
      "application/vnd.microsoft.datawrangler.viewer.v0+json": {
       "columns": [
        {
         "name": "index",
         "rawType": "int64",
         "type": "integer"
        },
        {
         "name": "location",
         "rawType": "object",
         "type": "string"
        },
        {
         "name": "size",
         "rawType": "object",
         "type": "string"
        },
        {
         "name": "total_sqft",
         "rawType": "object",
         "type": "string"
        },
        {
         "name": "bath",
         "rawType": "float64",
         "type": "float"
        },
        {
         "name": "price",
         "rawType": "float64",
         "type": "float"
        }
       ],
       "conversionMethod": "pd.DataFrame",
       "ref": "11be9788-8b3c-422a-84d9-2916ba5aa76d",
       "rows": [
        [
         "0",
         "Electronic City Phase II",
         "2 BHK",
         "1056",
         "2.0",
         "39.07"
        ],
        [
         "1",
         "Chikka Tirupathi",
         "4 Bedroom",
         "2600",
         "5.0",
         "120.0"
        ],
        [
         "2",
         "Uttarahalli",
         "3 BHK",
         "1440",
         "2.0",
         "62.0"
        ],
        [
         "3",
         "Lingadheeranahalli",
         "3 BHK",
         "1521",
         "3.0",
         "95.0"
        ],
        [
         "4",
         "Kothanur",
         "2 BHK",
         "1200",
         "2.0",
         "51.0"
        ]
       ],
       "shape": {
        "columns": 5,
        "rows": 5
       }
      },
      "text/html": [
       "<div>\n",
       "<style scoped>\n",
       "    .dataframe tbody tr th:only-of-type {\n",
       "        vertical-align: middle;\n",
       "    }\n",
       "\n",
       "    .dataframe tbody tr th {\n",
       "        vertical-align: top;\n",
       "    }\n",
       "\n",
       "    .dataframe thead th {\n",
       "        text-align: right;\n",
       "    }\n",
       "</style>\n",
       "<table border=\"1\" class=\"dataframe\">\n",
       "  <thead>\n",
       "    <tr style=\"text-align: right;\">\n",
       "      <th></th>\n",
       "      <th>location</th>\n",
       "      <th>size</th>\n",
       "      <th>total_sqft</th>\n",
       "      <th>bath</th>\n",
       "      <th>price</th>\n",
       "    </tr>\n",
       "  </thead>\n",
       "  <tbody>\n",
       "    <tr>\n",
       "      <th>0</th>\n",
       "      <td>Electronic City Phase II</td>\n",
       "      <td>2 BHK</td>\n",
       "      <td>1056</td>\n",
       "      <td>2.0</td>\n",
       "      <td>39.07</td>\n",
       "    </tr>\n",
       "    <tr>\n",
       "      <th>1</th>\n",
       "      <td>Chikka Tirupathi</td>\n",
       "      <td>4 Bedroom</td>\n",
       "      <td>2600</td>\n",
       "      <td>5.0</td>\n",
       "      <td>120.00</td>\n",
       "    </tr>\n",
       "    <tr>\n",
       "      <th>2</th>\n",
       "      <td>Uttarahalli</td>\n",
       "      <td>3 BHK</td>\n",
       "      <td>1440</td>\n",
       "      <td>2.0</td>\n",
       "      <td>62.00</td>\n",
       "    </tr>\n",
       "    <tr>\n",
       "      <th>3</th>\n",
       "      <td>Lingadheeranahalli</td>\n",
       "      <td>3 BHK</td>\n",
       "      <td>1521</td>\n",
       "      <td>3.0</td>\n",
       "      <td>95.00</td>\n",
       "    </tr>\n",
       "    <tr>\n",
       "      <th>4</th>\n",
       "      <td>Kothanur</td>\n",
       "      <td>2 BHK</td>\n",
       "      <td>1200</td>\n",
       "      <td>2.0</td>\n",
       "      <td>51.00</td>\n",
       "    </tr>\n",
       "  </tbody>\n",
       "</table>\n",
       "</div>"
      ],
      "text/plain": [
       "                   location       size total_sqft  bath   price\n",
       "0  Electronic City Phase II      2 BHK       1056   2.0   39.07\n",
       "1          Chikka Tirupathi  4 Bedroom       2600   5.0  120.00\n",
       "2               Uttarahalli      3 BHK       1440   2.0   62.00\n",
       "3        Lingadheeranahalli      3 BHK       1521   3.0   95.00\n",
       "4                  Kothanur      2 BHK       1200   2.0   51.00"
      ]
     },
     "execution_count": 9,
     "metadata": {},
     "output_type": "execute_result"
    }
   ],
   "source": [
    "df2.head()"
   ]
  },
  {
   "cell_type": "code",
   "execution_count": 10,
   "metadata": {},
   "outputs": [
    {
     "data": {
      "text/plain": [
       "location      0\n",
       "size          0\n",
       "total_sqft    0\n",
       "bath          0\n",
       "price         0\n",
       "dtype: int64"
      ]
     },
     "execution_count": 10,
     "metadata": {},
     "output_type": "execute_result"
    }
   ],
   "source": [
    "df2.isnull().sum()"
   ]
  },
  {
   "cell_type": "code",
   "execution_count": 11,
   "metadata": {},
   "outputs": [
    {
     "data": {
      "text/plain": [
       "array(['2 BHK', '4 Bedroom', '3 BHK', '4 BHK', '6 Bedroom', '3 Bedroom',\n",
       "       '1 BHK', '1 RK', '1 Bedroom', '8 Bedroom', '2 Bedroom',\n",
       "       '7 Bedroom', '5 BHK', '7 BHK', '6 BHK', '5 Bedroom', '11 BHK',\n",
       "       '9 BHK', '9 Bedroom', '27 BHK', '10 Bedroom', '11 Bedroom',\n",
       "       '10 BHK', '19 BHK', '16 BHK', '43 Bedroom', '14 BHK', '8 BHK',\n",
       "       '12 Bedroom', '13 BHK', '18 Bedroom'], dtype=object)"
      ]
     },
     "execution_count": 11,
     "metadata": {},
     "output_type": "execute_result"
    }
   ],
   "source": [
    "df2['size'].unique()"
   ]
  },
  {
   "cell_type": "code",
   "execution_count": 12,
   "metadata": {},
   "outputs": [
    {
     "name": "stderr",
     "output_type": "stream",
     "text": [
      "C:\\Users\\smitp\\AppData\\Local\\Temp\\ipykernel_16144\\2189471139.py:1: SettingWithCopyWarning: \n",
      "A value is trying to be set on a copy of a slice from a DataFrame.\n",
      "Try using .loc[row_indexer,col_indexer] = value instead\n",
      "\n",
      "See the caveats in the documentation: https://pandas.pydata.org/pandas-docs/stable/user_guide/indexing.html#returning-a-view-versus-a-copy\n",
      "  df2['bhk'] = df2['size'].str.split(' ').str[0]\n"
     ]
    }
   ],
   "source": [
    "df2['bhk'] = df2['size'].str.split(' ').str[0]"
   ]
  },
  {
   "cell_type": "code",
   "execution_count": 13,
   "metadata": {},
   "outputs": [
    {
     "name": "stderr",
     "output_type": "stream",
     "text": [
      "C:\\Users\\smitp\\AppData\\Local\\Temp\\ipykernel_16144\\2809996901.py:1: SettingWithCopyWarning: \n",
      "A value is trying to be set on a copy of a slice from a DataFrame\n",
      "\n",
      "See the caveats in the documentation: https://pandas.pydata.org/pandas-docs/stable/user_guide/indexing.html#returning-a-view-versus-a-copy\n",
      "  df2.drop(columns=['size'], inplace=True)\n"
     ]
    }
   ],
   "source": [
    "df2.drop(columns=['size'], inplace=True)"
   ]
  },
  {
   "cell_type": "code",
   "execution_count": 14,
   "metadata": {},
   "outputs": [
    {
     "data": {
      "application/vnd.microsoft.datawrangler.viewer.v0+json": {
       "columns": [
        {
         "name": "index",
         "rawType": "int64",
         "type": "integer"
        },
        {
         "name": "location",
         "rawType": "object",
         "type": "string"
        },
        {
         "name": "total_sqft",
         "rawType": "object",
         "type": "string"
        },
        {
         "name": "bath",
         "rawType": "float64",
         "type": "float"
        },
        {
         "name": "price",
         "rawType": "float64",
         "type": "float"
        },
        {
         "name": "bhk",
         "rawType": "object",
         "type": "string"
        }
       ],
       "conversionMethod": "pd.DataFrame",
       "ref": "8bd992d1-f467-4c07-8228-62e51bcde3e1",
       "rows": [
        [
         "0",
         "Electronic City Phase II",
         "1056",
         "2.0",
         "39.07",
         "2"
        ],
        [
         "1",
         "Chikka Tirupathi",
         "2600",
         "5.0",
         "120.0",
         "4"
        ],
        [
         "2",
         "Uttarahalli",
         "1440",
         "2.0",
         "62.0",
         "3"
        ],
        [
         "3",
         "Lingadheeranahalli",
         "1521",
         "3.0",
         "95.0",
         "3"
        ],
        [
         "4",
         "Kothanur",
         "1200",
         "2.0",
         "51.0",
         "2"
        ]
       ],
       "shape": {
        "columns": 5,
        "rows": 5
       }
      },
      "text/html": [
       "<div>\n",
       "<style scoped>\n",
       "    .dataframe tbody tr th:only-of-type {\n",
       "        vertical-align: middle;\n",
       "    }\n",
       "\n",
       "    .dataframe tbody tr th {\n",
       "        vertical-align: top;\n",
       "    }\n",
       "\n",
       "    .dataframe thead th {\n",
       "        text-align: right;\n",
       "    }\n",
       "</style>\n",
       "<table border=\"1\" class=\"dataframe\">\n",
       "  <thead>\n",
       "    <tr style=\"text-align: right;\">\n",
       "      <th></th>\n",
       "      <th>location</th>\n",
       "      <th>total_sqft</th>\n",
       "      <th>bath</th>\n",
       "      <th>price</th>\n",
       "      <th>bhk</th>\n",
       "    </tr>\n",
       "  </thead>\n",
       "  <tbody>\n",
       "    <tr>\n",
       "      <th>0</th>\n",
       "      <td>Electronic City Phase II</td>\n",
       "      <td>1056</td>\n",
       "      <td>2.0</td>\n",
       "      <td>39.07</td>\n",
       "      <td>2</td>\n",
       "    </tr>\n",
       "    <tr>\n",
       "      <th>1</th>\n",
       "      <td>Chikka Tirupathi</td>\n",
       "      <td>2600</td>\n",
       "      <td>5.0</td>\n",
       "      <td>120.00</td>\n",
       "      <td>4</td>\n",
       "    </tr>\n",
       "    <tr>\n",
       "      <th>2</th>\n",
       "      <td>Uttarahalli</td>\n",
       "      <td>1440</td>\n",
       "      <td>2.0</td>\n",
       "      <td>62.00</td>\n",
       "      <td>3</td>\n",
       "    </tr>\n",
       "    <tr>\n",
       "      <th>3</th>\n",
       "      <td>Lingadheeranahalli</td>\n",
       "      <td>1521</td>\n",
       "      <td>3.0</td>\n",
       "      <td>95.00</td>\n",
       "      <td>3</td>\n",
       "    </tr>\n",
       "    <tr>\n",
       "      <th>4</th>\n",
       "      <td>Kothanur</td>\n",
       "      <td>1200</td>\n",
       "      <td>2.0</td>\n",
       "      <td>51.00</td>\n",
       "      <td>2</td>\n",
       "    </tr>\n",
       "  </tbody>\n",
       "</table>\n",
       "</div>"
      ],
      "text/plain": [
       "                   location total_sqft  bath   price bhk\n",
       "0  Electronic City Phase II       1056   2.0   39.07   2\n",
       "1          Chikka Tirupathi       2600   5.0  120.00   4\n",
       "2               Uttarahalli       1440   2.0   62.00   3\n",
       "3        Lingadheeranahalli       1521   3.0   95.00   3\n",
       "4                  Kothanur       1200   2.0   51.00   2"
      ]
     },
     "execution_count": 14,
     "metadata": {},
     "output_type": "execute_result"
    }
   ],
   "source": [
    "df2.head()"
   ]
  },
  {
   "cell_type": "code",
   "execution_count": 15,
   "metadata": {},
   "outputs": [
    {
     "data": {
      "text/plain": [
       "array(['1056', '2600', '1440', ..., '1133 - 1384', '774', '4689'],\n",
       "      dtype=object)"
      ]
     },
     "execution_count": 15,
     "metadata": {},
     "output_type": "execute_result"
    }
   ],
   "source": [
    "df2['total_sqft'].unique()"
   ]
  },
  {
   "cell_type": "code",
   "execution_count": 16,
   "metadata": {},
   "outputs": [],
   "source": [
    "def is_float(x):\n",
    "    try:\n",
    "        float(x)\n",
    "    except:\n",
    "        return False\n",
    "    return True"
   ]
  },
  {
   "cell_type": "code",
   "execution_count": 17,
   "metadata": {},
   "outputs": [
    {
     "data": {
      "application/vnd.microsoft.datawrangler.viewer.v0+json": {
       "columns": [
        {
         "name": "index",
         "rawType": "int64",
         "type": "integer"
        },
        {
         "name": "location",
         "rawType": "object",
         "type": "string"
        },
        {
         "name": "total_sqft",
         "rawType": "object",
         "type": "string"
        },
        {
         "name": "bath",
         "rawType": "float64",
         "type": "float"
        },
        {
         "name": "price",
         "rawType": "float64",
         "type": "float"
        },
        {
         "name": "bhk",
         "rawType": "object",
         "type": "string"
        }
       ],
       "conversionMethod": "pd.DataFrame",
       "ref": "b8f1c173-301c-4b5d-8c5a-6d139b319d7c",
       "rows": [
        [
         "30",
         "Yelahanka",
         "2100 - 2850",
         "4.0",
         "186.0",
         "4"
        ],
        [
         "122",
         "Hebbal",
         "3067 - 8156",
         "4.0",
         "477.0",
         "4"
        ],
        [
         "137",
         "8th Phase JP Nagar",
         "1042 - 1105",
         "2.0",
         "54.005",
         "2"
        ],
        [
         "165",
         "Sarjapur",
         "1145 - 1340",
         "2.0",
         "43.49",
         "2"
        ],
        [
         "188",
         "KR Puram",
         "1015 - 1540",
         "2.0",
         "56.8",
         "2"
        ],
        [
         "410",
         "Kengeri",
         "34.46Sq. Meter",
         "1.0",
         "18.5",
         "1"
        ],
        [
         "549",
         "Hennur Road",
         "1195 - 1440",
         "2.0",
         "63.77",
         "2"
        ],
        [
         "648",
         "Arekere",
         "4125Perch",
         "9.0",
         "265.0",
         "9"
        ],
        [
         "661",
         "Yelahanka",
         "1120 - 1145",
         "2.0",
         "48.13",
         "2"
        ],
        [
         "672",
         "Bettahalsoor",
         "3090 - 5002",
         "4.0",
         "445.0",
         "4"
        ]
       ],
       "shape": {
        "columns": 5,
        "rows": 10
       }
      },
      "text/html": [
       "<div>\n",
       "<style scoped>\n",
       "    .dataframe tbody tr th:only-of-type {\n",
       "        vertical-align: middle;\n",
       "    }\n",
       "\n",
       "    .dataframe tbody tr th {\n",
       "        vertical-align: top;\n",
       "    }\n",
       "\n",
       "    .dataframe thead th {\n",
       "        text-align: right;\n",
       "    }\n",
       "</style>\n",
       "<table border=\"1\" class=\"dataframe\">\n",
       "  <thead>\n",
       "    <tr style=\"text-align: right;\">\n",
       "      <th></th>\n",
       "      <th>location</th>\n",
       "      <th>total_sqft</th>\n",
       "      <th>bath</th>\n",
       "      <th>price</th>\n",
       "      <th>bhk</th>\n",
       "    </tr>\n",
       "  </thead>\n",
       "  <tbody>\n",
       "    <tr>\n",
       "      <th>30</th>\n",
       "      <td>Yelahanka</td>\n",
       "      <td>2100 - 2850</td>\n",
       "      <td>4.0</td>\n",
       "      <td>186.000</td>\n",
       "      <td>4</td>\n",
       "    </tr>\n",
       "    <tr>\n",
       "      <th>122</th>\n",
       "      <td>Hebbal</td>\n",
       "      <td>3067 - 8156</td>\n",
       "      <td>4.0</td>\n",
       "      <td>477.000</td>\n",
       "      <td>4</td>\n",
       "    </tr>\n",
       "    <tr>\n",
       "      <th>137</th>\n",
       "      <td>8th Phase JP Nagar</td>\n",
       "      <td>1042 - 1105</td>\n",
       "      <td>2.0</td>\n",
       "      <td>54.005</td>\n",
       "      <td>2</td>\n",
       "    </tr>\n",
       "    <tr>\n",
       "      <th>165</th>\n",
       "      <td>Sarjapur</td>\n",
       "      <td>1145 - 1340</td>\n",
       "      <td>2.0</td>\n",
       "      <td>43.490</td>\n",
       "      <td>2</td>\n",
       "    </tr>\n",
       "    <tr>\n",
       "      <th>188</th>\n",
       "      <td>KR Puram</td>\n",
       "      <td>1015 - 1540</td>\n",
       "      <td>2.0</td>\n",
       "      <td>56.800</td>\n",
       "      <td>2</td>\n",
       "    </tr>\n",
       "    <tr>\n",
       "      <th>410</th>\n",
       "      <td>Kengeri</td>\n",
       "      <td>34.46Sq. Meter</td>\n",
       "      <td>1.0</td>\n",
       "      <td>18.500</td>\n",
       "      <td>1</td>\n",
       "    </tr>\n",
       "    <tr>\n",
       "      <th>549</th>\n",
       "      <td>Hennur Road</td>\n",
       "      <td>1195 - 1440</td>\n",
       "      <td>2.0</td>\n",
       "      <td>63.770</td>\n",
       "      <td>2</td>\n",
       "    </tr>\n",
       "    <tr>\n",
       "      <th>648</th>\n",
       "      <td>Arekere</td>\n",
       "      <td>4125Perch</td>\n",
       "      <td>9.0</td>\n",
       "      <td>265.000</td>\n",
       "      <td>9</td>\n",
       "    </tr>\n",
       "    <tr>\n",
       "      <th>661</th>\n",
       "      <td>Yelahanka</td>\n",
       "      <td>1120 - 1145</td>\n",
       "      <td>2.0</td>\n",
       "      <td>48.130</td>\n",
       "      <td>2</td>\n",
       "    </tr>\n",
       "    <tr>\n",
       "      <th>672</th>\n",
       "      <td>Bettahalsoor</td>\n",
       "      <td>3090 - 5002</td>\n",
       "      <td>4.0</td>\n",
       "      <td>445.000</td>\n",
       "      <td>4</td>\n",
       "    </tr>\n",
       "  </tbody>\n",
       "</table>\n",
       "</div>"
      ],
      "text/plain": [
       "               location      total_sqft  bath    price bhk\n",
       "30            Yelahanka     2100 - 2850   4.0  186.000   4\n",
       "122              Hebbal     3067 - 8156   4.0  477.000   4\n",
       "137  8th Phase JP Nagar     1042 - 1105   2.0   54.005   2\n",
       "165            Sarjapur     1145 - 1340   2.0   43.490   2\n",
       "188            KR Puram     1015 - 1540   2.0   56.800   2\n",
       "410             Kengeri  34.46Sq. Meter   1.0   18.500   1\n",
       "549         Hennur Road     1195 - 1440   2.0   63.770   2\n",
       "648             Arekere       4125Perch   9.0  265.000   9\n",
       "661           Yelahanka     1120 - 1145   2.0   48.130   2\n",
       "672        Bettahalsoor     3090 - 5002   4.0  445.000   4"
      ]
     },
     "execution_count": 17,
     "metadata": {},
     "output_type": "execute_result"
    }
   ],
   "source": [
    "df2[~df2['total_sqft'].apply(is_float)].head(10)"
   ]
  },
  {
   "cell_type": "code",
   "execution_count": 18,
   "metadata": {},
   "outputs": [],
   "source": [
    "def convert_sqft_to_float(x):\n",
    "    token = x.split('-')\n",
    "    if len(token) == 2:\n",
    "        return (float(token[0]) + float(token[1]))/2\n",
    "    try: \n",
    "        return float(x)\n",
    "    except:\n",
    "        return None"
   ]
  },
  {
   "cell_type": "code",
   "execution_count": 19,
   "metadata": {},
   "outputs": [
    {
     "name": "stderr",
     "output_type": "stream",
     "text": [
      "C:\\Users\\smitp\\AppData\\Local\\Temp\\ipykernel_16144\\3295488817.py:1: SettingWithCopyWarning: \n",
      "A value is trying to be set on a copy of a slice from a DataFrame.\n",
      "Try using .loc[row_indexer,col_indexer] = value instead\n",
      "\n",
      "See the caveats in the documentation: https://pandas.pydata.org/pandas-docs/stable/user_guide/indexing.html#returning-a-view-versus-a-copy\n",
      "  df2['total_sqft'] = df2['total_sqft'].apply(convert_sqft_to_float)\n"
     ]
    },
    {
     "data": {
      "application/vnd.microsoft.datawrangler.viewer.v0+json": {
       "columns": [
        {
         "name": "index",
         "rawType": "int64",
         "type": "integer"
        },
        {
         "name": "location",
         "rawType": "object",
         "type": "string"
        },
        {
         "name": "total_sqft",
         "rawType": "float64",
         "type": "float"
        },
        {
         "name": "bath",
         "rawType": "float64",
         "type": "float"
        },
        {
         "name": "price",
         "rawType": "float64",
         "type": "float"
        },
        {
         "name": "bhk",
         "rawType": "object",
         "type": "string"
        }
       ],
       "conversionMethod": "pd.DataFrame",
       "ref": "48d6ff26-a4c4-4a75-a36b-26580ffa3d6a",
       "rows": [
        [
         "0",
         "Electronic City Phase II",
         "1056.0",
         "2.0",
         "39.07",
         "2"
        ],
        [
         "1",
         "Chikka Tirupathi",
         "2600.0",
         "5.0",
         "120.0",
         "4"
        ],
        [
         "2",
         "Uttarahalli",
         "1440.0",
         "2.0",
         "62.0",
         "3"
        ],
        [
         "3",
         "Lingadheeranahalli",
         "1521.0",
         "3.0",
         "95.0",
         "3"
        ],
        [
         "4",
         "Kothanur",
         "1200.0",
         "2.0",
         "51.0",
         "2"
        ]
       ],
       "shape": {
        "columns": 5,
        "rows": 5
       }
      },
      "text/html": [
       "<div>\n",
       "<style scoped>\n",
       "    .dataframe tbody tr th:only-of-type {\n",
       "        vertical-align: middle;\n",
       "    }\n",
       "\n",
       "    .dataframe tbody tr th {\n",
       "        vertical-align: top;\n",
       "    }\n",
       "\n",
       "    .dataframe thead th {\n",
       "        text-align: right;\n",
       "    }\n",
       "</style>\n",
       "<table border=\"1\" class=\"dataframe\">\n",
       "  <thead>\n",
       "    <tr style=\"text-align: right;\">\n",
       "      <th></th>\n",
       "      <th>location</th>\n",
       "      <th>total_sqft</th>\n",
       "      <th>bath</th>\n",
       "      <th>price</th>\n",
       "      <th>bhk</th>\n",
       "    </tr>\n",
       "  </thead>\n",
       "  <tbody>\n",
       "    <tr>\n",
       "      <th>0</th>\n",
       "      <td>Electronic City Phase II</td>\n",
       "      <td>1056.0</td>\n",
       "      <td>2.0</td>\n",
       "      <td>39.07</td>\n",
       "      <td>2</td>\n",
       "    </tr>\n",
       "    <tr>\n",
       "      <th>1</th>\n",
       "      <td>Chikka Tirupathi</td>\n",
       "      <td>2600.0</td>\n",
       "      <td>5.0</td>\n",
       "      <td>120.00</td>\n",
       "      <td>4</td>\n",
       "    </tr>\n",
       "    <tr>\n",
       "      <th>2</th>\n",
       "      <td>Uttarahalli</td>\n",
       "      <td>1440.0</td>\n",
       "      <td>2.0</td>\n",
       "      <td>62.00</td>\n",
       "      <td>3</td>\n",
       "    </tr>\n",
       "    <tr>\n",
       "      <th>3</th>\n",
       "      <td>Lingadheeranahalli</td>\n",
       "      <td>1521.0</td>\n",
       "      <td>3.0</td>\n",
       "      <td>95.00</td>\n",
       "      <td>3</td>\n",
       "    </tr>\n",
       "    <tr>\n",
       "      <th>4</th>\n",
       "      <td>Kothanur</td>\n",
       "      <td>1200.0</td>\n",
       "      <td>2.0</td>\n",
       "      <td>51.00</td>\n",
       "      <td>2</td>\n",
       "    </tr>\n",
       "  </tbody>\n",
       "</table>\n",
       "</div>"
      ],
      "text/plain": [
       "                   location  total_sqft  bath   price bhk\n",
       "0  Electronic City Phase II      1056.0   2.0   39.07   2\n",
       "1          Chikka Tirupathi      2600.0   5.0  120.00   4\n",
       "2               Uttarahalli      1440.0   2.0   62.00   3\n",
       "3        Lingadheeranahalli      1521.0   3.0   95.00   3\n",
       "4                  Kothanur      1200.0   2.0   51.00   2"
      ]
     },
     "execution_count": 19,
     "metadata": {},
     "output_type": "execute_result"
    }
   ],
   "source": [
    "df2['total_sqft'] = df2['total_sqft'].apply(convert_sqft_to_float)\n",
    "df2.head()"
   ]
  },
  {
   "cell_type": "code",
   "execution_count": 20,
   "metadata": {},
   "outputs": [
    {
     "data": {
      "text/plain": [
       "location       0\n",
       "total_sqft    46\n",
       "bath           0\n",
       "price          0\n",
       "bhk            0\n",
       "dtype: int64"
      ]
     },
     "execution_count": 20,
     "metadata": {},
     "output_type": "execute_result"
    }
   ],
   "source": [
    "df2.isnull().sum()"
   ]
  },
  {
   "cell_type": "code",
   "execution_count": 21,
   "metadata": {},
   "outputs": [
    {
     "data": {
      "application/vnd.microsoft.datawrangler.viewer.v0+json": {
       "columns": [
        {
         "name": "index",
         "rawType": "int64",
         "type": "integer"
        },
        {
         "name": "location",
         "rawType": "object",
         "type": "string"
        },
        {
         "name": "total_sqft",
         "rawType": "float64",
         "type": "float"
        },
        {
         "name": "bath",
         "rawType": "float64",
         "type": "float"
        },
        {
         "name": "price",
         "rawType": "float64",
         "type": "float"
        },
        {
         "name": "bhk",
         "rawType": "object",
         "type": "string"
        }
       ],
       "conversionMethod": "pd.DataFrame",
       "ref": "f274a1d8-6c2c-40af-a932-e12e7b9ab1b1",
       "rows": [
        [
         "0",
         "Electronic City Phase II",
         "1056.0",
         "2.0",
         "39.07",
         "2"
        ],
        [
         "1",
         "Chikka Tirupathi",
         "2600.0",
         "5.0",
         "120.0",
         "4"
        ],
        [
         "2",
         "Uttarahalli",
         "1440.0",
         "2.0",
         "62.0",
         "3"
        ],
        [
         "3",
         "Lingadheeranahalli",
         "1521.0",
         "3.0",
         "95.0",
         "3"
        ],
        [
         "4",
         "Kothanur",
         "1200.0",
         "2.0",
         "51.0",
         "2"
        ],
        [
         "5",
         "Whitefield",
         "1170.0",
         "2.0",
         "38.0",
         "2"
        ],
        [
         "6",
         "Old Airport Road",
         "2732.0",
         "4.0",
         "204.0",
         "4"
        ],
        [
         "7",
         "Rajaji Nagar",
         "3300.0",
         "4.0",
         "600.0",
         "4"
        ],
        [
         "8",
         "Marathahalli",
         "1310.0",
         "3.0",
         "63.25",
         "3"
        ],
        [
         "9",
         "Gandhi Bazar",
         "1020.0",
         "6.0",
         "370.0",
         "6"
        ],
        [
         "10",
         "Whitefield",
         "1800.0",
         "2.0",
         "70.0",
         "3"
        ],
        [
         "11",
         "Whitefield",
         "2785.0",
         "5.0",
         "295.0",
         "4"
        ],
        [
         "12",
         "7th Phase JP Nagar",
         "1000.0",
         "2.0",
         "38.0",
         "2"
        ],
        [
         "13",
         "Gottigere",
         "1100.0",
         "2.0",
         "40.0",
         "2"
        ],
        [
         "14",
         "Sarjapur",
         "2250.0",
         "3.0",
         "148.0",
         "3"
        ],
        [
         "15",
         "Mysore Road",
         "1175.0",
         "2.0",
         "73.5",
         "2"
        ],
        [
         "16",
         "Bisuvanahalli",
         "1180.0",
         "3.0",
         "48.0",
         "3"
        ],
        [
         "17",
         "Raja Rajeshwari Nagar",
         "1540.0",
         "3.0",
         "60.0",
         "3"
        ],
        [
         "18",
         "Ramakrishnappa Layout",
         "2770.0",
         "4.0",
         "290.0",
         "3"
        ],
        [
         "19",
         "Manayata Tech Park",
         "1100.0",
         "2.0",
         "48.0",
         "2"
        ],
        [
         "20",
         "Kengeri",
         "600.0",
         "1.0",
         "15.0",
         "1"
        ],
        [
         "21",
         "Binny Pete",
         "1755.0",
         "3.0",
         "122.0",
         "3"
        ],
        [
         "22",
         "Thanisandra",
         "2800.0",
         "5.0",
         "380.0",
         "4"
        ],
        [
         "23",
         "Bellandur",
         "1767.0",
         "3.0",
         "103.0",
         "3"
        ],
        [
         "24",
         " Thanisandra",
         "510.0",
         "1.0",
         "25.25",
         "1"
        ],
        [
         "25",
         "Mangammanapalya",
         "1250.0",
         "3.0",
         "56.0",
         "3"
        ],
        [
         "26",
         "Electronic City",
         "660.0",
         "1.0",
         "23.1",
         "2"
        ],
        [
         "27",
         "Whitefield",
         "1610.0",
         "3.0",
         "81.0",
         "3"
        ],
        [
         "28",
         "Ramagondanahalli",
         "1151.0",
         "2.0",
         "48.77",
         "2"
        ],
        [
         "29",
         "Electronic City",
         "1025.0",
         "2.0",
         "47.0",
         "3"
        ],
        [
         "30",
         "Yelahanka",
         "2475.0",
         "4.0",
         "186.0",
         "4"
        ],
        [
         "31",
         "Bisuvanahalli",
         "1075.0",
         "2.0",
         "35.0",
         "3"
        ],
        [
         "32",
         "Hebbal",
         "1760.0",
         "2.0",
         "123.0",
         "3"
        ],
        [
         "33",
         "Raja Rajeshwari Nagar",
         "1693.0",
         "3.0",
         "57.39",
         "3"
        ],
        [
         "34",
         "Kasturi Nagar",
         "1925.0",
         "3.0",
         "125.0",
         "3"
        ],
        [
         "35",
         "Kanakpura Road",
         "700.0",
         "2.0",
         "36.0",
         "2"
        ],
        [
         "36",
         "Electronics City Phase 1",
         "1070.0",
         "2.0",
         "45.5",
         "2"
        ],
        [
         "37",
         "Kundalahalli",
         "1724.0",
         "3.0",
         "125.0",
         "3"
        ],
        [
         "38",
         "Chikkalasandra",
         "1290.0",
         "2.0",
         "56.12",
         "3"
        ],
        [
         "39",
         "Uttarahalli",
         "1143.0",
         "2.0",
         "45.0",
         "2"
        ],
        [
         "40",
         "Murugeshpalya",
         "1296.0",
         "2.0",
         "81.0",
         "2"
        ],
        [
         "41",
         "Sarjapur  Road",
         "1254.0",
         "3.0",
         "38.0",
         "3"
        ],
        [
         "42",
         "Ganga Nagar",
         "600.0",
         "1.0",
         "38.0",
         "1"
        ],
        [
         "43",
         "Yelahanka",
         "660.0",
         "1.0",
         "48.0",
         "1"
        ],
        [
         "44",
         "Kanakpura Road",
         "1330.74",
         "2.0",
         "91.79",
         "2"
        ],
        [
         "45",
         "HSR Layout",
         "600.0",
         "9.0",
         "200.0",
         "8"
        ],
        [
         "46",
         "Doddathoguru",
         "970.0",
         "2.0",
         "33.0",
         "2"
        ],
        [
         "47",
         "Whitefield",
         "1459.0",
         "2.0",
         "94.82",
         "2"
        ],
        [
         "48",
         "KR Puram",
         "800.0",
         "1.0",
         "130.0",
         "2"
        ],
        [
         "49",
         "Himagiri Meadows",
         "869.0",
         "2.0",
         "36.0",
         "2"
        ]
       ],
       "shape": {
        "columns": 5,
        "rows": 13246
       }
      },
      "text/html": [
       "<div>\n",
       "<style scoped>\n",
       "    .dataframe tbody tr th:only-of-type {\n",
       "        vertical-align: middle;\n",
       "    }\n",
       "\n",
       "    .dataframe tbody tr th {\n",
       "        vertical-align: top;\n",
       "    }\n",
       "\n",
       "    .dataframe thead th {\n",
       "        text-align: right;\n",
       "    }\n",
       "</style>\n",
       "<table border=\"1\" class=\"dataframe\">\n",
       "  <thead>\n",
       "    <tr style=\"text-align: right;\">\n",
       "      <th></th>\n",
       "      <th>location</th>\n",
       "      <th>total_sqft</th>\n",
       "      <th>bath</th>\n",
       "      <th>price</th>\n",
       "      <th>bhk</th>\n",
       "    </tr>\n",
       "  </thead>\n",
       "  <tbody>\n",
       "    <tr>\n",
       "      <th>0</th>\n",
       "      <td>Electronic City Phase II</td>\n",
       "      <td>1056.0</td>\n",
       "      <td>2.0</td>\n",
       "      <td>39.07</td>\n",
       "      <td>2</td>\n",
       "    </tr>\n",
       "    <tr>\n",
       "      <th>1</th>\n",
       "      <td>Chikka Tirupathi</td>\n",
       "      <td>2600.0</td>\n",
       "      <td>5.0</td>\n",
       "      <td>120.00</td>\n",
       "      <td>4</td>\n",
       "    </tr>\n",
       "    <tr>\n",
       "      <th>2</th>\n",
       "      <td>Uttarahalli</td>\n",
       "      <td>1440.0</td>\n",
       "      <td>2.0</td>\n",
       "      <td>62.00</td>\n",
       "      <td>3</td>\n",
       "    </tr>\n",
       "    <tr>\n",
       "      <th>3</th>\n",
       "      <td>Lingadheeranahalli</td>\n",
       "      <td>1521.0</td>\n",
       "      <td>3.0</td>\n",
       "      <td>95.00</td>\n",
       "      <td>3</td>\n",
       "    </tr>\n",
       "    <tr>\n",
       "      <th>4</th>\n",
       "      <td>Kothanur</td>\n",
       "      <td>1200.0</td>\n",
       "      <td>2.0</td>\n",
       "      <td>51.00</td>\n",
       "      <td>2</td>\n",
       "    </tr>\n",
       "    <tr>\n",
       "      <th>...</th>\n",
       "      <td>...</td>\n",
       "      <td>...</td>\n",
       "      <td>...</td>\n",
       "      <td>...</td>\n",
       "      <td>...</td>\n",
       "    </tr>\n",
       "    <tr>\n",
       "      <th>13315</th>\n",
       "      <td>Whitefield</td>\n",
       "      <td>3453.0</td>\n",
       "      <td>4.0</td>\n",
       "      <td>231.00</td>\n",
       "      <td>5</td>\n",
       "    </tr>\n",
       "    <tr>\n",
       "      <th>13316</th>\n",
       "      <td>Richards Town</td>\n",
       "      <td>3600.0</td>\n",
       "      <td>5.0</td>\n",
       "      <td>400.00</td>\n",
       "      <td>4</td>\n",
       "    </tr>\n",
       "    <tr>\n",
       "      <th>13317</th>\n",
       "      <td>Raja Rajeshwari Nagar</td>\n",
       "      <td>1141.0</td>\n",
       "      <td>2.0</td>\n",
       "      <td>60.00</td>\n",
       "      <td>2</td>\n",
       "    </tr>\n",
       "    <tr>\n",
       "      <th>13318</th>\n",
       "      <td>Padmanabhanagar</td>\n",
       "      <td>4689.0</td>\n",
       "      <td>4.0</td>\n",
       "      <td>488.00</td>\n",
       "      <td>4</td>\n",
       "    </tr>\n",
       "    <tr>\n",
       "      <th>13319</th>\n",
       "      <td>Doddathoguru</td>\n",
       "      <td>550.0</td>\n",
       "      <td>1.0</td>\n",
       "      <td>17.00</td>\n",
       "      <td>1</td>\n",
       "    </tr>\n",
       "  </tbody>\n",
       "</table>\n",
       "<p>13246 rows × 5 columns</p>\n",
       "</div>"
      ],
      "text/plain": [
       "                       location  total_sqft  bath   price bhk\n",
       "0      Electronic City Phase II      1056.0   2.0   39.07   2\n",
       "1              Chikka Tirupathi      2600.0   5.0  120.00   4\n",
       "2                   Uttarahalli      1440.0   2.0   62.00   3\n",
       "3            Lingadheeranahalli      1521.0   3.0   95.00   3\n",
       "4                      Kothanur      1200.0   2.0   51.00   2\n",
       "...                         ...         ...   ...     ...  ..\n",
       "13315                Whitefield      3453.0   4.0  231.00   5\n",
       "13316             Richards Town      3600.0   5.0  400.00   4\n",
       "13317     Raja Rajeshwari Nagar      1141.0   2.0   60.00   2\n",
       "13318           Padmanabhanagar      4689.0   4.0  488.00   4\n",
       "13319              Doddathoguru       550.0   1.0   17.00   1\n",
       "\n",
       "[13246 rows x 5 columns]"
      ]
     },
     "execution_count": 21,
     "metadata": {},
     "output_type": "execute_result"
    }
   ],
   "source": [
    "df2"
   ]
  },
  {
   "cell_type": "code",
   "execution_count": 22,
   "metadata": {},
   "outputs": [
    {
     "data": {
      "text/plain": [
       "location      Yelahanka\n",
       "total_sqft       2475.0\n",
       "bath                4.0\n",
       "price             186.0\n",
       "bhk                   4\n",
       "Name: 30, dtype: object"
      ]
     },
     "execution_count": 22,
     "metadata": {},
     "output_type": "execute_result"
    }
   ],
   "source": [
    "df2.loc[30]"
   ]
  },
  {
   "cell_type": "code",
   "execution_count": 23,
   "metadata": {},
   "outputs": [
    {
     "data": {
      "application/vnd.microsoft.datawrangler.viewer.v0+json": {
       "columns": [
        {
         "name": "index",
         "rawType": "int64",
         "type": "integer"
        },
        {
         "name": "location",
         "rawType": "object",
         "type": "string"
        },
        {
         "name": "total_sqft",
         "rawType": "float64",
         "type": "float"
        },
        {
         "name": "bath",
         "rawType": "float64",
         "type": "float"
        },
        {
         "name": "price",
         "rawType": "float64",
         "type": "float"
        },
        {
         "name": "bhk",
         "rawType": "object",
         "type": "string"
        },
        {
         "name": "price_per_sqft",
         "rawType": "float64",
         "type": "float"
        }
       ],
       "conversionMethod": "pd.DataFrame",
       "ref": "5b2cfec8-face-4d23-a7b1-9b6ccab53924",
       "rows": [
        [
         "0",
         "Electronic City Phase II",
         "1056.0",
         "2.0",
         "39.07",
         "2",
         "3699.810606060606"
        ],
        [
         "1",
         "Chikka Tirupathi",
         "2600.0",
         "5.0",
         "120.0",
         "4",
         "4615.384615384615"
        ],
        [
         "2",
         "Uttarahalli",
         "1440.0",
         "2.0",
         "62.0",
         "3",
         "4305.555555555556"
        ],
        [
         "3",
         "Lingadheeranahalli",
         "1521.0",
         "3.0",
         "95.0",
         "3",
         "6245.890861275477"
        ],
        [
         "4",
         "Kothanur",
         "1200.0",
         "2.0",
         "51.0",
         "2",
         "4250.0"
        ]
       ],
       "shape": {
        "columns": 6,
        "rows": 5
       }
      },
      "text/html": [
       "<div>\n",
       "<style scoped>\n",
       "    .dataframe tbody tr th:only-of-type {\n",
       "        vertical-align: middle;\n",
       "    }\n",
       "\n",
       "    .dataframe tbody tr th {\n",
       "        vertical-align: top;\n",
       "    }\n",
       "\n",
       "    .dataframe thead th {\n",
       "        text-align: right;\n",
       "    }\n",
       "</style>\n",
       "<table border=\"1\" class=\"dataframe\">\n",
       "  <thead>\n",
       "    <tr style=\"text-align: right;\">\n",
       "      <th></th>\n",
       "      <th>location</th>\n",
       "      <th>total_sqft</th>\n",
       "      <th>bath</th>\n",
       "      <th>price</th>\n",
       "      <th>bhk</th>\n",
       "      <th>price_per_sqft</th>\n",
       "    </tr>\n",
       "  </thead>\n",
       "  <tbody>\n",
       "    <tr>\n",
       "      <th>0</th>\n",
       "      <td>Electronic City Phase II</td>\n",
       "      <td>1056.0</td>\n",
       "      <td>2.0</td>\n",
       "      <td>39.07</td>\n",
       "      <td>2</td>\n",
       "      <td>3699.810606</td>\n",
       "    </tr>\n",
       "    <tr>\n",
       "      <th>1</th>\n",
       "      <td>Chikka Tirupathi</td>\n",
       "      <td>2600.0</td>\n",
       "      <td>5.0</td>\n",
       "      <td>120.00</td>\n",
       "      <td>4</td>\n",
       "      <td>4615.384615</td>\n",
       "    </tr>\n",
       "    <tr>\n",
       "      <th>2</th>\n",
       "      <td>Uttarahalli</td>\n",
       "      <td>1440.0</td>\n",
       "      <td>2.0</td>\n",
       "      <td>62.00</td>\n",
       "      <td>3</td>\n",
       "      <td>4305.555556</td>\n",
       "    </tr>\n",
       "    <tr>\n",
       "      <th>3</th>\n",
       "      <td>Lingadheeranahalli</td>\n",
       "      <td>1521.0</td>\n",
       "      <td>3.0</td>\n",
       "      <td>95.00</td>\n",
       "      <td>3</td>\n",
       "      <td>6245.890861</td>\n",
       "    </tr>\n",
       "    <tr>\n",
       "      <th>4</th>\n",
       "      <td>Kothanur</td>\n",
       "      <td>1200.0</td>\n",
       "      <td>2.0</td>\n",
       "      <td>51.00</td>\n",
       "      <td>2</td>\n",
       "      <td>4250.000000</td>\n",
       "    </tr>\n",
       "  </tbody>\n",
       "</table>\n",
       "</div>"
      ],
      "text/plain": [
       "                   location  total_sqft  bath   price bhk  price_per_sqft\n",
       "0  Electronic City Phase II      1056.0   2.0   39.07   2     3699.810606\n",
       "1          Chikka Tirupathi      2600.0   5.0  120.00   4     4615.384615\n",
       "2               Uttarahalli      1440.0   2.0   62.00   3     4305.555556\n",
       "3        Lingadheeranahalli      1521.0   3.0   95.00   3     6245.890861\n",
       "4                  Kothanur      1200.0   2.0   51.00   2     4250.000000"
      ]
     },
     "execution_count": 23,
     "metadata": {},
     "output_type": "execute_result"
    }
   ],
   "source": [
    "df3 = df2.copy()\n",
    "df3['price_per_sqft'] = df3['price']*100000/df3['total_sqft']\n",
    "df3.head()"
   ]
  },
  {
   "cell_type": "code",
   "execution_count": 24,
   "metadata": {},
   "outputs": [
    {
     "data": {
      "text/plain": [
       "1304"
      ]
     },
     "execution_count": 24,
     "metadata": {},
     "output_type": "execute_result"
    }
   ],
   "source": [
    "len(df3['location'].unique())"
   ]
  },
  {
   "cell_type": "code",
   "execution_count": 25,
   "metadata": {},
   "outputs": [],
   "source": [
    "df3.location = df3.location.apply(lambda x: x.strip())"
   ]
  },
  {
   "cell_type": "code",
   "execution_count": 26,
   "metadata": {},
   "outputs": [],
   "source": [
    "location_stats = df3.groupby(\"location\")['location'].agg('count').sort_values(ascending=False)"
   ]
  },
  {
   "cell_type": "code",
   "execution_count": 27,
   "metadata": {},
   "outputs": [
    {
     "data": {
      "text/plain": [
       "location\n",
       "Whitefield               535\n",
       "Sarjapur  Road           392\n",
       "Electronic City          304\n",
       "Kanakpura Road           266\n",
       "Thanisandra              236\n",
       "                        ... \n",
       "1 Giri Nagar               1\n",
       "Kanakapura Road,           1\n",
       "Kanakapura main  Road      1\n",
       "Karnataka Shabarimala      1\n",
       "whitefiled                 1\n",
       "Name: location, Length: 1293, dtype: int64"
      ]
     },
     "execution_count": 27,
     "metadata": {},
     "output_type": "execute_result"
    }
   ],
   "source": [
    "location_stats"
   ]
  },
  {
   "cell_type": "code",
   "execution_count": 28,
   "metadata": {},
   "outputs": [
    {
     "data": {
      "text/plain": [
       "1052"
      ]
     },
     "execution_count": 28,
     "metadata": {},
     "output_type": "execute_result"
    }
   ],
   "source": [
    "len(location_stats[location_stats<=10])"
   ]
  },
  {
   "cell_type": "code",
   "execution_count": 29,
   "metadata": {},
   "outputs": [
    {
     "data": {
      "text/plain": [
       "location\n",
       "Basapura                 10\n",
       "1st Block Koramangala    10\n",
       "Gunjur Palya             10\n",
       "Kalkere                  10\n",
       "Sector 1 HSR Layout      10\n",
       "                         ..\n",
       "1 Giri Nagar              1\n",
       "Kanakapura Road,          1\n",
       "Kanakapura main  Road     1\n",
       "Karnataka Shabarimala     1\n",
       "whitefiled                1\n",
       "Name: location, Length: 1052, dtype: int64"
      ]
     },
     "execution_count": 29,
     "metadata": {},
     "output_type": "execute_result"
    }
   ],
   "source": [
    "loc_stats_less_10 = location_stats[location_stats<=10]\n",
    "loc_stats_less_10"
   ]
  },
  {
   "cell_type": "code",
   "execution_count": 30,
   "metadata": {},
   "outputs": [
    {
     "data": {
      "text/plain": [
       "1293"
      ]
     },
     "execution_count": 30,
     "metadata": {},
     "output_type": "execute_result"
    }
   ],
   "source": [
    "len(df3.location.unique())"
   ]
  },
  {
   "cell_type": "code",
   "execution_count": 31,
   "metadata": {},
   "outputs": [],
   "source": [
    "df3.location = df3.location.apply(lambda x: 'other' if x in loc_stats_less_10 else x)"
   ]
  },
  {
   "cell_type": "code",
   "execution_count": 32,
   "metadata": {},
   "outputs": [
    {
     "data": {
      "text/plain": [
       "242"
      ]
     },
     "execution_count": 32,
     "metadata": {},
     "output_type": "execute_result"
    }
   ],
   "source": [
    "len(df3.location.unique())"
   ]
  },
  {
   "cell_type": "code",
   "execution_count": 33,
   "metadata": {},
   "outputs": [
    {
     "data": {
      "application/vnd.microsoft.datawrangler.viewer.v0+json": {
       "columns": [
        {
         "name": "index",
         "rawType": "int64",
         "type": "integer"
        },
        {
         "name": "location",
         "rawType": "object",
         "type": "string"
        },
        {
         "name": "total_sqft",
         "rawType": "float64",
         "type": "float"
        },
        {
         "name": "bath",
         "rawType": "float64",
         "type": "float"
        },
        {
         "name": "price",
         "rawType": "float64",
         "type": "float"
        },
        {
         "name": "bhk",
         "rawType": "object",
         "type": "string"
        },
        {
         "name": "price_per_sqft",
         "rawType": "float64",
         "type": "float"
        }
       ],
       "conversionMethod": "pd.DataFrame",
       "ref": "8d97cdb4-b45d-4595-91f2-ffcde2465270",
       "rows": [
        [
         "0",
         "Electronic City Phase II",
         "1056.0",
         "2.0",
         "39.07",
         "2",
         "3699.810606060606"
        ],
        [
         "1",
         "Chikka Tirupathi",
         "2600.0",
         "5.0",
         "120.0",
         "4",
         "4615.384615384615"
        ],
        [
         "2",
         "Uttarahalli",
         "1440.0",
         "2.0",
         "62.0",
         "3",
         "4305.555555555556"
        ],
        [
         "3",
         "Lingadheeranahalli",
         "1521.0",
         "3.0",
         "95.0",
         "3",
         "6245.890861275477"
        ],
        [
         "4",
         "Kothanur",
         "1200.0",
         "2.0",
         "51.0",
         "2",
         "4250.0"
        ],
        [
         "5",
         "Whitefield",
         "1170.0",
         "2.0",
         "38.0",
         "2",
         "3247.863247863248"
        ],
        [
         "6",
         "Old Airport Road",
         "2732.0",
         "4.0",
         "204.0",
         "4",
         "7467.0571010248905"
        ],
        [
         "7",
         "Rajaji Nagar",
         "3300.0",
         "4.0",
         "600.0",
         "4",
         "18181.81818181818"
        ],
        [
         "8",
         "Marathahalli",
         "1310.0",
         "3.0",
         "63.25",
         "3",
         "4828.244274809161"
        ],
        [
         "9",
         "other",
         "1020.0",
         "6.0",
         "370.0",
         "6",
         "36274.509803921566"
        ],
        [
         "10",
         "Whitefield",
         "1800.0",
         "2.0",
         "70.0",
         "3",
         "3888.8888888888887"
        ],
        [
         "11",
         "Whitefield",
         "2785.0",
         "5.0",
         "295.0",
         "4",
         "10592.45960502693"
        ],
        [
         "12",
         "7th Phase JP Nagar",
         "1000.0",
         "2.0",
         "38.0",
         "2",
         "3800.0"
        ],
        [
         "13",
         "Gottigere",
         "1100.0",
         "2.0",
         "40.0",
         "2",
         "3636.3636363636365"
        ],
        [
         "14",
         "Sarjapur",
         "2250.0",
         "3.0",
         "148.0",
         "3",
         "6577.777777777777"
        ],
        [
         "15",
         "Mysore Road",
         "1175.0",
         "2.0",
         "73.5",
         "2",
         "6255.31914893617"
        ],
        [
         "16",
         "Bisuvanahalli",
         "1180.0",
         "3.0",
         "48.0",
         "3",
         "4067.7966101694915"
        ],
        [
         "17",
         "Raja Rajeshwari Nagar",
         "1540.0",
         "3.0",
         "60.0",
         "3",
         "3896.103896103896"
        ],
        [
         "18",
         "other",
         "2770.0",
         "4.0",
         "290.0",
         "3",
         "10469.314079422382"
        ],
        [
         "19",
         "other",
         "1100.0",
         "2.0",
         "48.0",
         "2",
         "4363.636363636364"
        ],
        [
         "20",
         "Kengeri",
         "600.0",
         "1.0",
         "15.0",
         "1",
         "2500.0"
        ],
        [
         "21",
         "Binny Pete",
         "1755.0",
         "3.0",
         "122.0",
         "3",
         "6951.5669515669515"
        ],
        [
         "22",
         "Thanisandra",
         "2800.0",
         "5.0",
         "380.0",
         "4",
         "13571.42857142857"
        ],
        [
         "23",
         "Bellandur",
         "1767.0",
         "3.0",
         "103.0",
         "3",
         "5829.088851160159"
        ],
        [
         "24",
         "Thanisandra",
         "510.0",
         "1.0",
         "25.25",
         "1",
         "4950.980392156863"
        ],
        [
         "25",
         "other",
         "1250.0",
         "3.0",
         "56.0",
         "3",
         "4480.0"
        ],
        [
         "26",
         "Electronic City",
         "660.0",
         "1.0",
         "23.1",
         "2",
         "3500.0"
        ],
        [
         "27",
         "Whitefield",
         "1610.0",
         "3.0",
         "81.0",
         "3",
         "5031.055900621118"
        ],
        [
         "28",
         "Ramagondanahalli",
         "1151.0",
         "2.0",
         "48.77",
         "2",
         "4237.185056472633"
        ],
        [
         "29",
         "Electronic City",
         "1025.0",
         "2.0",
         "47.0",
         "3",
         "4585.365853658536"
        ],
        [
         "30",
         "Yelahanka",
         "2475.0",
         "4.0",
         "186.0",
         "4",
         "7515.151515151515"
        ],
        [
         "31",
         "Bisuvanahalli",
         "1075.0",
         "2.0",
         "35.0",
         "3",
         "3255.813953488372"
        ],
        [
         "32",
         "Hebbal",
         "1760.0",
         "2.0",
         "123.0",
         "3",
         "6988.636363636364"
        ],
        [
         "33",
         "Raja Rajeshwari Nagar",
         "1693.0",
         "3.0",
         "57.39",
         "3",
         "3389.84051978736"
        ],
        [
         "34",
         "Kasturi Nagar",
         "1925.0",
         "3.0",
         "125.0",
         "3",
         "6493.506493506494"
        ],
        [
         "35",
         "Kanakpura Road",
         "700.0",
         "2.0",
         "36.0",
         "2",
         "5142.857142857143"
        ],
        [
         "36",
         "Electronics City Phase 1",
         "1070.0",
         "2.0",
         "45.5",
         "2",
         "4252.336448598131"
        ],
        [
         "37",
         "Kundalahalli",
         "1724.0",
         "3.0",
         "125.0",
         "3",
         "7250.580046403712"
        ],
        [
         "38",
         "Chikkalasandra",
         "1290.0",
         "2.0",
         "56.12",
         "3",
         "4350.387596899225"
        ],
        [
         "39",
         "Uttarahalli",
         "1143.0",
         "2.0",
         "45.0",
         "2",
         "3937.0078740157483"
        ],
        [
         "40",
         "Murugeshpalya",
         "1296.0",
         "2.0",
         "81.0",
         "2",
         "6250.0"
        ],
        [
         "41",
         "Sarjapur  Road",
         "1254.0",
         "3.0",
         "38.0",
         "3",
         "3030.3030303030305"
        ],
        [
         "42",
         "other",
         "600.0",
         "1.0",
         "38.0",
         "1",
         "6333.333333333333"
        ],
        [
         "43",
         "Yelahanka",
         "660.0",
         "1.0",
         "48.0",
         "1",
         "7272.727272727273"
        ],
        [
         "44",
         "Kanakpura Road",
         "1330.74",
         "2.0",
         "91.79",
         "2",
         "6897.665960292769"
        ],
        [
         "45",
         "HSR Layout",
         "600.0",
         "9.0",
         "200.0",
         "8",
         "33333.333333333336"
        ],
        [
         "46",
         "Doddathoguru",
         "970.0",
         "2.0",
         "33.0",
         "2",
         "3402.061855670103"
        ],
        [
         "47",
         "Whitefield",
         "1459.0",
         "2.0",
         "94.82",
         "2",
         "6498.971898560658"
        ],
        [
         "48",
         "KR Puram",
         "800.0",
         "1.0",
         "130.0",
         "2",
         "16250.0"
        ],
        [
         "49",
         "other",
         "869.0",
         "2.0",
         "36.0",
         "2",
         "4142.692750287687"
        ]
       ],
       "shape": {
        "columns": 6,
        "rows": 13246
       }
      },
      "text/html": [
       "<div>\n",
       "<style scoped>\n",
       "    .dataframe tbody tr th:only-of-type {\n",
       "        vertical-align: middle;\n",
       "    }\n",
       "\n",
       "    .dataframe tbody tr th {\n",
       "        vertical-align: top;\n",
       "    }\n",
       "\n",
       "    .dataframe thead th {\n",
       "        text-align: right;\n",
       "    }\n",
       "</style>\n",
       "<table border=\"1\" class=\"dataframe\">\n",
       "  <thead>\n",
       "    <tr style=\"text-align: right;\">\n",
       "      <th></th>\n",
       "      <th>location</th>\n",
       "      <th>total_sqft</th>\n",
       "      <th>bath</th>\n",
       "      <th>price</th>\n",
       "      <th>bhk</th>\n",
       "      <th>price_per_sqft</th>\n",
       "    </tr>\n",
       "  </thead>\n",
       "  <tbody>\n",
       "    <tr>\n",
       "      <th>0</th>\n",
       "      <td>Electronic City Phase II</td>\n",
       "      <td>1056.0</td>\n",
       "      <td>2.0</td>\n",
       "      <td>39.07</td>\n",
       "      <td>2</td>\n",
       "      <td>3699.810606</td>\n",
       "    </tr>\n",
       "    <tr>\n",
       "      <th>1</th>\n",
       "      <td>Chikka Tirupathi</td>\n",
       "      <td>2600.0</td>\n",
       "      <td>5.0</td>\n",
       "      <td>120.00</td>\n",
       "      <td>4</td>\n",
       "      <td>4615.384615</td>\n",
       "    </tr>\n",
       "    <tr>\n",
       "      <th>2</th>\n",
       "      <td>Uttarahalli</td>\n",
       "      <td>1440.0</td>\n",
       "      <td>2.0</td>\n",
       "      <td>62.00</td>\n",
       "      <td>3</td>\n",
       "      <td>4305.555556</td>\n",
       "    </tr>\n",
       "    <tr>\n",
       "      <th>3</th>\n",
       "      <td>Lingadheeranahalli</td>\n",
       "      <td>1521.0</td>\n",
       "      <td>3.0</td>\n",
       "      <td>95.00</td>\n",
       "      <td>3</td>\n",
       "      <td>6245.890861</td>\n",
       "    </tr>\n",
       "    <tr>\n",
       "      <th>4</th>\n",
       "      <td>Kothanur</td>\n",
       "      <td>1200.0</td>\n",
       "      <td>2.0</td>\n",
       "      <td>51.00</td>\n",
       "      <td>2</td>\n",
       "      <td>4250.000000</td>\n",
       "    </tr>\n",
       "    <tr>\n",
       "      <th>...</th>\n",
       "      <td>...</td>\n",
       "      <td>...</td>\n",
       "      <td>...</td>\n",
       "      <td>...</td>\n",
       "      <td>...</td>\n",
       "      <td>...</td>\n",
       "    </tr>\n",
       "    <tr>\n",
       "      <th>13315</th>\n",
       "      <td>Whitefield</td>\n",
       "      <td>3453.0</td>\n",
       "      <td>4.0</td>\n",
       "      <td>231.00</td>\n",
       "      <td>5</td>\n",
       "      <td>6689.834926</td>\n",
       "    </tr>\n",
       "    <tr>\n",
       "      <th>13316</th>\n",
       "      <td>other</td>\n",
       "      <td>3600.0</td>\n",
       "      <td>5.0</td>\n",
       "      <td>400.00</td>\n",
       "      <td>4</td>\n",
       "      <td>11111.111111</td>\n",
       "    </tr>\n",
       "    <tr>\n",
       "      <th>13317</th>\n",
       "      <td>Raja Rajeshwari Nagar</td>\n",
       "      <td>1141.0</td>\n",
       "      <td>2.0</td>\n",
       "      <td>60.00</td>\n",
       "      <td>2</td>\n",
       "      <td>5258.545136</td>\n",
       "    </tr>\n",
       "    <tr>\n",
       "      <th>13318</th>\n",
       "      <td>Padmanabhanagar</td>\n",
       "      <td>4689.0</td>\n",
       "      <td>4.0</td>\n",
       "      <td>488.00</td>\n",
       "      <td>4</td>\n",
       "      <td>10407.336319</td>\n",
       "    </tr>\n",
       "    <tr>\n",
       "      <th>13319</th>\n",
       "      <td>Doddathoguru</td>\n",
       "      <td>550.0</td>\n",
       "      <td>1.0</td>\n",
       "      <td>17.00</td>\n",
       "      <td>1</td>\n",
       "      <td>3090.909091</td>\n",
       "    </tr>\n",
       "  </tbody>\n",
       "</table>\n",
       "<p>13246 rows × 6 columns</p>\n",
       "</div>"
      ],
      "text/plain": [
       "                       location  total_sqft  bath   price bhk  price_per_sqft\n",
       "0      Electronic City Phase II      1056.0   2.0   39.07   2     3699.810606\n",
       "1              Chikka Tirupathi      2600.0   5.0  120.00   4     4615.384615\n",
       "2                   Uttarahalli      1440.0   2.0   62.00   3     4305.555556\n",
       "3            Lingadheeranahalli      1521.0   3.0   95.00   3     6245.890861\n",
       "4                      Kothanur      1200.0   2.0   51.00   2     4250.000000\n",
       "...                         ...         ...   ...     ...  ..             ...\n",
       "13315                Whitefield      3453.0   4.0  231.00   5     6689.834926\n",
       "13316                     other      3600.0   5.0  400.00   4    11111.111111\n",
       "13317     Raja Rajeshwari Nagar      1141.0   2.0   60.00   2     5258.545136\n",
       "13318           Padmanabhanagar      4689.0   4.0  488.00   4    10407.336319\n",
       "13319              Doddathoguru       550.0   1.0   17.00   1     3090.909091\n",
       "\n",
       "[13246 rows x 6 columns]"
      ]
     },
     "execution_count": 33,
     "metadata": {},
     "output_type": "execute_result"
    }
   ],
   "source": [
    "df3"
   ]
  },
  {
   "cell_type": "code",
   "execution_count": 34,
   "metadata": {},
   "outputs": [],
   "source": [
    "df3 = df3.dropna(subset=['total_sqft'])"
   ]
  },
  {
   "cell_type": "code",
   "execution_count": 35,
   "metadata": {},
   "outputs": [
    {
     "name": "stderr",
     "output_type": "stream",
     "text": [
      "C:\\Users\\smitp\\AppData\\Local\\Temp\\ipykernel_16144\\3191348214.py:1: SettingWithCopyWarning: \n",
      "A value is trying to be set on a copy of a slice from a DataFrame.\n",
      "Try using .loc[row_indexer,col_indexer] = value instead\n",
      "\n",
      "See the caveats in the documentation: https://pandas.pydata.org/pandas-docs/stable/user_guide/indexing.html#returning-a-view-versus-a-copy\n",
      "  df3['bhk'] = df3['bhk'].astype(int)\n"
     ]
    }
   ],
   "source": [
    "df3['bhk'] = df3['bhk'].astype(int)"
   ]
  },
  {
   "cell_type": "code",
   "execution_count": 36,
   "metadata": {},
   "outputs": [
    {
     "data": {
      "application/vnd.microsoft.datawrangler.viewer.v0+json": {
       "columns": [
        {
         "name": "index",
         "rawType": "int64",
         "type": "integer"
        },
        {
         "name": "location",
         "rawType": "object",
         "type": "string"
        },
        {
         "name": "total_sqft",
         "rawType": "float64",
         "type": "float"
        },
        {
         "name": "bath",
         "rawType": "float64",
         "type": "float"
        },
        {
         "name": "price",
         "rawType": "float64",
         "type": "float"
        },
        {
         "name": "bhk",
         "rawType": "int32",
         "type": "integer"
        },
        {
         "name": "price_per_sqft",
         "rawType": "float64",
         "type": "float"
        }
       ],
       "conversionMethod": "pd.DataFrame",
       "ref": "1bac23ac-1da3-4d79-8e22-f63a10d4beea",
       "rows": [
        [
         "9",
         "other",
         "1020.0",
         "6.0",
         "370.0",
         "6",
         "36274.509803921566"
        ],
        [
         "45",
         "HSR Layout",
         "600.0",
         "9.0",
         "200.0",
         "8",
         "33333.333333333336"
        ],
        [
         "58",
         "Murugeshpalya",
         "1407.0",
         "4.0",
         "150.0",
         "6",
         "10660.980810234541"
        ],
        [
         "68",
         "Devarachikkanahalli",
         "1350.0",
         "7.0",
         "85.0",
         "8",
         "6296.2962962962965"
        ],
        [
         "70",
         "other",
         "500.0",
         "3.0",
         "100.0",
         "3",
         "20000.0"
        ],
        [
         "78",
         "Kaval Byrasandra",
         "460.0",
         "1.0",
         "22.0",
         "2",
         "4782.608695652174"
        ],
        [
         "89",
         "Rajaji Nagar",
         "710.0",
         "6.0",
         "160.0",
         "6",
         "22535.211267605635"
        ],
        [
         "119",
         "Hennur Road",
         "276.0",
         "3.0",
         "23.0",
         "2",
         "8333.333333333334"
        ],
        [
         "129",
         "Vishwapriya Layout",
         "950.0",
         "7.0",
         "115.0",
         "7",
         "12105.263157894737"
        ],
        [
         "149",
         "other",
         "1034.0",
         "5.0",
         "185.0",
         "6",
         "17891.682785299807"
        ],
        [
         "170",
         "other",
         "1300.0",
         "6.0",
         "99.0",
         "6",
         "7615.384615384615"
        ],
        [
         "176",
         "Kumaraswami Layout",
         "600.0",
         "3.0",
         "85.0",
         "5",
         "14166.666666666666"
        ],
        [
         "193",
         "other",
         "1800.0",
         "7.0",
         "250.0",
         "7",
         "13888.888888888889"
        ],
        [
         "258",
         "other",
         "1200.0",
         "5.0",
         "170.0",
         "5",
         "14166.666666666666"
        ],
        [
         "282",
         "other",
         "1450.0",
         "6.0",
         "250.0",
         "6",
         "17241.379310344826"
        ],
        [
         "299",
         "Giri Nagar",
         "880.0",
         "3.0",
         "140.0",
         "3",
         "15909.09090909091"
        ],
        [
         "315",
         "other",
         "1200.0",
         "5.0",
         "180.0",
         "5",
         "15000.0"
        ],
        [
         "349",
         "other",
         "11.0",
         "3.0",
         "74.0",
         "3",
         "672727.2727272727"
        ],
        [
         "397",
         "other",
         "700.0",
         "3.0",
         "120.0",
         "6",
         "17142.85714285714"
        ],
        [
         "409",
         "Sultan Palaya",
         "550.0",
         "1.0",
         "62.0",
         "2",
         "11272.727272727272"
        ],
        [
         "413",
         "Mahalakshmi Layout",
         "1200.0",
         "7.0",
         "250.0",
         "6",
         "20833.333333333332"
        ],
        [
         "425",
         "Chandapura",
         "1533.0",
         "5.0",
         "85.0",
         "6",
         "5544.683626875408"
        ],
        [
         "434",
         "7th Phase JP Nagar",
         "1200.0",
         "8.0",
         "250.0",
         "8",
         "20833.333333333332"
        ],
        [
         "480",
         "other",
         "1150.0",
         "4.0",
         "260.0",
         "4",
         "22608.695652173912"
        ],
        [
         "481",
         "Basavangudi",
         "1125.0",
         "4.0",
         "180.0",
         "4",
         "16000.0"
        ],
        [
         "482",
         "Kenchenahalli",
         "500.0",
         "3.0",
         "65.0",
         "5",
         "13000.0"
        ],
        [
         "483",
         "other",
         "1200.0",
         "5.0",
         "190.0",
         "5",
         "15833.333333333334"
        ],
        [
         "491",
         "Banjara Layout",
         "600.0",
         "3.0",
         "58.0",
         "3",
         "9666.666666666666"
        ],
        [
         "513",
         "8th Phase JP Nagar",
         "660.0",
         "4.0",
         "90.0",
         "4",
         "13636.363636363636"
        ],
        [
         "554",
         "Hosa Road",
         "1300.0",
         "6.0",
         "145.0",
         "6",
         "11153.846153846154"
        ],
        [
         "614",
         "Margondanahalli",
         "940.0",
         "4.0",
         "150.0",
         "5",
         "15957.446808510638"
        ],
        [
         "677",
         "Hormavu",
         "1200.0",
         "7.0",
         "150.0",
         "7",
         "12500.0"
        ],
        [
         "679",
         "other",
         "1200.0",
         "5.0",
         "100.0",
         "5",
         "8333.333333333334"
        ],
        [
         "727",
         "other",
         "1210.0",
         "4.0",
         "160.0",
         "5",
         "13223.140495867769"
        ],
        [
         "757",
         "other",
         "1000.0",
         "4.0",
         "160.0",
         "5",
         "16000.0"
        ],
        [
         "770",
         "other",
         "600.0",
         "9.0",
         "190.0",
         "9",
         "31666.666666666668"
        ],
        [
         "783",
         "other",
         "900.0",
         "7.0",
         "76.0",
         "6",
         "8444.444444444445"
        ],
        [
         "789",
         "other",
         "600.0",
         "4.0",
         "65.0",
         "6",
         "10833.333333333334"
        ],
        [
         "794",
         "other",
         "1875.0",
         "2.0",
         "300.0",
         "7",
         "16000.0"
        ],
        [
         "807",
         "HBR Layout",
         "675.0",
         "3.0",
         "59.0",
         "4",
         "8740.74074074074"
        ],
        [
         "833",
         "other",
         "460.0",
         "1.0",
         "15.0",
         "2",
         "3260.8695652173915"
        ],
        [
         "838",
         "TC Palaya",
         "1000.0",
         "6.0",
         "69.0",
         "6",
         "6900.0"
        ],
        [
         "857",
         "Vijayanagar",
         "600.0",
         "4.0",
         "72.0",
         "8",
         "12000.0"
        ],
        [
         "860",
         "Raja Rajeshwari Nagar",
         "1200.0",
         "4.0",
         "125.0",
         "6",
         "10416.666666666666"
        ],
        [
         "866",
         "other",
         "900.0",
         "3.0",
         "80.0",
         "5",
         "8888.888888888889"
        ],
        [
         "938",
         "5th Phase JP Nagar",
         "1260.0",
         "11.0",
         "290.0",
         "9",
         "23015.873015873014"
        ],
        [
         "946",
         "Kammanahalli",
         "1080.0",
         "3.0",
         "155.0",
         "4",
         "14351.851851851852"
        ],
        [
         "956",
         "Marathahalli",
         "700.0",
         "4.0",
         "72.0",
         "4",
         "10285.714285714286"
        ],
        [
         "961",
         "Kothannur",
         "600.0",
         "4.0",
         "95.0",
         "3",
         "15833.333333333334"
        ],
        [
         "976",
         "Uttarahalli",
         "1200.0",
         "4.0",
         "225.0",
         "6",
         "18750.0"
        ]
       ],
       "shape": {
        "columns": 6,
        "rows": 744
       }
      },
      "text/html": [
       "<div>\n",
       "<style scoped>\n",
       "    .dataframe tbody tr th:only-of-type {\n",
       "        vertical-align: middle;\n",
       "    }\n",
       "\n",
       "    .dataframe tbody tr th {\n",
       "        vertical-align: top;\n",
       "    }\n",
       "\n",
       "    .dataframe thead th {\n",
       "        text-align: right;\n",
       "    }\n",
       "</style>\n",
       "<table border=\"1\" class=\"dataframe\">\n",
       "  <thead>\n",
       "    <tr style=\"text-align: right;\">\n",
       "      <th></th>\n",
       "      <th>location</th>\n",
       "      <th>total_sqft</th>\n",
       "      <th>bath</th>\n",
       "      <th>price</th>\n",
       "      <th>bhk</th>\n",
       "      <th>price_per_sqft</th>\n",
       "    </tr>\n",
       "  </thead>\n",
       "  <tbody>\n",
       "    <tr>\n",
       "      <th>9</th>\n",
       "      <td>other</td>\n",
       "      <td>1020.0</td>\n",
       "      <td>6.0</td>\n",
       "      <td>370.0</td>\n",
       "      <td>6</td>\n",
       "      <td>36274.509804</td>\n",
       "    </tr>\n",
       "    <tr>\n",
       "      <th>45</th>\n",
       "      <td>HSR Layout</td>\n",
       "      <td>600.0</td>\n",
       "      <td>9.0</td>\n",
       "      <td>200.0</td>\n",
       "      <td>8</td>\n",
       "      <td>33333.333333</td>\n",
       "    </tr>\n",
       "    <tr>\n",
       "      <th>58</th>\n",
       "      <td>Murugeshpalya</td>\n",
       "      <td>1407.0</td>\n",
       "      <td>4.0</td>\n",
       "      <td>150.0</td>\n",
       "      <td>6</td>\n",
       "      <td>10660.980810</td>\n",
       "    </tr>\n",
       "    <tr>\n",
       "      <th>68</th>\n",
       "      <td>Devarachikkanahalli</td>\n",
       "      <td>1350.0</td>\n",
       "      <td>7.0</td>\n",
       "      <td>85.0</td>\n",
       "      <td>8</td>\n",
       "      <td>6296.296296</td>\n",
       "    </tr>\n",
       "    <tr>\n",
       "      <th>70</th>\n",
       "      <td>other</td>\n",
       "      <td>500.0</td>\n",
       "      <td>3.0</td>\n",
       "      <td>100.0</td>\n",
       "      <td>3</td>\n",
       "      <td>20000.000000</td>\n",
       "    </tr>\n",
       "    <tr>\n",
       "      <th>...</th>\n",
       "      <td>...</td>\n",
       "      <td>...</td>\n",
       "      <td>...</td>\n",
       "      <td>...</td>\n",
       "      <td>...</td>\n",
       "      <td>...</td>\n",
       "    </tr>\n",
       "    <tr>\n",
       "      <th>13277</th>\n",
       "      <td>other</td>\n",
       "      <td>1400.0</td>\n",
       "      <td>7.0</td>\n",
       "      <td>218.0</td>\n",
       "      <td>7</td>\n",
       "      <td>15571.428571</td>\n",
       "    </tr>\n",
       "    <tr>\n",
       "      <th>13279</th>\n",
       "      <td>other</td>\n",
       "      <td>1200.0</td>\n",
       "      <td>5.0</td>\n",
       "      <td>130.0</td>\n",
       "      <td>6</td>\n",
       "      <td>10833.333333</td>\n",
       "    </tr>\n",
       "    <tr>\n",
       "      <th>13281</th>\n",
       "      <td>Margondanahalli</td>\n",
       "      <td>1375.0</td>\n",
       "      <td>5.0</td>\n",
       "      <td>125.0</td>\n",
       "      <td>5</td>\n",
       "      <td>9090.909091</td>\n",
       "    </tr>\n",
       "    <tr>\n",
       "      <th>13303</th>\n",
       "      <td>Vidyaranyapura</td>\n",
       "      <td>774.0</td>\n",
       "      <td>5.0</td>\n",
       "      <td>70.0</td>\n",
       "      <td>5</td>\n",
       "      <td>9043.927649</td>\n",
       "    </tr>\n",
       "    <tr>\n",
       "      <th>13311</th>\n",
       "      <td>Ramamurthy Nagar</td>\n",
       "      <td>1500.0</td>\n",
       "      <td>9.0</td>\n",
       "      <td>250.0</td>\n",
       "      <td>7</td>\n",
       "      <td>16666.666667</td>\n",
       "    </tr>\n",
       "  </tbody>\n",
       "</table>\n",
       "<p>744 rows × 6 columns</p>\n",
       "</div>"
      ],
      "text/plain": [
       "                  location  total_sqft  bath  price  bhk  price_per_sqft\n",
       "9                    other      1020.0   6.0  370.0    6    36274.509804\n",
       "45              HSR Layout       600.0   9.0  200.0    8    33333.333333\n",
       "58           Murugeshpalya      1407.0   4.0  150.0    6    10660.980810\n",
       "68     Devarachikkanahalli      1350.0   7.0   85.0    8     6296.296296\n",
       "70                   other       500.0   3.0  100.0    3    20000.000000\n",
       "...                    ...         ...   ...    ...  ...             ...\n",
       "13277                other      1400.0   7.0  218.0    7    15571.428571\n",
       "13279                other      1200.0   5.0  130.0    6    10833.333333\n",
       "13281      Margondanahalli      1375.0   5.0  125.0    5     9090.909091\n",
       "13303       Vidyaranyapura       774.0   5.0   70.0    5     9043.927649\n",
       "13311     Ramamurthy Nagar      1500.0   9.0  250.0    7    16666.666667\n",
       "\n",
       "[744 rows x 6 columns]"
      ]
     },
     "execution_count": 36,
     "metadata": {},
     "output_type": "execute_result"
    }
   ],
   "source": [
    "df3[(df3['total_sqft']/df3['bhk']<300)]"
   ]
  },
  {
   "cell_type": "code",
   "execution_count": 37,
   "metadata": {},
   "outputs": [
    {
     "data": {
      "text/plain": [
       "(12456, 6)"
      ]
     },
     "execution_count": 37,
     "metadata": {},
     "output_type": "execute_result"
    }
   ],
   "source": [
    "df4 = df3[~(df3['total_sqft']/df3['bhk']<300)]\n",
    "df4.shape"
   ]
  },
  {
   "cell_type": "code",
   "execution_count": 38,
   "metadata": {},
   "outputs": [
    {
     "data": {
      "text/plain": [
       "count     12456.000000\n",
       "mean       6308.502826\n",
       "std        4168.127339\n",
       "min         267.829813\n",
       "25%        4210.526316\n",
       "50%        5294.117647\n",
       "75%        6916.666667\n",
       "max      176470.588235\n",
       "Name: price_per_sqft, dtype: float64"
      ]
     },
     "execution_count": 38,
     "metadata": {},
     "output_type": "execute_result"
    }
   ],
   "source": [
    "df4['price_per_sqft'].describe()"
   ]
  },
  {
   "cell_type": "code",
   "execution_count": 39,
   "metadata": {},
   "outputs": [],
   "source": [
    "def remove_outlier(df):\n",
    "    df_out = pd.DataFrame()\n",
    "    for key, subdf in df.groupby('location'):\n",
    "        m = np.mean(subdf['price_per_sqft'])\n",
    "        std = np.std(subdf['price_per_sqft'])\n",
    "        reduced_df = subdf[(subdf['price_per_sqft'] > (m-std)) & (subdf['price_per_sqft'] <= (m+std))]\n",
    "        df_out = pd.concat([df_out, reduced_df], ignore_index=True)\n",
    "    return df_out"
   ]
  },
  {
   "cell_type": "code",
   "execution_count": 40,
   "metadata": {},
   "outputs": [],
   "source": [
    "df5 = remove_outlier(df4)"
   ]
  },
  {
   "cell_type": "code",
   "execution_count": 41,
   "metadata": {},
   "outputs": [
    {
     "data": {
      "text/plain": [
       "(10241, 6)"
      ]
     },
     "execution_count": 41,
     "metadata": {},
     "output_type": "execute_result"
    }
   ],
   "source": [
    "df5.shape"
   ]
  },
  {
   "cell_type": "code",
   "execution_count": 42,
   "metadata": {},
   "outputs": [
    {
     "name": "stdout",
     "output_type": "stream",
     "text": [
      "<class 'pandas.core.frame.DataFrame'>\n",
      "RangeIndex: 10241 entries, 0 to 10240\n",
      "Data columns (total 6 columns):\n",
      " #   Column          Non-Null Count  Dtype  \n",
      "---  ------          --------------  -----  \n",
      " 0   location        10241 non-null  object \n",
      " 1   total_sqft      10241 non-null  float64\n",
      " 2   bath            10241 non-null  float64\n",
      " 3   price           10241 non-null  float64\n",
      " 4   bhk             10241 non-null  int32  \n",
      " 5   price_per_sqft  10241 non-null  float64\n",
      "dtypes: float64(4), int32(1), object(1)\n",
      "memory usage: 440.2+ KB\n"
     ]
    }
   ],
   "source": [
    "df5.info()"
   ]
  },
  {
   "cell_type": "code",
   "execution_count": 43,
   "metadata": {},
   "outputs": [],
   "source": [
    "def plot_scatter_chart(df,location):\n",
    "    \n",
    "    plt.figure(figsize=(15, 10))\n",
    "\n",
    "    bhk2 = df[(df['location']==location) & (df['bhk']==2)]\n",
    "    bhk3 = df[(df['location']==location) & (df['bhk']==3)]\n",
    "\n",
    "    plt.scatter(bhk2['total_sqft'], bhk2['price'], color='blue',label='2 BHK', s=50)\n",
    "    plt.scatter(bhk3['total_sqft'], bhk3['price'], color='green',label='3 BHK', s=50, marker='+')\n",
    "\n",
    "    plt.xlabel(\"Total Square Feet Area\")\n",
    "    plt.ylabel(\"Price (Lakh Indian Rupees)\")\n",
    "    plt.title(location)\n",
    "\n",
    "    plt.legend()"
   ]
  },
  {
   "cell_type": "code",
   "execution_count": 44,
   "metadata": {},
   "outputs": [
    {
     "data": {
      "image/png": "[encoded data removed]",
      "text/plain": [
       "<Figure size 1500x1000 with 1 Axes>"
      ]
     },
     "metadata": {},
     "output_type": "display_data"
    }
   ],
   "source": [
    "plot_scatter_chart(df5, 'HSR Layout')"
   ]
  },
  {
   "cell_type": "code",
   "execution_count": 45,
   "metadata": {},
   "outputs": [],
   "source": [
    "def remove_bhk_outliers(df):\n",
    "    exclude_indices = np.array([])\n",
    "\n",
    "    for location, location_df in df.groupby('location'):\n",
    "        bhk_stats = {}\n",
    "\n",
    "        for bhk, bhk_df in location_df.groupby('bhk'):\n",
    "            bhk_stats[bhk] = {\n",
    "                'mean': np.mean(bhk_df.price_per_sqft),\n",
    "                'std': np.std(bhk_df.price_per_sqft),\n",
    "                'count': bhk_df.shape[0]\n",
    "            }\n",
    "\n",
    "        for bhk, bhk_df in location_df.groupby('bhk'):\n",
    "            stats = bhk_stats.get(bhk-1)\n",
    "            if stats and stats['count']>5:\n",
    "                exclude_indices = np.append(exclude_indices, bhk_df[bhk_df.price_per_sqft<(stats['mean'])].index.values)\n",
    "                \n",
    "    return df.drop(exclude_indices,axis='index')"
   ]
  },
  {
   "cell_type": "code",
   "execution_count": 46,
   "metadata": {},
   "outputs": [],
   "source": [
    "df6 = remove_bhk_outliers(df5)"
   ]
  },
  {
   "cell_type": "code",
   "execution_count": 47,
   "metadata": {},
   "outputs": [
    {
     "data": {
      "image/png": "[encoded data removed]",
      "text/plain": [
       "<Figure size 1500x1000 with 1 Axes>"
      ]
     },
     "metadata": {},
     "output_type": "display_data"
    }
   ],
   "source": [
    "plot_scatter_chart(df6, 'Hebbal')"
   ]
  },
  {
   "cell_type": "code",
   "execution_count": 48,
   "metadata": {},
   "outputs": [
    {
     "data": {
      "text/plain": [
       "Text(0, 0.5, 'Count')"
      ]
     },
     "execution_count": 48,
     "metadata": {},
     "output_type": "execute_result"
    },
    {
     "data": {
      "image/png": "[encoded data removed]",
      "text/plain": [
       "<Figure size 640x480 with 1 Axes>"
      ]
     },
     "metadata": {},
     "output_type": "display_data"
    }
   ],
   "source": [
    "plt.hist(df6['price_per_sqft'], rwidth=0.8)\n",
    "plt.xlabel('Price per SQFT')\n",
    "plt.ylabel('Count')"
   ]
  },
  {
   "cell_type": "code",
   "execution_count": 49,
   "metadata": {},
   "outputs": [
    {
     "data": {
      "text/plain": [
       "array([ 4.,  3.,  2.,  5.,  8.,  1.,  6.,  7.,  9., 12., 16., 13.])"
      ]
     },
     "execution_count": 49,
     "metadata": {},
     "output_type": "execute_result"
    }
   ],
   "source": [
    "df6['bath'].unique()"
   ]
  },
  {
   "cell_type": "code",
   "execution_count": 50,
   "metadata": {},
   "outputs": [
    {
     "data": {
      "application/vnd.microsoft.datawrangler.viewer.v0+json": {
       "columns": [
        {
         "name": "index",
         "rawType": "int64",
         "type": "integer"
        },
        {
         "name": "location",
         "rawType": "object",
         "type": "string"
        },
        {
         "name": "total_sqft",
         "rawType": "float64",
         "type": "float"
        },
        {
         "name": "bath",
         "rawType": "float64",
         "type": "float"
        },
        {
         "name": "price",
         "rawType": "float64",
         "type": "float"
        },
        {
         "name": "bhk",
         "rawType": "int32",
         "type": "integer"
        },
        {
         "name": "price_per_sqft",
         "rawType": "float64",
         "type": "float"
        }
       ],
       "conversionMethod": "pd.DataFrame",
       "ref": "292958fc-544c-41b6-996c-2b3553b952fb",
       "rows": [
        [
         "5277",
         "Neeladri Nagar",
         "4000.0",
         "12.0",
         "160.0",
         "10",
         "4000.0"
        ],
        [
         "8486",
         "other",
         "12000.0",
         "12.0",
         "525.0",
         "10",
         "4375.0"
        ],
        [
         "8575",
         "other",
         "10000.0",
         "16.0",
         "550.0",
         "16",
         "5500.0"
        ],
        [
         "9308",
         "other",
         "6000.0",
         "12.0",
         "150.0",
         "11",
         "2500.0"
        ],
        [
         "9639",
         "other",
         "5425.0",
         "13.0",
         "275.0",
         "13",
         "5069.124423963133"
        ]
       ],
       "shape": {
        "columns": 6,
        "rows": 5
       }
      },
      "text/html": [
       "<div>\n",
       "<style scoped>\n",
       "    .dataframe tbody tr th:only-of-type {\n",
       "        vertical-align: middle;\n",
       "    }\n",
       "\n",
       "    .dataframe tbody tr th {\n",
       "        vertical-align: top;\n",
       "    }\n",
       "\n",
       "    .dataframe thead th {\n",
       "        text-align: right;\n",
       "    }\n",
       "</style>\n",
       "<table border=\"1\" class=\"dataframe\">\n",
       "  <thead>\n",
       "    <tr style=\"text-align: right;\">\n",
       "      <th></th>\n",
       "      <th>location</th>\n",
       "      <th>total_sqft</th>\n",
       "      <th>bath</th>\n",
       "      <th>price</th>\n",
       "      <th>bhk</th>\n",
       "      <th>price_per_sqft</th>\n",
       "    </tr>\n",
       "  </thead>\n",
       "  <tbody>\n",
       "    <tr>\n",
       "      <th>5277</th>\n",
       "      <td>Neeladri Nagar</td>\n",
       "      <td>4000.0</td>\n",
       "      <td>12.0</td>\n",
       "      <td>160.0</td>\n",
       "      <td>10</td>\n",
       "      <td>4000.000000</td>\n",
       "    </tr>\n",
       "    <tr>\n",
       "      <th>8486</th>\n",
       "      <td>other</td>\n",
       "      <td>12000.0</td>\n",
       "      <td>12.0</td>\n",
       "      <td>525.0</td>\n",
       "      <td>10</td>\n",
       "      <td>4375.000000</td>\n",
       "    </tr>\n",
       "    <tr>\n",
       "      <th>8575</th>\n",
       "      <td>other</td>\n",
       "      <td>10000.0</td>\n",
       "      <td>16.0</td>\n",
       "      <td>550.0</td>\n",
       "      <td>16</td>\n",
       "      <td>5500.000000</td>\n",
       "    </tr>\n",
       "    <tr>\n",
       "      <th>9308</th>\n",
       "      <td>other</td>\n",
       "      <td>6000.0</td>\n",
       "      <td>12.0</td>\n",
       "      <td>150.0</td>\n",
       "      <td>11</td>\n",
       "      <td>2500.000000</td>\n",
       "    </tr>\n",
       "    <tr>\n",
       "      <th>9639</th>\n",
       "      <td>other</td>\n",
       "      <td>5425.0</td>\n",
       "      <td>13.0</td>\n",
       "      <td>275.0</td>\n",
       "      <td>13</td>\n",
       "      <td>5069.124424</td>\n",
       "    </tr>\n",
       "  </tbody>\n",
       "</table>\n",
       "</div>"
      ],
      "text/plain": [
       "            location  total_sqft  bath  price  bhk  price_per_sqft\n",
       "5277  Neeladri Nagar      4000.0  12.0  160.0   10     4000.000000\n",
       "8486           other     12000.0  12.0  525.0   10     4375.000000\n",
       "8575           other     10000.0  16.0  550.0   16     5500.000000\n",
       "9308           other      6000.0  12.0  150.0   11     2500.000000\n",
       "9639           other      5425.0  13.0  275.0   13     5069.124424"
      ]
     },
     "execution_count": 50,
     "metadata": {},
     "output_type": "execute_result"
    }
   ],
   "source": [
    "df6[df6['bath'] > 10]"
   ]
  },
  {
   "cell_type": "code",
   "execution_count": 51,
   "metadata": {},
   "outputs": [
    {
     "data": {
      "text/plain": [
       "Text(0, 0.5, 'Count')"
      ]
     },
     "execution_count": 51,
     "metadata": {},
     "output_type": "execute_result"
    },
    {
     "data": {
      "image/png": "[encoded data removed]",
      "text/plain": [
       "<Figure size 640x480 with 1 Axes>"
      ]
     },
     "metadata": {},
     "output_type": "display_data"
    }
   ],
   "source": [
    "plt.hist(df6['bath'], rwidth=0.8)\n",
    "plt.xlabel('Bathrooms')\n",
    "plt.ylabel('Count')"
   ]
  },
  {
   "cell_type": "code",
   "execution_count": 52,
   "metadata": {},
   "outputs": [
    {
     "data": {
      "application/vnd.microsoft.datawrangler.viewer.v0+json": {
       "columns": [
        {
         "name": "index",
         "rawType": "int64",
         "type": "integer"
        },
        {
         "name": "location",
         "rawType": "object",
         "type": "string"
        },
        {
         "name": "total_sqft",
         "rawType": "float64",
         "type": "float"
        },
        {
         "name": "bath",
         "rawType": "float64",
         "type": "float"
        },
        {
         "name": "price",
         "rawType": "float64",
         "type": "float"
        },
        {
         "name": "bhk",
         "rawType": "int32",
         "type": "integer"
        },
        {
         "name": "price_per_sqft",
         "rawType": "float64",
         "type": "float"
        }
       ],
       "conversionMethod": "pd.DataFrame",
       "ref": "3ddc6bfb-b1f5-48fb-ba89-598d35e0ddc7",
       "rows": [
        [
         "1626",
         "Chikkabanavar",
         "2460.0",
         "7.0",
         "80.0",
         "4",
         "3252.032520325203"
        ],
        [
         "5238",
         "Nagasandra",
         "7000.0",
         "8.0",
         "450.0",
         "4",
         "6428.571428571428"
        ],
        [
         "6711",
         "Thanisandra",
         "1806.0",
         "6.0",
         "116.0",
         "3",
         "6423.034330011074"
        ],
        [
         "8411",
         "other",
         "11338.0",
         "9.0",
         "1000.0",
         "6",
         "8819.897689186806"
        ]
       ],
       "shape": {
        "columns": 6,
        "rows": 4
       }
      },
      "text/html": [
       "<div>\n",
       "<style scoped>\n",
       "    .dataframe tbody tr th:only-of-type {\n",
       "        vertical-align: middle;\n",
       "    }\n",
       "\n",
       "    .dataframe tbody tr th {\n",
       "        vertical-align: top;\n",
       "    }\n",
       "\n",
       "    .dataframe thead th {\n",
       "        text-align: right;\n",
       "    }\n",
       "</style>\n",
       "<table border=\"1\" class=\"dataframe\">\n",
       "  <thead>\n",
       "    <tr style=\"text-align: right;\">\n",
       "      <th></th>\n",
       "      <th>location</th>\n",
       "      <th>total_sqft</th>\n",
       "      <th>bath</th>\n",
       "      <th>price</th>\n",
       "      <th>bhk</th>\n",
       "      <th>price_per_sqft</th>\n",
       "    </tr>\n",
       "  </thead>\n",
       "  <tbody>\n",
       "    <tr>\n",
       "      <th>1626</th>\n",
       "      <td>Chikkabanavar</td>\n",
       "      <td>2460.0</td>\n",
       "      <td>7.0</td>\n",
       "      <td>80.0</td>\n",
       "      <td>4</td>\n",
       "      <td>3252.032520</td>\n",
       "    </tr>\n",
       "    <tr>\n",
       "      <th>5238</th>\n",
       "      <td>Nagasandra</td>\n",
       "      <td>7000.0</td>\n",
       "      <td>8.0</td>\n",
       "      <td>450.0</td>\n",
       "      <td>4</td>\n",
       "      <td>6428.571429</td>\n",
       "    </tr>\n",
       "    <tr>\n",
       "      <th>6711</th>\n",
       "      <td>Thanisandra</td>\n",
       "      <td>1806.0</td>\n",
       "      <td>6.0</td>\n",
       "      <td>116.0</td>\n",
       "      <td>3</td>\n",
       "      <td>6423.034330</td>\n",
       "    </tr>\n",
       "    <tr>\n",
       "      <th>8411</th>\n",
       "      <td>other</td>\n",
       "      <td>11338.0</td>\n",
       "      <td>9.0</td>\n",
       "      <td>1000.0</td>\n",
       "      <td>6</td>\n",
       "      <td>8819.897689</td>\n",
       "    </tr>\n",
       "  </tbody>\n",
       "</table>\n",
       "</div>"
      ],
      "text/plain": [
       "           location  total_sqft  bath   price  bhk  price_per_sqft\n",
       "1626  Chikkabanavar      2460.0   7.0    80.0    4     3252.032520\n",
       "5238     Nagasandra      7000.0   8.0   450.0    4     6428.571429\n",
       "6711    Thanisandra      1806.0   6.0   116.0    3     6423.034330\n",
       "8411          other     11338.0   9.0  1000.0    6     8819.897689"
      ]
     },
     "execution_count": 52,
     "metadata": {},
     "output_type": "execute_result"
    }
   ],
   "source": [
    "df6[df6['bath'] > df6['bhk']+2]"
   ]
  },
  {
   "cell_type": "code",
   "execution_count": 53,
   "metadata": {},
   "outputs": [
    {
     "data": {
      "text/plain": [
       "(7251, 6)"
      ]
     },
     "execution_count": 53,
     "metadata": {},
     "output_type": "execute_result"
    }
   ],
   "source": [
    "df7 = df6[df6['bath'] < df6['bhk']+2]\n",
    "df7.shape"
   ]
  },
  {
   "cell_type": "code",
   "execution_count": 54,
   "metadata": {},
   "outputs": [
    {
     "data": {
      "application/vnd.microsoft.datawrangler.viewer.v0+json": {
       "columns": [
        {
         "name": "index",
         "rawType": "int64",
         "type": "integer"
        },
        {
         "name": "location",
         "rawType": "object",
         "type": "string"
        },
        {
         "name": "total_sqft",
         "rawType": "float64",
         "type": "float"
        },
        {
         "name": "bath",
         "rawType": "float64",
         "type": "float"
        },
        {
         "name": "price",
         "rawType": "float64",
         "type": "float"
        },
        {
         "name": "bhk",
         "rawType": "int32",
         "type": "integer"
        }
       ],
       "conversionMethod": "pd.DataFrame",
       "ref": "05285dc1-c8c1-4cca-97b0-db2aff78b349",
       "rows": [
        [
         "0",
         "1st Block Jayanagar",
         "2850.0",
         "4.0",
         "428.0",
         "4"
        ],
        [
         "1",
         "1st Block Jayanagar",
         "1630.0",
         "3.0",
         "194.0",
         "3"
        ],
        [
         "2",
         "1st Block Jayanagar",
         "1875.0",
         "2.0",
         "235.0",
         "3"
        ],
        [
         "3",
         "1st Block Jayanagar",
         "1200.0",
         "2.0",
         "130.0",
         "3"
        ],
        [
         "4",
         "1st Block Jayanagar",
         "1235.0",
         "2.0",
         "148.0",
         "2"
        ]
       ],
       "shape": {
        "columns": 5,
        "rows": 5
       }
      },
      "text/html": [
       "<div>\n",
       "<style scoped>\n",
       "    .dataframe tbody tr th:only-of-type {\n",
       "        vertical-align: middle;\n",
       "    }\n",
       "\n",
       "    .dataframe tbody tr th {\n",
       "        vertical-align: top;\n",
       "    }\n",
       "\n",
       "    .dataframe thead th {\n",
       "        text-align: right;\n",
       "    }\n",
       "</style>\n",
       "<table border=\"1\" class=\"dataframe\">\n",
       "  <thead>\n",
       "    <tr style=\"text-align: right;\">\n",
       "      <th></th>\n",
       "      <th>location</th>\n",
       "      <th>total_sqft</th>\n",
       "      <th>bath</th>\n",
       "      <th>price</th>\n",
       "      <th>bhk</th>\n",
       "    </tr>\n",
       "  </thead>\n",
       "  <tbody>\n",
       "    <tr>\n",
       "      <th>0</th>\n",
       "      <td>1st Block Jayanagar</td>\n",
       "      <td>2850.0</td>\n",
       "      <td>4.0</td>\n",
       "      <td>428.0</td>\n",
       "      <td>4</td>\n",
       "    </tr>\n",
       "    <tr>\n",
       "      <th>1</th>\n",
       "      <td>1st Block Jayanagar</td>\n",
       "      <td>1630.0</td>\n",
       "      <td>3.0</td>\n",
       "      <td>194.0</td>\n",
       "      <td>3</td>\n",
       "    </tr>\n",
       "    <tr>\n",
       "      <th>2</th>\n",
       "      <td>1st Block Jayanagar</td>\n",
       "      <td>1875.0</td>\n",
       "      <td>2.0</td>\n",
       "      <td>235.0</td>\n",
       "      <td>3</td>\n",
       "    </tr>\n",
       "    <tr>\n",
       "      <th>3</th>\n",
       "      <td>1st Block Jayanagar</td>\n",
       "      <td>1200.0</td>\n",
       "      <td>2.0</td>\n",
       "      <td>130.0</td>\n",
       "      <td>3</td>\n",
       "    </tr>\n",
       "    <tr>\n",
       "      <th>4</th>\n",
       "      <td>1st Block Jayanagar</td>\n",
       "      <td>1235.0</td>\n",
       "      <td>2.0</td>\n",
       "      <td>148.0</td>\n",
       "      <td>2</td>\n",
       "    </tr>\n",
       "  </tbody>\n",
       "</table>\n",
       "</div>"
      ],
      "text/plain": [
       "              location  total_sqft  bath  price  bhk\n",
       "0  1st Block Jayanagar      2850.0   4.0  428.0    4\n",
       "1  1st Block Jayanagar      1630.0   3.0  194.0    3\n",
       "2  1st Block Jayanagar      1875.0   2.0  235.0    3\n",
       "3  1st Block Jayanagar      1200.0   2.0  130.0    3\n",
       "4  1st Block Jayanagar      1235.0   2.0  148.0    2"
      ]
     },
     "execution_count": 54,
     "metadata": {},
     "output_type": "execute_result"
    }
   ],
   "source": [
    "df8 = df7.drop(columns=['price_per_sqft'])\n",
    "df8.head()"
   ]
  },
  {
   "cell_type": "code",
   "execution_count": 55,
   "metadata": {},
   "outputs": [],
   "source": [
    "dummies = pd.get_dummies(df8['location'])"
   ]
  },
  {
   "cell_type": "code",
   "execution_count": 56,
   "metadata": {},
   "outputs": [
    {
     "data": {
      "application/vnd.microsoft.datawrangler.viewer.v0+json": {
       "columns": [
        {
         "name": "index",
         "rawType": "int64",
         "type": "integer"
        },
        {
         "name": "1st Block Jayanagar",
         "rawType": "bool",
         "type": "boolean"
        },
        {
         "name": "1st Phase JP Nagar",
         "rawType": "bool",
         "type": "boolean"
        },
        {
         "name": "2nd Phase Judicial Layout",
         "rawType": "bool",
         "type": "boolean"
        },
        {
         "name": "2nd Stage Nagarbhavi",
         "rawType": "bool",
         "type": "boolean"
        },
        {
         "name": "5th Block Hbr Layout",
         "rawType": "bool",
         "type": "boolean"
        },
        {
         "name": "5th Phase JP Nagar",
         "rawType": "bool",
         "type": "boolean"
        },
        {
         "name": "6th Phase JP Nagar",
         "rawType": "bool",
         "type": "boolean"
        },
        {
         "name": "7th Phase JP Nagar",
         "rawType": "bool",
         "type": "boolean"
        },
        {
         "name": "8th Phase JP Nagar",
         "rawType": "bool",
         "type": "boolean"
        },
        {
         "name": "9th Phase JP Nagar",
         "rawType": "bool",
         "type": "boolean"
        },
        {
         "name": "AECS Layout",
         "rawType": "bool",
         "type": "boolean"
        },
        {
         "name": "Abbigere",
         "rawType": "bool",
         "type": "boolean"
        },
        {
         "name": "Akshaya Nagar",
         "rawType": "bool",
         "type": "boolean"
        },
        {
         "name": "Ambalipura",
         "rawType": "bool",
         "type": "boolean"
        },
        {
         "name": "Ambedkar Nagar",
         "rawType": "bool",
         "type": "boolean"
        },
        {
         "name": "Amruthahalli",
         "rawType": "bool",
         "type": "boolean"
        },
        {
         "name": "Anandapura",
         "rawType": "bool",
         "type": "boolean"
        },
        {
         "name": "Ananth Nagar",
         "rawType": "bool",
         "type": "boolean"
        },
        {
         "name": "Anekal",
         "rawType": "bool",
         "type": "boolean"
        },
        {
         "name": "Anjanapura",
         "rawType": "bool",
         "type": "boolean"
        },
        {
         "name": "Ardendale",
         "rawType": "bool",
         "type": "boolean"
        },
        {
         "name": "Arekere",
         "rawType": "bool",
         "type": "boolean"
        },
        {
         "name": "Attibele",
         "rawType": "bool",
         "type": "boolean"
        },
        {
         "name": "BEML Layout",
         "rawType": "bool",
         "type": "boolean"
        },
        {
         "name": "BTM 2nd Stage",
         "rawType": "bool",
         "type": "boolean"
        },
        {
         "name": "BTM Layout",
         "rawType": "bool",
         "type": "boolean"
        },
        {
         "name": "Babusapalaya",
         "rawType": "bool",
         "type": "boolean"
        },
        {
         "name": "Badavala Nagar",
         "rawType": "bool",
         "type": "boolean"
        },
        {
         "name": "Balagere",
         "rawType": "bool",
         "type": "boolean"
        },
        {
         "name": "Banashankari",
         "rawType": "bool",
         "type": "boolean"
        },
        {
         "name": "Banashankari Stage II",
         "rawType": "bool",
         "type": "boolean"
        },
        {
         "name": "Banashankari Stage III",
         "rawType": "bool",
         "type": "boolean"
        },
        {
         "name": "Banashankari Stage V",
         "rawType": "bool",
         "type": "boolean"
        },
        {
         "name": "Banashankari Stage VI",
         "rawType": "bool",
         "type": "boolean"
        },
        {
         "name": "Banaswadi",
         "rawType": "bool",
         "type": "boolean"
        },
        {
         "name": "Banjara Layout",
         "rawType": "bool",
         "type": "boolean"
        },
        {
         "name": "Bannerghatta",
         "rawType": "bool",
         "type": "boolean"
        },
        {
         "name": "Bannerghatta Road",
         "rawType": "bool",
         "type": "boolean"
        },
        {
         "name": "Basavangudi",
         "rawType": "bool",
         "type": "boolean"
        },
        {
         "name": "Basaveshwara Nagar",
         "rawType": "bool",
         "type": "boolean"
        },
        {
         "name": "Battarahalli",
         "rawType": "bool",
         "type": "boolean"
        },
        {
         "name": "Begur",
         "rawType": "bool",
         "type": "boolean"
        },
        {
         "name": "Begur Road",
         "rawType": "bool",
         "type": "boolean"
        },
        {
         "name": "Bellandur",
         "rawType": "bool",
         "type": "boolean"
        },
        {
         "name": "Benson Town",
         "rawType": "bool",
         "type": "boolean"
        },
        {
         "name": "Bharathi Nagar",
         "rawType": "bool",
         "type": "boolean"
        },
        {
         "name": "Bhoganhalli",
         "rawType": "bool",
         "type": "boolean"
        },
        {
         "name": "Billekahalli",
         "rawType": "bool",
         "type": "boolean"
        },
        {
         "name": "Binny Pete",
         "rawType": "bool",
         "type": "boolean"
        },
        {
         "name": "Bisuvanahalli",
         "rawType": "bool",
         "type": "boolean"
        },
        {
         "name": "Bommanahalli",
         "rawType": "bool",
         "type": "boolean"
        },
        {
         "name": "Bommasandra",
         "rawType": "bool",
         "type": "boolean"
        },
        {
         "name": "Bommasandra Industrial Area",
         "rawType": "bool",
         "type": "boolean"
        },
        {
         "name": "Bommenahalli",
         "rawType": "bool",
         "type": "boolean"
        },
        {
         "name": "Brookefield",
         "rawType": "bool",
         "type": "boolean"
        },
        {
         "name": "Budigere",
         "rawType": "bool",
         "type": "boolean"
        },
        {
         "name": "CV Raman Nagar",
         "rawType": "bool",
         "type": "boolean"
        },
        {
         "name": "Chamrajpet",
         "rawType": "bool",
         "type": "boolean"
        },
        {
         "name": "Chandapura",
         "rawType": "bool",
         "type": "boolean"
        },
        {
         "name": "Channasandra",
         "rawType": "bool",
         "type": "boolean"
        },
        {
         "name": "Chikka Tirupathi",
         "rawType": "bool",
         "type": "boolean"
        },
        {
         "name": "Chikkabanavar",
         "rawType": "bool",
         "type": "boolean"
        },
        {
         "name": "Chikkalasandra",
         "rawType": "bool",
         "type": "boolean"
        },
        {
         "name": "Choodasandra",
         "rawType": "bool",
         "type": "boolean"
        },
        {
         "name": "Cooke Town",
         "rawType": "bool",
         "type": "boolean"
        },
        {
         "name": "Cox Town",
         "rawType": "bool",
         "type": "boolean"
        },
        {
         "name": "Cunningham Road",
         "rawType": "bool",
         "type": "boolean"
        },
        {
         "name": "Dasanapura",
         "rawType": "bool",
         "type": "boolean"
        },
        {
         "name": "Dasarahalli",
         "rawType": "bool",
         "type": "boolean"
        },
        {
         "name": "Devanahalli",
         "rawType": "bool",
         "type": "boolean"
        },
        {
         "name": "Devarachikkanahalli",
         "rawType": "bool",
         "type": "boolean"
        },
        {
         "name": "Dodda Nekkundi",
         "rawType": "bool",
         "type": "boolean"
        },
        {
         "name": "Doddaballapur",
         "rawType": "bool",
         "type": "boolean"
        },
        {
         "name": "Doddakallasandra",
         "rawType": "bool",
         "type": "boolean"
        },
        {
         "name": "Doddathoguru",
         "rawType": "bool",
         "type": "boolean"
        },
        {
         "name": "Domlur",
         "rawType": "bool",
         "type": "boolean"
        },
        {
         "name": "Dommasandra",
         "rawType": "bool",
         "type": "boolean"
        },
        {
         "name": "EPIP Zone",
         "rawType": "bool",
         "type": "boolean"
        },
        {
         "name": "Electronic City",
         "rawType": "bool",
         "type": "boolean"
        },
        {
         "name": "Electronic City Phase II",
         "rawType": "bool",
         "type": "boolean"
        },
        {
         "name": "Electronics City Phase 1",
         "rawType": "bool",
         "type": "boolean"
        },
        {
         "name": "Frazer Town",
         "rawType": "bool",
         "type": "boolean"
        },
        {
         "name": "GM Palaya",
         "rawType": "bool",
         "type": "boolean"
        },
        {
         "name": "Garudachar Palya",
         "rawType": "bool",
         "type": "boolean"
        },
        {
         "name": "Giri Nagar",
         "rawType": "bool",
         "type": "boolean"
        },
        {
         "name": "Gollarapalya Hosahalli",
         "rawType": "bool",
         "type": "boolean"
        },
        {
         "name": "Gottigere",
         "rawType": "bool",
         "type": "boolean"
        },
        {
         "name": "Green Glen Layout",
         "rawType": "bool",
         "type": "boolean"
        },
        {
         "name": "Gubbalala",
         "rawType": "bool",
         "type": "boolean"
        },
        {
         "name": "Gunjur",
         "rawType": "bool",
         "type": "boolean"
        },
        {
         "name": "HAL 2nd Stage",
         "rawType": "bool",
         "type": "boolean"
        },
        {
         "name": "HBR Layout",
         "rawType": "bool",
         "type": "boolean"
        },
        {
         "name": "HRBR Layout",
         "rawType": "bool",
         "type": "boolean"
        },
        {
         "name": "HSR Layout",
         "rawType": "bool",
         "type": "boolean"
        },
        {
         "name": "Haralur Road",
         "rawType": "bool",
         "type": "boolean"
        },
        {
         "name": "Harlur",
         "rawType": "bool",
         "type": "boolean"
        },
        {
         "name": "Hebbal",
         "rawType": "bool",
         "type": "boolean"
        },
        {
         "name": "Hebbal Kempapura",
         "rawType": "bool",
         "type": "boolean"
        },
        {
         "name": "Hegde Nagar",
         "rawType": "bool",
         "type": "boolean"
        },
        {
         "name": "Hennur",
         "rawType": "bool",
         "type": "boolean"
        },
        {
         "name": "Hennur Road",
         "rawType": "bool",
         "type": "boolean"
        },
        {
         "name": "Hoodi",
         "rawType": "bool",
         "type": "boolean"
        },
        {
         "name": "Horamavu Agara",
         "rawType": "bool",
         "type": "boolean"
        },
        {
         "name": "Horamavu Banaswadi",
         "rawType": "bool",
         "type": "boolean"
        },
        {
         "name": "Hormavu",
         "rawType": "bool",
         "type": "boolean"
        },
        {
         "name": "Hosa Road",
         "rawType": "bool",
         "type": "boolean"
        },
        {
         "name": "Hosakerehalli",
         "rawType": "bool",
         "type": "boolean"
        },
        {
         "name": "Hoskote",
         "rawType": "bool",
         "type": "boolean"
        },
        {
         "name": "Hosur Road",
         "rawType": "bool",
         "type": "boolean"
        },
        {
         "name": "Hulimavu",
         "rawType": "bool",
         "type": "boolean"
        },
        {
         "name": "ISRO Layout",
         "rawType": "bool",
         "type": "boolean"
        },
        {
         "name": "ITPL",
         "rawType": "bool",
         "type": "boolean"
        },
        {
         "name": "Iblur Village",
         "rawType": "bool",
         "type": "boolean"
        },
        {
         "name": "Indira Nagar",
         "rawType": "bool",
         "type": "boolean"
        },
        {
         "name": "JP Nagar",
         "rawType": "bool",
         "type": "boolean"
        },
        {
         "name": "Jakkur",
         "rawType": "bool",
         "type": "boolean"
        },
        {
         "name": "Jalahalli",
         "rawType": "bool",
         "type": "boolean"
        },
        {
         "name": "Jalahalli East",
         "rawType": "bool",
         "type": "boolean"
        },
        {
         "name": "Jigani",
         "rawType": "bool",
         "type": "boolean"
        },
        {
         "name": "Judicial Layout",
         "rawType": "bool",
         "type": "boolean"
        },
        {
         "name": "KR Puram",
         "rawType": "bool",
         "type": "boolean"
        },
        {
         "name": "Kadubeesanahalli",
         "rawType": "bool",
         "type": "boolean"
        },
        {
         "name": "Kadugodi",
         "rawType": "bool",
         "type": "boolean"
        },
        {
         "name": "Kaggadasapura",
         "rawType": "bool",
         "type": "boolean"
        },
        {
         "name": "Kaggalipura",
         "rawType": "bool",
         "type": "boolean"
        },
        {
         "name": "Kaikondrahalli",
         "rawType": "bool",
         "type": "boolean"
        },
        {
         "name": "Kalena Agrahara",
         "rawType": "bool",
         "type": "boolean"
        },
        {
         "name": "Kalyan nagar",
         "rawType": "bool",
         "type": "boolean"
        },
        {
         "name": "Kambipura",
         "rawType": "bool",
         "type": "boolean"
        },
        {
         "name": "Kammanahalli",
         "rawType": "bool",
         "type": "boolean"
        },
        {
         "name": "Kammasandra",
         "rawType": "bool",
         "type": "boolean"
        },
        {
         "name": "Kanakapura",
         "rawType": "bool",
         "type": "boolean"
        },
        {
         "name": "Kanakpura Road",
         "rawType": "bool",
         "type": "boolean"
        },
        {
         "name": "Kannamangala",
         "rawType": "bool",
         "type": "boolean"
        },
        {
         "name": "Karuna Nagar",
         "rawType": "bool",
         "type": "boolean"
        },
        {
         "name": "Kasavanhalli",
         "rawType": "bool",
         "type": "boolean"
        },
        {
         "name": "Kasturi Nagar",
         "rawType": "bool",
         "type": "boolean"
        },
        {
         "name": "Kathriguppe",
         "rawType": "bool",
         "type": "boolean"
        },
        {
         "name": "Kaval Byrasandra",
         "rawType": "bool",
         "type": "boolean"
        },
        {
         "name": "Kenchenahalli",
         "rawType": "bool",
         "type": "boolean"
        },
        {
         "name": "Kengeri",
         "rawType": "bool",
         "type": "boolean"
        },
        {
         "name": "Kengeri Satellite Town",
         "rawType": "bool",
         "type": "boolean"
        },
        {
         "name": "Kereguddadahalli",
         "rawType": "bool",
         "type": "boolean"
        },
        {
         "name": "Kodichikkanahalli",
         "rawType": "bool",
         "type": "boolean"
        },
        {
         "name": "Kodigehaali",
         "rawType": "bool",
         "type": "boolean"
        },
        {
         "name": "Kodigehalli",
         "rawType": "bool",
         "type": "boolean"
        },
        {
         "name": "Kodihalli",
         "rawType": "bool",
         "type": "boolean"
        },
        {
         "name": "Kogilu",
         "rawType": "bool",
         "type": "boolean"
        },
        {
         "name": "Konanakunte",
         "rawType": "bool",
         "type": "boolean"
        },
        {
         "name": "Koramangala",
         "rawType": "bool",
         "type": "boolean"
        },
        {
         "name": "Kothannur",
         "rawType": "bool",
         "type": "boolean"
        },
        {
         "name": "Kothanur",
         "rawType": "bool",
         "type": "boolean"
        },
        {
         "name": "Kudlu",
         "rawType": "bool",
         "type": "boolean"
        },
        {
         "name": "Kudlu Gate",
         "rawType": "bool",
         "type": "boolean"
        },
        {
         "name": "Kumaraswami Layout",
         "rawType": "bool",
         "type": "boolean"
        },
        {
         "name": "Kundalahalli",
         "rawType": "bool",
         "type": "boolean"
        },
        {
         "name": "LB Shastri Nagar",
         "rawType": "bool",
         "type": "boolean"
        },
        {
         "name": "Laggere",
         "rawType": "bool",
         "type": "boolean"
        },
        {
         "name": "Lakshminarayana Pura",
         "rawType": "bool",
         "type": "boolean"
        },
        {
         "name": "Lingadheeranahalli",
         "rawType": "bool",
         "type": "boolean"
        },
        {
         "name": "Magadi Road",
         "rawType": "bool",
         "type": "boolean"
        },
        {
         "name": "Mahadevpura",
         "rawType": "bool",
         "type": "boolean"
        },
        {
         "name": "Mahalakshmi Layout",
         "rawType": "bool",
         "type": "boolean"
        },
        {
         "name": "Mallasandra",
         "rawType": "bool",
         "type": "boolean"
        },
        {
         "name": "Malleshpalya",
         "rawType": "bool",
         "type": "boolean"
        },
        {
         "name": "Malleshwaram",
         "rawType": "bool",
         "type": "boolean"
        },
        {
         "name": "Marathahalli",
         "rawType": "bool",
         "type": "boolean"
        },
        {
         "name": "Margondanahalli",
         "rawType": "bool",
         "type": "boolean"
        },
        {
         "name": "Marsur",
         "rawType": "bool",
         "type": "boolean"
        },
        {
         "name": "Mico Layout",
         "rawType": "bool",
         "type": "boolean"
        },
        {
         "name": "Munnekollal",
         "rawType": "bool",
         "type": "boolean"
        },
        {
         "name": "Murugeshpalya",
         "rawType": "bool",
         "type": "boolean"
        },
        {
         "name": "Mysore Road",
         "rawType": "bool",
         "type": "boolean"
        },
        {
         "name": "NGR Layout",
         "rawType": "bool",
         "type": "boolean"
        },
        {
         "name": "NRI Layout",
         "rawType": "bool",
         "type": "boolean"
        },
        {
         "name": "Nagarbhavi",
         "rawType": "bool",
         "type": "boolean"
        },
        {
         "name": "Nagasandra",
         "rawType": "bool",
         "type": "boolean"
        },
        {
         "name": "Nagavara",
         "rawType": "bool",
         "type": "boolean"
        },
        {
         "name": "Nagavarapalya",
         "rawType": "bool",
         "type": "boolean"
        },
        {
         "name": "Narayanapura",
         "rawType": "bool",
         "type": "boolean"
        },
        {
         "name": "Neeladri Nagar",
         "rawType": "bool",
         "type": "boolean"
        },
        {
         "name": "Nehru Nagar",
         "rawType": "bool",
         "type": "boolean"
        },
        {
         "name": "OMBR Layout",
         "rawType": "bool",
         "type": "boolean"
        },
        {
         "name": "Old Airport Road",
         "rawType": "bool",
         "type": "boolean"
        },
        {
         "name": "Old Madras Road",
         "rawType": "bool",
         "type": "boolean"
        },
        {
         "name": "Padmanabhanagar",
         "rawType": "bool",
         "type": "boolean"
        },
        {
         "name": "Pai Layout",
         "rawType": "bool",
         "type": "boolean"
        },
        {
         "name": "Panathur",
         "rawType": "bool",
         "type": "boolean"
        },
        {
         "name": "Parappana Agrahara",
         "rawType": "bool",
         "type": "boolean"
        },
        {
         "name": "Pattandur Agrahara",
         "rawType": "bool",
         "type": "boolean"
        },
        {
         "name": "Poorna Pragna Layout",
         "rawType": "bool",
         "type": "boolean"
        },
        {
         "name": "Prithvi Layout",
         "rawType": "bool",
         "type": "boolean"
        },
        {
         "name": "R.T. Nagar",
         "rawType": "bool",
         "type": "boolean"
        },
        {
         "name": "Rachenahalli",
         "rawType": "bool",
         "type": "boolean"
        },
        {
         "name": "Raja Rajeshwari Nagar",
         "rawType": "bool",
         "type": "boolean"
        },
        {
         "name": "Rajaji Nagar",
         "rawType": "bool",
         "type": "boolean"
        },
        {
         "name": "Rajiv Nagar",
         "rawType": "bool",
         "type": "boolean"
        },
        {
         "name": "Ramagondanahalli",
         "rawType": "bool",
         "type": "boolean"
        },
        {
         "name": "Ramamurthy Nagar",
         "rawType": "bool",
         "type": "boolean"
        },
        {
         "name": "Rayasandra",
         "rawType": "bool",
         "type": "boolean"
        },
        {
         "name": "Sahakara Nagar",
         "rawType": "bool",
         "type": "boolean"
        },
        {
         "name": "Sanjay nagar",
         "rawType": "bool",
         "type": "boolean"
        },
        {
         "name": "Sarakki Nagar",
         "rawType": "bool",
         "type": "boolean"
        },
        {
         "name": "Sarjapur",
         "rawType": "bool",
         "type": "boolean"
        },
        {
         "name": "Sarjapur  Road",
         "rawType": "bool",
         "type": "boolean"
        },
        {
         "name": "Sarjapura - Attibele Road",
         "rawType": "bool",
         "type": "boolean"
        },
        {
         "name": "Sector 2 HSR Layout",
         "rawType": "bool",
         "type": "boolean"
        },
        {
         "name": "Sector 7 HSR Layout",
         "rawType": "bool",
         "type": "boolean"
        },
        {
         "name": "Seegehalli",
         "rawType": "bool",
         "type": "boolean"
        },
        {
         "name": "Shampura",
         "rawType": "bool",
         "type": "boolean"
        },
        {
         "name": "Shivaji Nagar",
         "rawType": "bool",
         "type": "boolean"
        },
        {
         "name": "Singasandra",
         "rawType": "bool",
         "type": "boolean"
        },
        {
         "name": "Somasundara Palya",
         "rawType": "bool",
         "type": "boolean"
        },
        {
         "name": "Sompura",
         "rawType": "bool",
         "type": "boolean"
        },
        {
         "name": "Sonnenahalli",
         "rawType": "bool",
         "type": "boolean"
        },
        {
         "name": "Subramanyapura",
         "rawType": "bool",
         "type": "boolean"
        },
        {
         "name": "Sultan Palaya",
         "rawType": "bool",
         "type": "boolean"
        },
        {
         "name": "TC Palaya",
         "rawType": "bool",
         "type": "boolean"
        },
        {
         "name": "Talaghattapura",
         "rawType": "bool",
         "type": "boolean"
        },
        {
         "name": "Thanisandra",
         "rawType": "bool",
         "type": "boolean"
        },
        {
         "name": "Thigalarapalya",
         "rawType": "bool",
         "type": "boolean"
        },
        {
         "name": "Thubarahalli",
         "rawType": "bool",
         "type": "boolean"
        },
        {
         "name": "Thyagaraja Nagar",
         "rawType": "bool",
         "type": "boolean"
        },
        {
         "name": "Tindlu",
         "rawType": "bool",
         "type": "boolean"
        },
        {
         "name": "Tumkur Road",
         "rawType": "bool",
         "type": "boolean"
        },
        {
         "name": "Ulsoor",
         "rawType": "bool",
         "type": "boolean"
        },
        {
         "name": "Uttarahalli",
         "rawType": "bool",
         "type": "boolean"
        },
        {
         "name": "Varthur",
         "rawType": "bool",
         "type": "boolean"
        },
        {
         "name": "Varthur Road",
         "rawType": "bool",
         "type": "boolean"
        },
        {
         "name": "Vasanthapura",
         "rawType": "bool",
         "type": "boolean"
        },
        {
         "name": "Vidyaranyapura",
         "rawType": "bool",
         "type": "boolean"
        },
        {
         "name": "Vijayanagar",
         "rawType": "bool",
         "type": "boolean"
        },
        {
         "name": "Vishveshwarya Layout",
         "rawType": "bool",
         "type": "boolean"
        },
        {
         "name": "Vishwapriya Layout",
         "rawType": "bool",
         "type": "boolean"
        },
        {
         "name": "Vittasandra",
         "rawType": "bool",
         "type": "boolean"
        },
        {
         "name": "Whitefield",
         "rawType": "bool",
         "type": "boolean"
        },
        {
         "name": "Yelachenahalli",
         "rawType": "bool",
         "type": "boolean"
        },
        {
         "name": "Yelahanka",
         "rawType": "bool",
         "type": "boolean"
        },
        {
         "name": "Yelahanka New Town",
         "rawType": "bool",
         "type": "boolean"
        },
        {
         "name": "Yelenahalli",
         "rawType": "bool",
         "type": "boolean"
        },
        {
         "name": "Yeshwanthpur",
         "rawType": "bool",
         "type": "boolean"
        },
        {
         "name": "other",
         "rawType": "bool",
         "type": "boolean"
        }
       ],
       "conversionMethod": "pd.DataFrame",
       "ref": "d6568973-0218-4538-9c79-7f6ad587449f",
       "rows": [
        [
         "0",
         "True",
         "False",
         "False",
         "False",
         "False",
         "False",
         "False",
         "False",
         "False",
         "False",
         "False",
         "False",
         "False",
         "False",
         "False",
         "False",
         "False",
         "False",
         "False",
         "False",
         "False",
         "False",
         "False",
         "False",
         "False",
         "False",
         "False",
         "False",
         "False",
         "False",
         "False",
         "False",
         "False",
         "False",
         "False",
         "False",
         "False",
         "False",
         "False",
         "False",
         "False",
         "False",
         "False",
         "False",
         "False",
         "False",
         "False",
         "False",
         "False",
         "False",
         "False",
         "False",
         "False",
         "False",
         "False",
         "False",
         "False",
         "False",
         "False",
         "False",
         "False",
         "False",
         "False",
         "False",
         "False",
         "False",
         "False",
         "False",
         "False",
         "False",
         "False",
         "False",
         "False",
         "False",
         "False",
         "False",
         "False",
         "False",
         "False",
         "False",
         "False",
         "False",
         "False",
         "False",
         "False",
         "False",
         "False",
         "False",
         "False",
         "False",
         "False",
         "False",
         "False",
         "False",
         "False",
         "False",
         "False",
         "False",
         "False",
         "False",
         "False",
         "False",
         "False",
         "False",
         "False",
         "False",
         "False",
         "False",
         "False",
         "False",
         "False",
         "False",
         "False",
         "False",
         "False",
         "False",
         "False",
         "False",
         "False",
         "False",
         "False",
         "False",
         "False",
         "False",
         "False",
         "False",
         "False",
         "False",
         "False",
         "False",
         "False",
         "False",
         "False",
         "False",
         "False",
         "False",
         "False",
         "False",
         "False",
         "False",
         "False",
         "False",
         "False",
         "False",
         "False",
         "False",
         "False",
         "False",
         "False",
         "False",
         "False",
         "False",
         "False",
         "False",
         "False",
         "False",
         "False",
         "False",
         "False",
         "False",
         "False",
         "False",
         "False",
         "False",
         "False",
         "False",
         "False",
         "False",
         "False",
         "False",
         "False",
         "False",
         "False",
         "False",
         "False",
         "False",
         "False",
         "False",
         "False",
         "False",
         "False",
         "False",
         "False",
         "False",
         "False",
         "False",
         "False",
         "False",
         "False",
         "False",
         "False",
         "False",
         "False",
         "False",
         "False",
         "False",
         "False",
         "False",
         "False",
         "False",
         "False",
         "False",
         "False",
         "False",
         "False",
         "False",
         "False",
         "False",
         "False",
         "False",
         "False",
         "False",
         "False",
         "False",
         "False",
         "False",
         "False",
         "False",
         "False",
         "False",
         "False",
         "False",
         "False",
         "False",
         "False",
         "False",
         "False",
         "False",
         "False",
         "False",
         "False",
         "False",
         "False",
         "False",
         "False",
         "False",
         "False",
         "False",
         "False",
         "False",
         "False",
         "False"
        ],
        [
         "1",
         "True",
         "False",
         "False",
         "False",
         "False",
         "False",
         "False",
         "False",
         "False",
         "False",
         "False",
         "False",
         "False",
         "False",
         "False",
         "False",
         "False",
         "False",
         "False",
         "False",
         "False",
         "False",
         "False",
         "False",
         "False",
         "False",
         "False",
         "False",
         "False",
         "False",
         "False",
         "False",
         "False",
         "False",
         "False",
         "False",
         "False",
         "False",
         "False",
         "False",
         "False",
         "False",
         "False",
         "False",
         "False",
         "False",
         "False",
         "False",
         "False",
         "False",
         "False",
         "False",
         "False",
         "False",
         "False",
         "False",
         "False",
         "False",
         "False",
         "False",
         "False",
         "False",
         "False",
         "False",
         "False",
         "False",
         "False",
         "False",
         "False",
         "False",
         "False",
         "False",
         "False",
         "False",
         "False",
         "False",
         "False",
         "False",
         "False",
         "False",
         "False",
         "False",
         "False",
         "False",
         "False",
         "False",
         "False",
         "False",
         "False",
         "False",
         "False",
         "False",
         "False",
         "False",
         "False",
         "False",
         "False",
         "False",
         "False",
         "False",
         "False",
         "False",
         "False",
         "False",
         "False",
         "False",
         "False",
         "False",
         "False",
         "False",
         "False",
         "False",
         "False",
         "False",
         "False",
         "False",
         "False",
         "False",
         "False",
         "False",
         "False",
         "False",
         "False",
         "False",
         "False",
         "False",
         "False",
         "False",
         "False",
         "False",
         "False",
         "False",
         "False",
         "False",
         "False",
         "False",
         "False",
         "False",
         "False",
         "False",
         "False",
         "False",
         "False",
         "False",
         "False",
         "False",
         "False",
         "False",
         "False",
         "False",
         "False",
         "False",
         "False",
         "False",
         "False",
         "False",
         "False",
         "False",
         "False",
         "False",
         "False",
         "False",
         "False",
         "False",
         "False",
         "False",
         "False",
         "False",
         "False",
         "False",
         "False",
         "False",
         "False",
         "False",
         "False",
         "False",
         "False",
         "False",
         "False",
         "False",
         "False",
         "False",
         "False",
         "False",
         "False",
         "False",
         "False",
         "False",
         "False",
         "False",
         "False",
         "False",
         "False",
         "False",
         "False",
         "False",
         "False",
         "False",
         "False",
         "False",
         "False",
         "False",
         "False",
         "False",
         "False",
         "False",
         "False",
         "False",
         "False",
         "False",
         "False",
         "False",
         "False",
         "False",
         "False",
         "False",
         "False",
         "False",
         "False",
         "False",
         "False",
         "False",
         "False",
         "False",
         "False",
         "False",
         "False",
         "False",
         "False",
         "False",
         "False",
         "False",
         "False",
         "False",
         "False",
         "False",
         "False",
         "False",
         "False",
         "False",
         "False",
         "False"
        ],
        [
         "2",
         "True",
         "False",
         "False",
         "False",
         "False",
         "False",
         "False",
         "False",
         "False",
         "False",
         "False",
         "False",
         "False",
         "False",
         "False",
         "False",
         "False",
         "False",
         "False",
         "False",
         "False",
         "False",
         "False",
         "False",
         "False",
         "False",
         "False",
         "False",
         "False",
         "False",
         "False",
         "False",
         "False",
         "False",
         "False",
         "False",
         "False",
         "False",
         "False",
         "False",
         "False",
         "False",
         "False",
         "False",
         "False",
         "False",
         "False",
         "False",
         "False",
         "False",
         "False",
         "False",
         "False",
         "False",
         "False",
         "False",
         "False",
         "False",
         "False",
         "False",
         "False",
         "False",
         "False",
         "False",
         "False",
         "False",
         "False",
         "False",
         "False",
         "False",
         "False",
         "False",
         "False",
         "False",
         "False",
         "False",
         "False",
         "False",
         "False",
         "False",
         "False",
         "False",
         "False",
         "False",
         "False",
         "False",
         "False",
         "False",
         "False",
         "False",
         "False",
         "False",
         "False",
         "False",
         "False",
         "False",
         "False",
         "False",
         "False",
         "False",
         "False",
         "False",
         "False",
         "False",
         "False",
         "False",
         "False",
         "False",
         "False",
         "False",
         "False",
         "False",
         "False",
         "False",
         "False",
         "False",
         "False",
         "False",
         "False",
         "False",
         "False",
         "False",
         "False",
         "False",
         "False",
         "False",
         "False",
         "False",
         "False",
         "False",
         "False",
         "False",
         "False",
         "False",
         "False",
         "False",
         "False",
         "False",
         "False",
         "False",
         "False",
         "False",
         "False",
         "False",
         "False",
         "False",
         "False",
         "False",
         "False",
         "False",
         "False",
         "False",
         "False",
         "False",
         "False",
         "False",
         "False",
         "False",
         "False",
         "False",
         "False",
         "False",
         "False",
         "False",
         "False",
         "False",
         "False",
         "False",
         "False",
         "False",
         "False",
         "False",
         "False",
         "False",
         "False",
         "False",
         "False",
         "False",
         "False",
         "False",
         "False",
         "False",
         "False",
         "False",
         "False",
         "False",
         "False",
         "False",
         "False",
         "False",
         "False",
         "False",
         "False",
         "False",
         "False",
         "False",
         "False",
         "False",
         "False",
         "False",
         "False",
         "False",
         "False",
         "False",
         "False",
         "False",
         "False",
         "False",
         "False",
         "False",
         "False",
         "False",
         "False",
         "False",
         "False",
         "False",
         "False",
         "False",
         "False",
         "False",
         "False",
         "False",
         "False",
         "False",
         "False",
         "False",
         "False",
         "False",
         "False",
         "False",
         "False",
         "False",
         "False",
         "False",
         "False",
         "False",
         "False",
         "False",
         "False",
         "False",
         "False",
         "False"
        ],
        [
         "3",
         "True",
         "False",
         "False",
         "False",
         "False",
         "False",
         "False",
         "False",
         "False",
         "False",
         "False",
         "False",
         "False",
         "False",
         "False",
         "False",
         "False",
         "False",
         "False",
         "False",
         "False",
         "False",
         "False",
         "False",
         "False",
         "False",
         "False",
         "False",
         "False",
         "False",
         "False",
         "False",
         "False",
         "False",
         "False",
         "False",
         "False",
         "False",
         "False",
         "False",
         "False",
         "False",
         "False",
         "False",
         "False",
         "False",
         "False",
         "False",
         "False",
         "False",
         "False",
         "False",
         "False",
         "False",
         "False",
         "False",
         "False",
         "False",
         "False",
         "False",
         "False",
         "False",
         "False",
         "False",
         "False",
         "False",
         "False",
         "False",
         "False",
         "False",
         "False",
         "False",
         "False",
         "False",
         "False",
         "False",
         "False",
         "False",
         "False",
         "False",
         "False",
         "False",
         "False",
         "False",
         "False",
         "False",
         "False",
         "False",
         "False",
         "False",
         "False",
         "False",
         "False",
         "False",
         "False",
         "False",
         "False",
         "False",
         "False",
         "False",
         "False",
         "False",
         "False",
         "False",
         "False",
         "False",
         "False",
         "False",
         "False",
         "False",
         "False",
         "False",
         "False",
         "False",
         "False",
         "False",
         "False",
         "False",
         "False",
         "False",
         "False",
         "False",
         "False",
         "False",
         "False",
         "False",
         "False",
         "False",
         "False",
         "False",
         "False",
         "False",
         "False",
         "False",
         "False",
         "False",
         "False",
         "False",
         "False",
         "False",
         "False",
         "False",
         "False",
         "False",
         "False",
         "False",
         "False",
         "False",
         "False",
         "False",
         "False",
         "False",
         "False",
         "False",
         "False",
         "False",
         "False",
         "False",
         "False",
         "False",
         "False",
         "False",
         "False",
         "False",
         "False",
         "False",
         "False",
         "False",
         "False",
         "False",
         "False",
         "False",
         "False",
         "False",
         "False",
         "False",
         "False",
         "False",
         "False",
         "False",
         "False",
         "False",
         "False",
         "False",
         "False",
         "False",
         "False",
         "False",
         "False",
         "False",
         "False",
         "False",
         "False",
         "False",
         "False",
         "False",
         "False",
         "False",
         "False",
         "False",
         "False",
         "False",
         "False",
         "False",
         "False",
         "False",
         "False",
         "False",
         "False",
         "False",
         "False",
         "False",
         "False",
         "False",
         "False",
         "False",
         "False",
         "False",
         "False",
         "False",
         "False",
         "False",
         "False",
         "False",
         "False",
         "False",
         "False",
         "False",
         "False",
         "False",
         "False",
         "False",
         "False",
         "False",
         "False",
         "False",
         "False",
         "False",
         "False",
         "False",
         "False",
         "False"
        ],
        [
         "4",
         "True",
         "False",
         "False",
         "False",
         "False",
         "False",
         "False",
         "False",
         "False",
         "False",
         "False",
         "False",
         "False",
         "False",
         "False",
         "False",
         "False",
         "False",
         "False",
         "False",
         "False",
         "False",
         "False",
         "False",
         "False",
         "False",
         "False",
         "False",
         "False",
         "False",
         "False",
         "False",
         "False",
         "False",
         "False",
         "False",
         "False",
         "False",
         "False",
         "False",
         "False",
         "False",
         "False",
         "False",
         "False",
         "False",
         "False",
         "False",
         "False",
         "False",
         "False",
         "False",
         "False",
         "False",
         "False",
         "False",
         "False",
         "False",
         "False",
         "False",
         "False",
         "False",
         "False",
         "False",
         "False",
         "False",
         "False",
         "False",
         "False",
         "False",
         "False",
         "False",
         "False",
         "False",
         "False",
         "False",
         "False",
         "False",
         "False",
         "False",
         "False",
         "False",
         "False",
         "False",
         "False",
         "False",
         "False",
         "False",
         "False",
         "False",
         "False",
         "False",
         "False",
         "False",
         "False",
         "False",
         "False",
         "False",
         "False",
         "False",
         "False",
         "False",
         "False",
         "False",
         "False",
         "False",
         "False",
         "False",
         "False",
         "False",
         "False",
         "False",
         "False",
         "False",
         "False",
         "False",
         "False",
         "False",
         "False",
         "False",
         "False",
         "False",
         "False",
         "False",
         "False",
         "False",
         "False",
         "False",
         "False",
         "False",
         "False",
         "False",
         "False",
         "False",
         "False",
         "False",
         "False",
         "False",
         "False",
         "False",
         "False",
         "False",
         "False",
         "False",
         "False",
         "False",
         "False",
         "False",
         "False",
         "False",
         "False",
         "False",
         "False",
         "False",
         "False",
         "False",
         "False",
         "False",
         "False",
         "False",
         "False",
         "False",
         "False",
         "False",
         "False",
         "False",
         "False",
         "False",
         "False",
         "False",
         "False",
         "False",
         "False",
         "False",
         "False",
         "False",
         "False",
         "False",
         "False",
         "False",
         "False",
         "False",
         "False",
         "False",
         "False",
         "False",
         "False",
         "False",
         "False",
         "False",
         "False",
         "False",
         "False",
         "False",
         "False",
         "False",
         "False",
         "False",
         "False",
         "False",
         "False",
         "False",
         "False",
         "False",
         "False",
         "False",
         "False",
         "False",
         "False",
         "False",
         "False",
         "False",
         "False",
         "False",
         "False",
         "False",
         "False",
         "False",
         "False",
         "False",
         "False",
         "False",
         "False",
         "False",
         "False",
         "False",
         "False",
         "False",
         "False",
         "False",
         "False",
         "False",
         "False",
         "False",
         "False",
         "False",
         "False",
         "False",
         "False",
         "False",
         "False",
         "False"
        ]
       ],
       "shape": {
        "columns": 242,
        "rows": 5
       }
      },
      "text/html": [
       "<div>\n",
       "<style scoped>\n",
       "    .dataframe tbody tr th:only-of-type {\n",
       "        vertical-align: middle;\n",
       "    }\n",
       "\n",
       "    .dataframe tbody tr th {\n",
       "        vertical-align: top;\n",
       "    }\n",
       "\n",
       "    .dataframe thead th {\n",
       "        text-align: right;\n",
       "    }\n",
       "</style>\n",
       "<table border=\"1\" class=\"dataframe\">\n",
       "  <thead>\n",
       "    <tr style=\"text-align: right;\">\n",
       "      <th></th>\n",
       "      <th>1st Block Jayanagar</th>\n",
       "      <th>1st Phase JP Nagar</th>\n",
       "      <th>2nd Phase Judicial Layout</th>\n",
       "      <th>2nd Stage Nagarbhavi</th>\n",
       "      <th>5th Block Hbr Layout</th>\n",
       "      <th>5th Phase JP Nagar</th>\n",
       "      <th>6th Phase JP Nagar</th>\n",
       "      <th>7th Phase JP Nagar</th>\n",
       "      <th>8th Phase JP Nagar</th>\n",
       "      <th>9th Phase JP Nagar</th>\n",
       "      <th>...</th>\n",
       "      <th>Vishveshwarya Layout</th>\n",
       "      <th>Vishwapriya Layout</th>\n",
       "      <th>Vittasandra</th>\n",
       "      <th>Whitefield</th>\n",
       "      <th>Yelachenahalli</th>\n",
       "      <th>Yelahanka</th>\n",
       "      <th>Yelahanka New Town</th>\n",
       "      <th>Yelenahalli</th>\n",
       "      <th>Yeshwanthpur</th>\n",
       "      <th>other</th>\n",
       "    </tr>\n",
       "  </thead>\n",
       "  <tbody>\n",
       "    <tr>\n",
       "      <th>0</th>\n",
       "      <td>True</td>\n",
       "      <td>False</td>\n",
       "      <td>False</td>\n",
       "      <td>False</td>\n",
       "      <td>False</td>\n",
       "      <td>False</td>\n",
       "      <td>False</td>\n",
       "      <td>False</td>\n",
       "      <td>False</td>\n",
       "      <td>False</td>\n",
       "      <td>...</td>\n",
       "      <td>False</td>\n",
       "      <td>False</td>\n",
       "      <td>False</td>\n",
       "      <td>False</td>\n",
       "      <td>False</td>\n",
       "      <td>False</td>\n",
       "      <td>False</td>\n",
       "      <td>False</td>\n",
       "      <td>False</td>\n",
       "      <td>False</td>\n",
       "    </tr>\n",
       "    <tr>\n",
       "      <th>1</th>\n",
       "      <td>True</td>\n",
       "      <td>False</td>\n",
       "      <td>False</td>\n",
       "      <td>False</td>\n",
       "      <td>False</td>\n",
       "      <td>False</td>\n",
       "      <td>False</td>\n",
       "      <td>False</td>\n",
       "      <td>False</td>\n",
       "      <td>False</td>\n",
       "      <td>...</td>\n",
       "      <td>False</td>\n",
       "      <td>False</td>\n",
       "      <td>False</td>\n",
       "      <td>False</td>\n",
       "      <td>False</td>\n",
       "      <td>False</td>\n",
       "      <td>False</td>\n",
       "      <td>False</td>\n",
       "      <td>False</td>\n",
       "      <td>False</td>\n",
       "    </tr>\n",
       "    <tr>\n",
       "      <th>2</th>\n",
       "      <td>True</td>\n",
       "      <td>False</td>\n",
       "      <td>False</td>\n",
       "      <td>False</td>\n",
       "      <td>False</td>\n",
       "      <td>False</td>\n",
       "      <td>False</td>\n",
       "      <td>False</td>\n",
       "      <td>False</td>\n",
       "      <td>False</td>\n",
       "      <td>...</td>\n",
       "      <td>False</td>\n",
       "      <td>False</td>\n",
       "      <td>False</td>\n",
       "      <td>False</td>\n",
       "      <td>False</td>\n",
       "      <td>False</td>\n",
       "      <td>False</td>\n",
       "      <td>False</td>\n",
       "      <td>False</td>\n",
       "      <td>False</td>\n",
       "    </tr>\n",
       "    <tr>\n",
       "      <th>3</th>\n",
       "      <td>True</td>\n",
       "      <td>False</td>\n",
       "      <td>False</td>\n",
       "      <td>False</td>\n",
       "      <td>False</td>\n",
       "      <td>False</td>\n",
       "      <td>False</td>\n",
       "      <td>False</td>\n",
       "      <td>False</td>\n",
       "      <td>False</td>\n",
       "      <td>...</td>\n",
       "      <td>False</td>\n",
       "      <td>False</td>\n",
       "      <td>False</td>\n",
       "      <td>False</td>\n",
       "      <td>False</td>\n",
       "      <td>False</td>\n",
       "      <td>False</td>\n",
       "      <td>False</td>\n",
       "      <td>False</td>\n",
       "      <td>False</td>\n",
       "    </tr>\n",
       "    <tr>\n",
       "      <th>4</th>\n",
       "      <td>True</td>\n",
       "      <td>False</td>\n",
       "      <td>False</td>\n",
       "      <td>False</td>\n",
       "      <td>False</td>\n",
       "      <td>False</td>\n",
       "      <td>False</td>\n",
       "      <td>False</td>\n",
       "      <td>False</td>\n",
       "      <td>False</td>\n",
       "      <td>...</td>\n",
       "      <td>False</td>\n",
       "      <td>False</td>\n",
       "      <td>False</td>\n",
       "      <td>False</td>\n",
       "      <td>False</td>\n",
       "      <td>False</td>\n",
       "      <td>False</td>\n",
       "      <td>False</td>\n",
       "      <td>False</td>\n",
       "      <td>False</td>\n",
       "    </tr>\n",
       "  </tbody>\n",
       "</table>\n",
       "<p>5 rows × 242 columns</p>\n",
       "</div>"
      ],
      "text/plain": [
       "   1st Block Jayanagar  1st Phase JP Nagar  2nd Phase Judicial Layout  \\\n",
       "0                 True               False                      False   \n",
       "1                 True               False                      False   \n",
       "2                 True               False                      False   \n",
       "3                 True               False                      False   \n",
       "4                 True               False                      False   \n",
       "\n",
       "   2nd Stage Nagarbhavi  5th Block Hbr Layout  5th Phase JP Nagar  \\\n",
       "0                 False                 False               False   \n",
       "1                 False                 False               False   \n",
       "2                 False                 False               False   \n",
       "3                 False                 False               False   \n",
       "4                 False                 False               False   \n",
       "\n",
       "   6th Phase JP Nagar  7th Phase JP Nagar  8th Phase JP Nagar  \\\n",
       "0               False               False               False   \n",
       "1               False               False               False   \n",
       "2               False               False               False   \n",
       "3               False               False               False   \n",
       "4               False               False               False   \n",
       "\n",
       "   9th Phase JP Nagar  ...  Vishveshwarya Layout  Vishwapriya Layout  \\\n",
       "0               False  ...                 False               False   \n",
       "1               False  ...                 False               False   \n",
       "2               False  ...                 False               False   \n",
       "3               False  ...                 False               False   \n",
       "4               False  ...                 False               False   \n",
       "\n",
       "   Vittasandra  Whitefield  Yelachenahalli  Yelahanka  Yelahanka New Town  \\\n",
       "0        False       False           False      False               False   \n",
       "1        False       False           False      False               False   \n",
       "2        False       False           False      False               False   \n",
       "3        False       False           False      False               False   \n",
       "4        False       False           False      False               False   \n",
       "\n",
       "   Yelenahalli  Yeshwanthpur  other  \n",
       "0        False         False  False  \n",
       "1        False         False  False  \n",
       "2        False         False  False  \n",
       "3        False         False  False  \n",
       "4        False         False  False  \n",
       "\n",
       "[5 rows x 242 columns]"
      ]
     },
     "execution_count": 56,
     "metadata": {},
     "output_type": "execute_result"
    }
   ],
   "source": [
    "dummies.head()"
   ]
  },
  {
   "cell_type": "code",
   "execution_count": 57,
   "metadata": {},
   "outputs": [
    {
     "data": {
      "application/vnd.microsoft.datawrangler.viewer.v0+json": {
       "columns": [
        {
         "name": "index",
         "rawType": "int64",
         "type": "integer"
        },
        {
         "name": "location",
         "rawType": "object",
         "type": "string"
        },
        {
         "name": "total_sqft",
         "rawType": "float64",
         "type": "float"
        },
        {
         "name": "bath",
         "rawType": "float64",
         "type": "float"
        },
        {
         "name": "price",
         "rawType": "float64",
         "type": "float"
        },
        {
         "name": "bhk",
         "rawType": "int32",
         "type": "integer"
        },
        {
         "name": "1st Block Jayanagar",
         "rawType": "bool",
         "type": "boolean"
        },
        {
         "name": "1st Phase JP Nagar",
         "rawType": "bool",
         "type": "boolean"
        },
        {
         "name": "2nd Phase Judicial Layout",
         "rawType": "bool",
         "type": "boolean"
        },
        {
         "name": "2nd Stage Nagarbhavi",
         "rawType": "bool",
         "type": "boolean"
        },
        {
         "name": "5th Block Hbr Layout",
         "rawType": "bool",
         "type": "boolean"
        },
        {
         "name": "5th Phase JP Nagar",
         "rawType": "bool",
         "type": "boolean"
        },
        {
         "name": "6th Phase JP Nagar",
         "rawType": "bool",
         "type": "boolean"
        },
        {
         "name": "7th Phase JP Nagar",
         "rawType": "bool",
         "type": "boolean"
        },
        {
         "name": "8th Phase JP Nagar",
         "rawType": "bool",
         "type": "boolean"
        },
        {
         "name": "9th Phase JP Nagar",
         "rawType": "bool",
         "type": "boolean"
        },
        {
         "name": "AECS Layout",
         "rawType": "bool",
         "type": "boolean"
        },
        {
         "name": "Abbigere",
         "rawType": "bool",
         "type": "boolean"
        },
        {
         "name": "Akshaya Nagar",
         "rawType": "bool",
         "type": "boolean"
        },
        {
         "name": "Ambalipura",
         "rawType": "bool",
         "type": "boolean"
        },
        {
         "name": "Ambedkar Nagar",
         "rawType": "bool",
         "type": "boolean"
        },
        {
         "name": "Amruthahalli",
         "rawType": "bool",
         "type": "boolean"
        },
        {
         "name": "Anandapura",
         "rawType": "bool",
         "type": "boolean"
        },
        {
         "name": "Ananth Nagar",
         "rawType": "bool",
         "type": "boolean"
        },
        {
         "name": "Anekal",
         "rawType": "bool",
         "type": "boolean"
        },
        {
         "name": "Anjanapura",
         "rawType": "bool",
         "type": "boolean"
        },
        {
         "name": "Ardendale",
         "rawType": "bool",
         "type": "boolean"
        },
        {
         "name": "Arekere",
         "rawType": "bool",
         "type": "boolean"
        },
        {
         "name": "Attibele",
         "rawType": "bool",
         "type": "boolean"
        },
        {
         "name": "BEML Layout",
         "rawType": "bool",
         "type": "boolean"
        },
        {
         "name": "BTM 2nd Stage",
         "rawType": "bool",
         "type": "boolean"
        },
        {
         "name": "BTM Layout",
         "rawType": "bool",
         "type": "boolean"
        },
        {
         "name": "Babusapalaya",
         "rawType": "bool",
         "type": "boolean"
        },
        {
         "name": "Badavala Nagar",
         "rawType": "bool",
         "type": "boolean"
        },
        {
         "name": "Balagere",
         "rawType": "bool",
         "type": "boolean"
        },
        {
         "name": "Banashankari",
         "rawType": "bool",
         "type": "boolean"
        },
        {
         "name": "Banashankari Stage II",
         "rawType": "bool",
         "type": "boolean"
        },
        {
         "name": "Banashankari Stage III",
         "rawType": "bool",
         "type": "boolean"
        },
        {
         "name": "Banashankari Stage V",
         "rawType": "bool",
         "type": "boolean"
        },
        {
         "name": "Banashankari Stage VI",
         "rawType": "bool",
         "type": "boolean"
        },
        {
         "name": "Banaswadi",
         "rawType": "bool",
         "type": "boolean"
        },
        {
         "name": "Banjara Layout",
         "rawType": "bool",
         "type": "boolean"
        },
        {
         "name": "Bannerghatta",
         "rawType": "bool",
         "type": "boolean"
        },
        {
         "name": "Bannerghatta Road",
         "rawType": "bool",
         "type": "boolean"
        },
        {
         "name": "Basavangudi",
         "rawType": "bool",
         "type": "boolean"
        },
        {
         "name": "Basaveshwara Nagar",
         "rawType": "bool",
         "type": "boolean"
        },
        {
         "name": "Battarahalli",
         "rawType": "bool",
         "type": "boolean"
        },
        {
         "name": "Begur",
         "rawType": "bool",
         "type": "boolean"
        },
        {
         "name": "Begur Road",
         "rawType": "bool",
         "type": "boolean"
        },
        {
         "name": "Bellandur",
         "rawType": "bool",
         "type": "boolean"
        },
        {
         "name": "Benson Town",
         "rawType": "bool",
         "type": "boolean"
        },
        {
         "name": "Bharathi Nagar",
         "rawType": "bool",
         "type": "boolean"
        },
        {
         "name": "Bhoganhalli",
         "rawType": "bool",
         "type": "boolean"
        },
        {
         "name": "Billekahalli",
         "rawType": "bool",
         "type": "boolean"
        },
        {
         "name": "Binny Pete",
         "rawType": "bool",
         "type": "boolean"
        },
        {
         "name": "Bisuvanahalli",
         "rawType": "bool",
         "type": "boolean"
        },
        {
         "name": "Bommanahalli",
         "rawType": "bool",
         "type": "boolean"
        },
        {
         "name": "Bommasandra",
         "rawType": "bool",
         "type": "boolean"
        },
        {
         "name": "Bommasandra Industrial Area",
         "rawType": "bool",
         "type": "boolean"
        },
        {
         "name": "Bommenahalli",
         "rawType": "bool",
         "type": "boolean"
        },
        {
         "name": "Brookefield",
         "rawType": "bool",
         "type": "boolean"
        },
        {
         "name": "Budigere",
         "rawType": "bool",
         "type": "boolean"
        },
        {
         "name": "CV Raman Nagar",
         "rawType": "bool",
         "type": "boolean"
        },
        {
         "name": "Chamrajpet",
         "rawType": "bool",
         "type": "boolean"
        },
        {
         "name": "Chandapura",
         "rawType": "bool",
         "type": "boolean"
        },
        {
         "name": "Channasandra",
         "rawType": "bool",
         "type": "boolean"
        },
        {
         "name": "Chikka Tirupathi",
         "rawType": "bool",
         "type": "boolean"
        },
        {
         "name": "Chikkabanavar",
         "rawType": "bool",
         "type": "boolean"
        },
        {
         "name": "Chikkalasandra",
         "rawType": "bool",
         "type": "boolean"
        },
        {
         "name": "Choodasandra",
         "rawType": "bool",
         "type": "boolean"
        },
        {
         "name": "Cooke Town",
         "rawType": "bool",
         "type": "boolean"
        },
        {
         "name": "Cox Town",
         "rawType": "bool",
         "type": "boolean"
        },
        {
         "name": "Cunningham Road",
         "rawType": "bool",
         "type": "boolean"
        },
        {
         "name": "Dasanapura",
         "rawType": "bool",
         "type": "boolean"
        },
        {
         "name": "Dasarahalli",
         "rawType": "bool",
         "type": "boolean"
        },
        {
         "name": "Devanahalli",
         "rawType": "bool",
         "type": "boolean"
        },
        {
         "name": "Devarachikkanahalli",
         "rawType": "bool",
         "type": "boolean"
        },
        {
         "name": "Dodda Nekkundi",
         "rawType": "bool",
         "type": "boolean"
        },
        {
         "name": "Doddaballapur",
         "rawType": "bool",
         "type": "boolean"
        },
        {
         "name": "Doddakallasandra",
         "rawType": "bool",
         "type": "boolean"
        },
        {
         "name": "Doddathoguru",
         "rawType": "bool",
         "type": "boolean"
        },
        {
         "name": "Domlur",
         "rawType": "bool",
         "type": "boolean"
        },
        {
         "name": "Dommasandra",
         "rawType": "bool",
         "type": "boolean"
        },
        {
         "name": "EPIP Zone",
         "rawType": "bool",
         "type": "boolean"
        },
        {
         "name": "Electronic City",
         "rawType": "bool",
         "type": "boolean"
        },
        {
         "name": "Electronic City Phase II",
         "rawType": "bool",
         "type": "boolean"
        },
        {
         "name": "Electronics City Phase 1",
         "rawType": "bool",
         "type": "boolean"
        },
        {
         "name": "Frazer Town",
         "rawType": "bool",
         "type": "boolean"
        },
        {
         "name": "GM Palaya",
         "rawType": "bool",
         "type": "boolean"
        },
        {
         "name": "Garudachar Palya",
         "rawType": "bool",
         "type": "boolean"
        },
        {
         "name": "Giri Nagar",
         "rawType": "bool",
         "type": "boolean"
        },
        {
         "name": "Gollarapalya Hosahalli",
         "rawType": "bool",
         "type": "boolean"
        },
        {
         "name": "Gottigere",
         "rawType": "bool",
         "type": "boolean"
        },
        {
         "name": "Green Glen Layout",
         "rawType": "bool",
         "type": "boolean"
        },
        {
         "name": "Gubbalala",
         "rawType": "bool",
         "type": "boolean"
        },
        {
         "name": "Gunjur",
         "rawType": "bool",
         "type": "boolean"
        },
        {
         "name": "HAL 2nd Stage",
         "rawType": "bool",
         "type": "boolean"
        },
        {
         "name": "HBR Layout",
         "rawType": "bool",
         "type": "boolean"
        },
        {
         "name": "HRBR Layout",
         "rawType": "bool",
         "type": "boolean"
        },
        {
         "name": "HSR Layout",
         "rawType": "bool",
         "type": "boolean"
        },
        {
         "name": "Haralur Road",
         "rawType": "bool",
         "type": "boolean"
        },
        {
         "name": "Harlur",
         "rawType": "bool",
         "type": "boolean"
        },
        {
         "name": "Hebbal",
         "rawType": "bool",
         "type": "boolean"
        },
        {
         "name": "Hebbal Kempapura",
         "rawType": "bool",
         "type": "boolean"
        },
        {
         "name": "Hegde Nagar",
         "rawType": "bool",
         "type": "boolean"
        },
        {
         "name": "Hennur",
         "rawType": "bool",
         "type": "boolean"
        },
        {
         "name": "Hennur Road",
         "rawType": "bool",
         "type": "boolean"
        },
        {
         "name": "Hoodi",
         "rawType": "bool",
         "type": "boolean"
        },
        {
         "name": "Horamavu Agara",
         "rawType": "bool",
         "type": "boolean"
        },
        {
         "name": "Horamavu Banaswadi",
         "rawType": "bool",
         "type": "boolean"
        },
        {
         "name": "Hormavu",
         "rawType": "bool",
         "type": "boolean"
        },
        {
         "name": "Hosa Road",
         "rawType": "bool",
         "type": "boolean"
        },
        {
         "name": "Hosakerehalli",
         "rawType": "bool",
         "type": "boolean"
        },
        {
         "name": "Hoskote",
         "rawType": "bool",
         "type": "boolean"
        },
        {
         "name": "Hosur Road",
         "rawType": "bool",
         "type": "boolean"
        },
        {
         "name": "Hulimavu",
         "rawType": "bool",
         "type": "boolean"
        },
        {
         "name": "ISRO Layout",
         "rawType": "bool",
         "type": "boolean"
        },
        {
         "name": "ITPL",
         "rawType": "bool",
         "type": "boolean"
        },
        {
         "name": "Iblur Village",
         "rawType": "bool",
         "type": "boolean"
        },
        {
         "name": "Indira Nagar",
         "rawType": "bool",
         "type": "boolean"
        },
        {
         "name": "JP Nagar",
         "rawType": "bool",
         "type": "boolean"
        },
        {
         "name": "Jakkur",
         "rawType": "bool",
         "type": "boolean"
        },
        {
         "name": "Jalahalli",
         "rawType": "bool",
         "type": "boolean"
        },
        {
         "name": "Jalahalli East",
         "rawType": "bool",
         "type": "boolean"
        },
        {
         "name": "Jigani",
         "rawType": "bool",
         "type": "boolean"
        },
        {
         "name": "Judicial Layout",
         "rawType": "bool",
         "type": "boolean"
        },
        {
         "name": "KR Puram",
         "rawType": "bool",
         "type": "boolean"
        },
        {
         "name": "Kadubeesanahalli",
         "rawType": "bool",
         "type": "boolean"
        },
        {
         "name": "Kadugodi",
         "rawType": "bool",
         "type": "boolean"
        },
        {
         "name": "Kaggadasapura",
         "rawType": "bool",
         "type": "boolean"
        },
        {
         "name": "Kaggalipura",
         "rawType": "bool",
         "type": "boolean"
        },
        {
         "name": "Kaikondrahalli",
         "rawType": "bool",
         "type": "boolean"
        },
        {
         "name": "Kalena Agrahara",
         "rawType": "bool",
         "type": "boolean"
        },
        {
         "name": "Kalyan nagar",
         "rawType": "bool",
         "type": "boolean"
        },
        {
         "name": "Kambipura",
         "rawType": "bool",
         "type": "boolean"
        },
        {
         "name": "Kammanahalli",
         "rawType": "bool",
         "type": "boolean"
        },
        {
         "name": "Kammasandra",
         "rawType": "bool",
         "type": "boolean"
        },
        {
         "name": "Kanakapura",
         "rawType": "bool",
         "type": "boolean"
        },
        {
         "name": "Kanakpura Road",
         "rawType": "bool",
         "type": "boolean"
        },
        {
         "name": "Kannamangala",
         "rawType": "bool",
         "type": "boolean"
        },
        {
         "name": "Karuna Nagar",
         "rawType": "bool",
         "type": "boolean"
        },
        {
         "name": "Kasavanhalli",
         "rawType": "bool",
         "type": "boolean"
        },
        {
         "name": "Kasturi Nagar",
         "rawType": "bool",
         "type": "boolean"
        },
        {
         "name": "Kathriguppe",
         "rawType": "bool",
         "type": "boolean"
        },
        {
         "name": "Kaval Byrasandra",
         "rawType": "bool",
         "type": "boolean"
        },
        {
         "name": "Kenchenahalli",
         "rawType": "bool",
         "type": "boolean"
        },
        {
         "name": "Kengeri",
         "rawType": "bool",
         "type": "boolean"
        },
        {
         "name": "Kengeri Satellite Town",
         "rawType": "bool",
         "type": "boolean"
        },
        {
         "name": "Kereguddadahalli",
         "rawType": "bool",
         "type": "boolean"
        },
        {
         "name": "Kodichikkanahalli",
         "rawType": "bool",
         "type": "boolean"
        },
        {
         "name": "Kodigehaali",
         "rawType": "bool",
         "type": "boolean"
        },
        {
         "name": "Kodigehalli",
         "rawType": "bool",
         "type": "boolean"
        },
        {
         "name": "Kodihalli",
         "rawType": "bool",
         "type": "boolean"
        },
        {
         "name": "Kogilu",
         "rawType": "bool",
         "type": "boolean"
        },
        {
         "name": "Konanakunte",
         "rawType": "bool",
         "type": "boolean"
        },
        {
         "name": "Koramangala",
         "rawType": "bool",
         "type": "boolean"
        },
        {
         "name": "Kothannur",
         "rawType": "bool",
         "type": "boolean"
        },
        {
         "name": "Kothanur",
         "rawType": "bool",
         "type": "boolean"
        },
        {
         "name": "Kudlu",
         "rawType": "bool",
         "type": "boolean"
        },
        {
         "name": "Kudlu Gate",
         "rawType": "bool",
         "type": "boolean"
        },
        {
         "name": "Kumaraswami Layout",
         "rawType": "bool",
         "type": "boolean"
        },
        {
         "name": "Kundalahalli",
         "rawType": "bool",
         "type": "boolean"
        },
        {
         "name": "LB Shastri Nagar",
         "rawType": "bool",
         "type": "boolean"
        },
        {
         "name": "Laggere",
         "rawType": "bool",
         "type": "boolean"
        },
        {
         "name": "Lakshminarayana Pura",
         "rawType": "bool",
         "type": "boolean"
        },
        {
         "name": "Lingadheeranahalli",
         "rawType": "bool",
         "type": "boolean"
        },
        {
         "name": "Magadi Road",
         "rawType": "bool",
         "type": "boolean"
        },
        {
         "name": "Mahadevpura",
         "rawType": "bool",
         "type": "boolean"
        },
        {
         "name": "Mahalakshmi Layout",
         "rawType": "bool",
         "type": "boolean"
        },
        {
         "name": "Mallasandra",
         "rawType": "bool",
         "type": "boolean"
        },
        {
         "name": "Malleshpalya",
         "rawType": "bool",
         "type": "boolean"
        },
        {
         "name": "Malleshwaram",
         "rawType": "bool",
         "type": "boolean"
        },
        {
         "name": "Marathahalli",
         "rawType": "bool",
         "type": "boolean"
        },
        {
         "name": "Margondanahalli",
         "rawType": "bool",
         "type": "boolean"
        },
        {
         "name": "Marsur",
         "rawType": "bool",
         "type": "boolean"
        },
        {
         "name": "Mico Layout",
         "rawType": "bool",
         "type": "boolean"
        },
        {
         "name": "Munnekollal",
         "rawType": "bool",
         "type": "boolean"
        },
        {
         "name": "Murugeshpalya",
         "rawType": "bool",
         "type": "boolean"
        },
        {
         "name": "Mysore Road",
         "rawType": "bool",
         "type": "boolean"
        },
        {
         "name": "NGR Layout",
         "rawType": "bool",
         "type": "boolean"
        },
        {
         "name": "NRI Layout",
         "rawType": "bool",
         "type": "boolean"
        },
        {
         "name": "Nagarbhavi",
         "rawType": "bool",
         "type": "boolean"
        },
        {
         "name": "Nagasandra",
         "rawType": "bool",
         "type": "boolean"
        },
        {
         "name": "Nagavara",
         "rawType": "bool",
         "type": "boolean"
        },
        {
         "name": "Nagavarapalya",
         "rawType": "bool",
         "type": "boolean"
        },
        {
         "name": "Narayanapura",
         "rawType": "bool",
         "type": "boolean"
        },
        {
         "name": "Neeladri Nagar",
         "rawType": "bool",
         "type": "boolean"
        },
        {
         "name": "Nehru Nagar",
         "rawType": "bool",
         "type": "boolean"
        },
        {
         "name": "OMBR Layout",
         "rawType": "bool",
         "type": "boolean"
        },
        {
         "name": "Old Airport Road",
         "rawType": "bool",
         "type": "boolean"
        },
        {
         "name": "Old Madras Road",
         "rawType": "bool",
         "type": "boolean"
        },
        {
         "name": "Padmanabhanagar",
         "rawType": "bool",
         "type": "boolean"
        },
        {
         "name": "Pai Layout",
         "rawType": "bool",
         "type": "boolean"
        },
        {
         "name": "Panathur",
         "rawType": "bool",
         "type": "boolean"
        },
        {
         "name": "Parappana Agrahara",
         "rawType": "bool",
         "type": "boolean"
        },
        {
         "name": "Pattandur Agrahara",
         "rawType": "bool",
         "type": "boolean"
        },
        {
         "name": "Poorna Pragna Layout",
         "rawType": "bool",
         "type": "boolean"
        },
        {
         "name": "Prithvi Layout",
         "rawType": "bool",
         "type": "boolean"
        },
        {
         "name": "R.T. Nagar",
         "rawType": "bool",
         "type": "boolean"
        },
        {
         "name": "Rachenahalli",
         "rawType": "bool",
         "type": "boolean"
        },
        {
         "name": "Raja Rajeshwari Nagar",
         "rawType": "bool",
         "type": "boolean"
        },
        {
         "name": "Rajaji Nagar",
         "rawType": "bool",
         "type": "boolean"
        },
        {
         "name": "Rajiv Nagar",
         "rawType": "bool",
         "type": "boolean"
        },
        {
         "name": "Ramagondanahalli",
         "rawType": "bool",
         "type": "boolean"
        },
        {
         "name": "Ramamurthy Nagar",
         "rawType": "bool",
         "type": "boolean"
        },
        {
         "name": "Rayasandra",
         "rawType": "bool",
         "type": "boolean"
        },
        {
         "name": "Sahakara Nagar",
         "rawType": "bool",
         "type": "boolean"
        },
        {
         "name": "Sanjay nagar",
         "rawType": "bool",
         "type": "boolean"
        },
        {
         "name": "Sarakki Nagar",
         "rawType": "bool",
         "type": "boolean"
        },
        {
         "name": "Sarjapur",
         "rawType": "bool",
         "type": "boolean"
        },
        {
         "name": "Sarjapur  Road",
         "rawType": "bool",
         "type": "boolean"
        },
        {
         "name": "Sarjapura - Attibele Road",
         "rawType": "bool",
         "type": "boolean"
        },
        {
         "name": "Sector 2 HSR Layout",
         "rawType": "bool",
         "type": "boolean"
        },
        {
         "name": "Sector 7 HSR Layout",
         "rawType": "bool",
         "type": "boolean"
        },
        {
         "name": "Seegehalli",
         "rawType": "bool",
         "type": "boolean"
        },
        {
         "name": "Shampura",
         "rawType": "bool",
         "type": "boolean"
        },
        {
         "name": "Shivaji Nagar",
         "rawType": "bool",
         "type": "boolean"
        },
        {
         "name": "Singasandra",
         "rawType": "bool",
         "type": "boolean"
        },
        {
         "name": "Somasundara Palya",
         "rawType": "bool",
         "type": "boolean"
        },
        {
         "name": "Sompura",
         "rawType": "bool",
         "type": "boolean"
        },
        {
         "name": "Sonnenahalli",
         "rawType": "bool",
         "type": "boolean"
        },
        {
         "name": "Subramanyapura",
         "rawType": "bool",
         "type": "boolean"
        },
        {
         "name": "Sultan Palaya",
         "rawType": "bool",
         "type": "boolean"
        },
        {
         "name": "TC Palaya",
         "rawType": "bool",
         "type": "boolean"
        },
        {
         "name": "Talaghattapura",
         "rawType": "bool",
         "type": "boolean"
        },
        {
         "name": "Thanisandra",
         "rawType": "bool",
         "type": "boolean"
        },
        {
         "name": "Thigalarapalya",
         "rawType": "bool",
         "type": "boolean"
        },
        {
         "name": "Thubarahalli",
         "rawType": "bool",
         "type": "boolean"
        },
        {
         "name": "Thyagaraja Nagar",
         "rawType": "bool",
         "type": "boolean"
        },
        {
         "name": "Tindlu",
         "rawType": "bool",
         "type": "boolean"
        },
        {
         "name": "Tumkur Road",
         "rawType": "bool",
         "type": "boolean"
        },
        {
         "name": "Ulsoor",
         "rawType": "bool",
         "type": "boolean"
        },
        {
         "name": "Uttarahalli",
         "rawType": "bool",
         "type": "boolean"
        },
        {
         "name": "Varthur",
         "rawType": "bool",
         "type": "boolean"
        },
        {
         "name": "Varthur Road",
         "rawType": "bool",
         "type": "boolean"
        },
        {
         "name": "Vasanthapura",
         "rawType": "bool",
         "type": "boolean"
        },
        {
         "name": "Vidyaranyapura",
         "rawType": "bool",
         "type": "boolean"
        },
        {
         "name": "Vijayanagar",
         "rawType": "bool",
         "type": "boolean"
        },
        {
         "name": "Vishveshwarya Layout",
         "rawType": "bool",
         "type": "boolean"
        },
        {
         "name": "Vishwapriya Layout",
         "rawType": "bool",
         "type": "boolean"
        },
        {
         "name": "Vittasandra",
         "rawType": "bool",
         "type": "boolean"
        },
        {
         "name": "Whitefield",
         "rawType": "bool",
         "type": "boolean"
        },
        {
         "name": "Yelachenahalli",
         "rawType": "bool",
         "type": "boolean"
        },
        {
         "name": "Yelahanka",
         "rawType": "bool",
         "type": "boolean"
        },
        {
         "name": "Yelahanka New Town",
         "rawType": "bool",
         "type": "boolean"
        },
        {
         "name": "Yelenahalli",
         "rawType": "bool",
         "type": "boolean"
        },
        {
         "name": "Yeshwanthpur",
         "rawType": "bool",
         "type": "boolean"
        }
       ],
       "conversionMethod": "pd.DataFrame",
       "ref": "5a50e36d-d0d7-47f4-b0d1-974b5419a1fd",
       "rows": [
        [
         "0",
         "1st Block Jayanagar",
         "2850.0",
         "4.0",
         "428.0",
         "4",
         "True",
         "False",
         "False",
         "False",
         "False",
         "False",
         "False",
         "False",
         "False",
         "False",
         "False",
         "False",
         "False",
         "False",
         "False",
         "False",
         "False",
         "False",
         "False",
         "False",
         "False",
         "False",
         "False",
         "False",
         "False",
         "False",
         "False",
         "False",
         "False",
         "False",
         "False",
         "False",
         "False",
         "False",
         "False",
         "False",
         "False",
         "False",
         "False",
         "False",
         "False",
         "False",
         "False",
         "False",
         "False",
         "False",
         "False",
         "False",
         "False",
         "False",
         "False",
         "False",
         "False",
         "False",
         "False",
         "False",
         "False",
         "False",
         "False",
         "False",
         "False",
         "False",
         "False",
         "False",
         "False",
         "False",
         "False",
         "False",
         "False",
         "False",
         "False",
         "False",
         "False",
         "False",
         "False",
         "False",
         "False",
         "False",
         "False",
         "False",
         "False",
         "False",
         "False",
         "False",
         "False",
         "False",
         "False",
         "False",
         "False",
         "False",
         "False",
         "False",
         "False",
         "False",
         "False",
         "False",
         "False",
         "False",
         "False",
         "False",
         "False",
         "False",
         "False",
         "False",
         "False",
         "False",
         "False",
         "False",
         "False",
         "False",
         "False",
         "False",
         "False",
         "False",
         "False",
         "False",
         "False",
         "False",
         "False",
         "False",
         "False",
         "False",
         "False",
         "False",
         "False",
         "False",
         "False",
         "False",
         "False",
         "False",
         "False",
         "False",
         "False",
         "False",
         "False",
         "False",
         "False",
         "False",
         "False",
         "False",
         "False",
         "False",
         "False",
         "False",
         "False",
         "False",
         "False",
         "False",
         "False",
         "False",
         "False",
         "False",
         "False",
         "False",
         "False",
         "False",
         "False",
         "False",
         "False",
         "False",
         "False",
         "False",
         "False",
         "False",
         "False",
         "False",
         "False",
         "False",
         "False",
         "False",
         "False",
         "False",
         "False",
         "False",
         "False",
         "False",
         "False",
         "False",
         "False",
         "False",
         "False",
         "False",
         "False",
         "False",
         "False",
         "False",
         "False",
         "False",
         "False",
         "False",
         "False",
         "False",
         "False",
         "False",
         "False",
         "False",
         "False",
         "False",
         "False",
         "False",
         "False",
         "False",
         "False",
         "False",
         "False",
         "False",
         "False",
         "False",
         "False",
         "False",
         "False",
         "False",
         "False",
         "False",
         "False",
         "False",
         "False",
         "False",
         "False",
         "False",
         "False",
         "False",
         "False",
         "False",
         "False",
         "False",
         "False",
         "False",
         "False",
         "False",
         "False",
         "False",
         "False",
         "False",
         "False",
         "False",
         "False",
         "False",
         "False",
         "False",
         "False"
        ],
        [
         "1",
         "1st Block Jayanagar",
         "1630.0",
         "3.0",
         "194.0",
         "3",
         "True",
         "False",
         "False",
         "False",
         "False",
         "False",
         "False",
         "False",
         "False",
         "False",
         "False",
         "False",
         "False",
         "False",
         "False",
         "False",
         "False",
         "False",
         "False",
         "False",
         "False",
         "False",
         "False",
         "False",
         "False",
         "False",
         "False",
         "False",
         "False",
         "False",
         "False",
         "False",
         "False",
         "False",
         "False",
         "False",
         "False",
         "False",
         "False",
         "False",
         "False",
         "False",
         "False",
         "False",
         "False",
         "False",
         "False",
         "False",
         "False",
         "False",
         "False",
         "False",
         "False",
         "False",
         "False",
         "False",
         "False",
         "False",
         "False",
         "False",
         "False",
         "False",
         "False",
         "False",
         "False",
         "False",
         "False",
         "False",
         "False",
         "False",
         "False",
         "False",
         "False",
         "False",
         "False",
         "False",
         "False",
         "False",
         "False",
         "False",
         "False",
         "False",
         "False",
         "False",
         "False",
         "False",
         "False",
         "False",
         "False",
         "False",
         "False",
         "False",
         "False",
         "False",
         "False",
         "False",
         "False",
         "False",
         "False",
         "False",
         "False",
         "False",
         "False",
         "False",
         "False",
         "False",
         "False",
         "False",
         "False",
         "False",
         "False",
         "False",
         "False",
         "False",
         "False",
         "False",
         "False",
         "False",
         "False",
         "False",
         "False",
         "False",
         "False",
         "False",
         "False",
         "False",
         "False",
         "False",
         "False",
         "False",
         "False",
         "False",
         "False",
         "False",
         "False",
         "False",
         "False",
         "False",
         "False",
         "False",
         "False",
         "False",
         "False",
         "False",
         "False",
         "False",
         "False",
         "False",
         "False",
         "False",
         "False",
         "False",
         "False",
         "False",
         "False",
         "False",
         "False",
         "False",
         "False",
         "False",
         "False",
         "False",
         "False",
         "False",
         "False",
         "False",
         "False",
         "False",
         "False",
         "False",
         "False",
         "False",
         "False",
         "False",
         "False",
         "False",
         "False",
         "False",
         "False",
         "False",
         "False",
         "False",
         "False",
         "False",
         "False",
         "False",
         "False",
         "False",
         "False",
         "False",
         "False",
         "False",
         "False",
         "False",
         "False",
         "False",
         "False",
         "False",
         "False",
         "False",
         "False",
         "False",
         "False",
         "False",
         "False",
         "False",
         "False",
         "False",
         "False",
         "False",
         "False",
         "False",
         "False",
         "False",
         "False",
         "False",
         "False",
         "False",
         "False",
         "False",
         "False",
         "False",
         "False",
         "False",
         "False",
         "False",
         "False",
         "False",
         "False",
         "False",
         "False",
         "False",
         "False",
         "False",
         "False",
         "False",
         "False",
         "False",
         "False",
         "False",
         "False"
        ],
        [
         "2",
         "1st Block Jayanagar",
         "1875.0",
         "2.0",
         "235.0",
         "3",
         "True",
         "False",
         "False",
         "False",
         "False",
         "False",
         "False",
         "False",
         "False",
         "False",
         "False",
         "False",
         "False",
         "False",
         "False",
         "False",
         "False",
         "False",
         "False",
         "False",
         "False",
         "False",
         "False",
         "False",
         "False",
         "False",
         "False",
         "False",
         "False",
         "False",
         "False",
         "False",
         "False",
         "False",
         "False",
         "False",
         "False",
         "False",
         "False",
         "False",
         "False",
         "False",
         "False",
         "False",
         "False",
         "False",
         "False",
         "False",
         "False",
         "False",
         "False",
         "False",
         "False",
         "False",
         "False",
         "False",
         "False",
         "False",
         "False",
         "False",
         "False",
         "False",
         "False",
         "False",
         "False",
         "False",
         "False",
         "False",
         "False",
         "False",
         "False",
         "False",
         "False",
         "False",
         "False",
         "False",
         "False",
         "False",
         "False",
         "False",
         "False",
         "False",
         "False",
         "False",
         "False",
         "False",
         "False",
         "False",
         "False",
         "False",
         "False",
         "False",
         "False",
         "False",
         "False",
         "False",
         "False",
         "False",
         "False",
         "False",
         "False",
         "False",
         "False",
         "False",
         "False",
         "False",
         "False",
         "False",
         "False",
         "False",
         "False",
         "False",
         "False",
         "False",
         "False",
         "False",
         "False",
         "False",
         "False",
         "False",
         "False",
         "False",
         "False",
         "False",
         "False",
         "False",
         "False",
         "False",
         "False",
         "False",
         "False",
         "False",
         "False",
         "False",
         "False",
         "False",
         "False",
         "False",
         "False",
         "False",
         "False",
         "False",
         "False",
         "False",
         "False",
         "False",
         "False",
         "False",
         "False",
         "False",
         "False",
         "False",
         "False",
         "False",
         "False",
         "False",
         "False",
         "False",
         "False",
         "False",
         "False",
         "False",
         "False",
         "False",
         "False",
         "False",
         "False",
         "False",
         "False",
         "False",
         "False",
         "False",
         "False",
         "False",
         "False",
         "False",
         "False",
         "False",
         "False",
         "False",
         "False",
         "False",
         "False",
         "False",
         "False",
         "False",
         "False",
         "False",
         "False",
         "False",
         "False",
         "False",
         "False",
         "False",
         "False",
         "False",
         "False",
         "False",
         "False",
         "False",
         "False",
         "False",
         "False",
         "False",
         "False",
         "False",
         "False",
         "False",
         "False",
         "False",
         "False",
         "False",
         "False",
         "False",
         "False",
         "False",
         "False",
         "False",
         "False",
         "False",
         "False",
         "False",
         "False",
         "False",
         "False",
         "False",
         "False",
         "False",
         "False",
         "False",
         "False",
         "False",
         "False",
         "False",
         "False",
         "False",
         "False",
         "False",
         "False",
         "False",
         "False"
        ],
        [
         "3",
         "1st Block Jayanagar",
         "1200.0",
         "2.0",
         "130.0",
         "3",
         "True",
         "False",
         "False",
         "False",
         "False",
         "False",
         "False",
         "False",
         "False",
         "False",
         "False",
         "False",
         "False",
         "False",
         "False",
         "False",
         "False",
         "False",
         "False",
         "False",
         "False",
         "False",
         "False",
         "False",
         "False",
         "False",
         "False",
         "False",
         "False",
         "False",
         "False",
         "False",
         "False",
         "False",
         "False",
         "False",
         "False",
         "False",
         "False",
         "False",
         "False",
         "False",
         "False",
         "False",
         "False",
         "False",
         "False",
         "False",
         "False",
         "False",
         "False",
         "False",
         "False",
         "False",
         "False",
         "False",
         "False",
         "False",
         "False",
         "False",
         "False",
         "False",
         "False",
         "False",
         "False",
         "False",
         "False",
         "False",
         "False",
         "False",
         "False",
         "False",
         "False",
         "False",
         "False",
         "False",
         "False",
         "False",
         "False",
         "False",
         "False",
         "False",
         "False",
         "False",
         "False",
         "False",
         "False",
         "False",
         "False",
         "False",
         "False",
         "False",
         "False",
         "False",
         "False",
         "False",
         "False",
         "False",
         "False",
         "False",
         "False",
         "False",
         "False",
         "False",
         "False",
         "False",
         "False",
         "False",
         "False",
         "False",
         "False",
         "False",
         "False",
         "False",
         "False",
         "False",
         "False",
         "False",
         "False",
         "False",
         "False",
         "False",
         "False",
         "False",
         "False",
         "False",
         "False",
         "False",
         "False",
         "False",
         "False",
         "False",
         "False",
         "False",
         "False",
         "False",
         "False",
         "False",
         "False",
         "False",
         "False",
         "False",
         "False",
         "False",
         "False",
         "False",
         "False",
         "False",
         "False",
         "False",
         "False",
         "False",
         "False",
         "False",
         "False",
         "False",
         "False",
         "False",
         "False",
         "False",
         "False",
         "False",
         "False",
         "False",
         "False",
         "False",
         "False",
         "False",
         "False",
         "False",
         "False",
         "False",
         "False",
         "False",
         "False",
         "False",
         "False",
         "False",
         "False",
         "False",
         "False",
         "False",
         "False",
         "False",
         "False",
         "False",
         "False",
         "False",
         "False",
         "False",
         "False",
         "False",
         "False",
         "False",
         "False",
         "False",
         "False",
         "False",
         "False",
         "False",
         "False",
         "False",
         "False",
         "False",
         "False",
         "False",
         "False",
         "False",
         "False",
         "False",
         "False",
         "False",
         "False",
         "False",
         "False",
         "False",
         "False",
         "False",
         "False",
         "False",
         "False",
         "False",
         "False",
         "False",
         "False",
         "False",
         "False",
         "False",
         "False",
         "False",
         "False",
         "False",
         "False",
         "False",
         "False",
         "False",
         "False",
         "False",
         "False",
         "False",
         "False"
        ],
        [
         "4",
         "1st Block Jayanagar",
         "1235.0",
         "2.0",
         "148.0",
         "2",
         "True",
         "False",
         "False",
         "False",
         "False",
         "False",
         "False",
         "False",
         "False",
         "False",
         "False",
         "False",
         "False",
         "False",
         "False",
         "False",
         "False",
         "False",
         "False",
         "False",
         "False",
         "False",
         "False",
         "False",
         "False",
         "False",
         "False",
         "False",
         "False",
         "False",
         "False",
         "False",
         "False",
         "False",
         "False",
         "False",
         "False",
         "False",
         "False",
         "False",
         "False",
         "False",
         "False",
         "False",
         "False",
         "False",
         "False",
         "False",
         "False",
         "False",
         "False",
         "False",
         "False",
         "False",
         "False",
         "False",
         "False",
         "False",
         "False",
         "False",
         "False",
         "False",
         "False",
         "False",
         "False",
         "False",
         "False",
         "False",
         "False",
         "False",
         "False",
         "False",
         "False",
         "False",
         "False",
         "False",
         "False",
         "False",
         "False",
         "False",
         "False",
         "False",
         "False",
         "False",
         "False",
         "False",
         "False",
         "False",
         "False",
         "False",
         "False",
         "False",
         "False",
         "False",
         "False",
         "False",
         "False",
         "False",
         "False",
         "False",
         "False",
         "False",
         "False",
         "False",
         "False",
         "False",
         "False",
         "False",
         "False",
         "False",
         "False",
         "False",
         "False",
         "False",
         "False",
         "False",
         "False",
         "False",
         "False",
         "False",
         "False",
         "False",
         "False",
         "False",
         "False",
         "False",
         "False",
         "False",
         "False",
         "False",
         "False",
         "False",
         "False",
         "False",
         "False",
         "False",
         "False",
         "False",
         "False",
         "False",
         "False",
         "False",
         "False",
         "False",
         "False",
         "False",
         "False",
         "False",
         "False",
         "False",
         "False",
         "False",
         "False",
         "False",
         "False",
         "False",
         "False",
         "False",
         "False",
         "False",
         "False",
         "False",
         "False",
         "False",
         "False",
         "False",
         "False",
         "False",
         "False",
         "False",
         "False",
         "False",
         "False",
         "False",
         "False",
         "False",
         "False",
         "False",
         "False",
         "False",
         "False",
         "False",
         "False",
         "False",
         "False",
         "False",
         "False",
         "False",
         "False",
         "False",
         "False",
         "False",
         "False",
         "False",
         "False",
         "False",
         "False",
         "False",
         "False",
         "False",
         "False",
         "False",
         "False",
         "False",
         "False",
         "False",
         "False",
         "False",
         "False",
         "False",
         "False",
         "False",
         "False",
         "False",
         "False",
         "False",
         "False",
         "False",
         "False",
         "False",
         "False",
         "False",
         "False",
         "False",
         "False",
         "False",
         "False",
         "False",
         "False",
         "False",
         "False",
         "False",
         "False",
         "False",
         "False",
         "False",
         "False",
         "False",
         "False",
         "False",
         "False"
        ]
       ],
       "shape": {
        "columns": 246,
        "rows": 5
       }
      },
      "text/html": [
       "<div>\n",
       "<style scoped>\n",
       "    .dataframe tbody tr th:only-of-type {\n",
       "        vertical-align: middle;\n",
       "    }\n",
       "\n",
       "    .dataframe tbody tr th {\n",
       "        vertical-align: top;\n",
       "    }\n",
       "\n",
       "    .dataframe thead th {\n",
       "        text-align: right;\n",
       "    }\n",
       "</style>\n",
       "<table border=\"1\" class=\"dataframe\">\n",
       "  <thead>\n",
       "    <tr style=\"text-align: right;\">\n",
       "      <th></th>\n",
       "      <th>location</th>\n",
       "      <th>total_sqft</th>\n",
       "      <th>bath</th>\n",
       "      <th>price</th>\n",
       "      <th>bhk</th>\n",
       "      <th>1st Block Jayanagar</th>\n",
       "      <th>1st Phase JP Nagar</th>\n",
       "      <th>2nd Phase Judicial Layout</th>\n",
       "      <th>2nd Stage Nagarbhavi</th>\n",
       "      <th>5th Block Hbr Layout</th>\n",
       "      <th>...</th>\n",
       "      <th>Vijayanagar</th>\n",
       "      <th>Vishveshwarya Layout</th>\n",
       "      <th>Vishwapriya Layout</th>\n",
       "      <th>Vittasandra</th>\n",
       "      <th>Whitefield</th>\n",
       "      <th>Yelachenahalli</th>\n",
       "      <th>Yelahanka</th>\n",
       "      <th>Yelahanka New Town</th>\n",
       "      <th>Yelenahalli</th>\n",
       "      <th>Yeshwanthpur</th>\n",
       "    </tr>\n",
       "  </thead>\n",
       "  <tbody>\n",
       "    <tr>\n",
       "      <th>0</th>\n",
       "      <td>1st Block Jayanagar</td>\n",
       "      <td>2850.0</td>\n",
       "      <td>4.0</td>\n",
       "      <td>428.0</td>\n",
       "      <td>4</td>\n",
       "      <td>True</td>\n",
       "      <td>False</td>\n",
       "      <td>False</td>\n",
       "      <td>False</td>\n",
       "      <td>False</td>\n",
       "      <td>...</td>\n",
       "      <td>False</td>\n",
       "      <td>False</td>\n",
       "      <td>False</td>\n",
       "      <td>False</td>\n",
       "      <td>False</td>\n",
       "      <td>False</td>\n",
       "      <td>False</td>\n",
       "      <td>False</td>\n",
       "      <td>False</td>\n",
       "      <td>False</td>\n",
       "    </tr>\n",
       "    <tr>\n",
       "      <th>1</th>\n",
       "      <td>1st Block Jayanagar</td>\n",
       "      <td>1630.0</td>\n",
       "      <td>3.0</td>\n",
       "      <td>194.0</td>\n",
       "      <td>3</td>\n",
       "      <td>True</td>\n",
       "      <td>False</td>\n",
       "      <td>False</td>\n",
       "      <td>False</td>\n",
       "      <td>False</td>\n",
       "      <td>...</td>\n",
       "      <td>False</td>\n",
       "      <td>False</td>\n",
       "      <td>False</td>\n",
       "      <td>False</td>\n",
       "      <td>False</td>\n",
       "      <td>False</td>\n",
       "      <td>False</td>\n",
       "      <td>False</td>\n",
       "      <td>False</td>\n",
       "      <td>False</td>\n",
       "    </tr>\n",
       "    <tr>\n",
       "      <th>2</th>\n",
       "      <td>1st Block Jayanagar</td>\n",
       "      <td>1875.0</td>\n",
       "      <td>2.0</td>\n",
       "      <td>235.0</td>\n",
       "      <td>3</td>\n",
       "      <td>True</td>\n",
       "      <td>False</td>\n",
       "      <td>False</td>\n",
       "      <td>False</td>\n",
       "      <td>False</td>\n",
       "      <td>...</td>\n",
       "      <td>False</td>\n",
       "      <td>False</td>\n",
       "      <td>False</td>\n",
       "      <td>False</td>\n",
       "      <td>False</td>\n",
       "      <td>False</td>\n",
       "      <td>False</td>\n",
       "      <td>False</td>\n",
       "      <td>False</td>\n",
       "      <td>False</td>\n",
       "    </tr>\n",
       "    <tr>\n",
       "      <th>3</th>\n",
       "      <td>1st Block Jayanagar</td>\n",
       "      <td>1200.0</td>\n",
       "      <td>2.0</td>\n",
       "      <td>130.0</td>\n",
       "      <td>3</td>\n",
       "      <td>True</td>\n",
       "      <td>False</td>\n",
       "      <td>False</td>\n",
       "      <td>False</td>\n",
       "      <td>False</td>\n",
       "      <td>...</td>\n",
       "      <td>False</td>\n",
       "      <td>False</td>\n",
       "      <td>False</td>\n",
       "      <td>False</td>\n",
       "      <td>False</td>\n",
       "      <td>False</td>\n",
       "      <td>False</td>\n",
       "      <td>False</td>\n",
       "      <td>False</td>\n",
       "      <td>False</td>\n",
       "    </tr>\n",
       "    <tr>\n",
       "      <th>4</th>\n",
       "      <td>1st Block Jayanagar</td>\n",
       "      <td>1235.0</td>\n",
       "      <td>2.0</td>\n",
       "      <td>148.0</td>\n",
       "      <td>2</td>\n",
       "      <td>True</td>\n",
       "      <td>False</td>\n",
       "      <td>False</td>\n",
       "      <td>False</td>\n",
       "      <td>False</td>\n",
       "      <td>...</td>\n",
       "      <td>False</td>\n",
       "      <td>False</td>\n",
       "      <td>False</td>\n",
       "      <td>False</td>\n",
       "      <td>False</td>\n",
       "      <td>False</td>\n",
       "      <td>False</td>\n",
       "      <td>False</td>\n",
       "      <td>False</td>\n",
       "      <td>False</td>\n",
       "    </tr>\n",
       "  </tbody>\n",
       "</table>\n",
       "<p>5 rows × 246 columns</p>\n",
       "</div>"
      ],
      "text/plain": [
       "              location  total_sqft  bath  price  bhk  1st Block Jayanagar  \\\n",
       "0  1st Block Jayanagar      2850.0   4.0  428.0    4                 True   \n",
       "1  1st Block Jayanagar      1630.0   3.0  194.0    3                 True   \n",
       "2  1st Block Jayanagar      1875.0   2.0  235.0    3                 True   \n",
       "3  1st Block Jayanagar      1200.0   2.0  130.0    3                 True   \n",
       "4  1st Block Jayanagar      1235.0   2.0  148.0    2                 True   \n",
       "\n",
       "   1st Phase JP Nagar  2nd Phase Judicial Layout  2nd Stage Nagarbhavi  \\\n",
       "0               False                      False                 False   \n",
       "1               False                      False                 False   \n",
       "2               False                      False                 False   \n",
       "3               False                      False                 False   \n",
       "4               False                      False                 False   \n",
       "\n",
       "   5th Block Hbr Layout  ...  Vijayanagar  Vishveshwarya Layout  \\\n",
       "0                 False  ...        False                 False   \n",
       "1                 False  ...        False                 False   \n",
       "2                 False  ...        False                 False   \n",
       "3                 False  ...        False                 False   \n",
       "4                 False  ...        False                 False   \n",
       "\n",
       "   Vishwapriya Layout  Vittasandra  Whitefield  Yelachenahalli  Yelahanka  \\\n",
       "0               False        False       False           False      False   \n",
       "1               False        False       False           False      False   \n",
       "2               False        False       False           False      False   \n",
       "3               False        False       False           False      False   \n",
       "4               False        False       False           False      False   \n",
       "\n",
       "   Yelahanka New Town  Yelenahalli  Yeshwanthpur  \n",
       "0               False        False         False  \n",
       "1               False        False         False  \n",
       "2               False        False         False  \n",
       "3               False        False         False  \n",
       "4               False        False         False  \n",
       "\n",
       "[5 rows x 246 columns]"
      ]
     },
     "execution_count": 57,
     "metadata": {},
     "output_type": "execute_result"
    }
   ],
   "source": [
    "df9 = pd.concat([df8, dummies.drop(columns='other')], axis='columns')\n",
    "df9.head()"
   ]
  },
  {
   "cell_type": "code",
   "execution_count": 58,
   "metadata": {},
   "outputs": [],
   "source": [
    "df10 = df9.drop(columns=['location'])"
   ]
  },
  {
   "cell_type": "code",
   "execution_count": 59,
   "metadata": {},
   "outputs": [
    {
     "data": {
      "application/vnd.microsoft.datawrangler.viewer.v0+json": {
       "columns": [
        {
         "name": "index",
         "rawType": "int64",
         "type": "integer"
        },
        {
         "name": "total_sqft",
         "rawType": "float64",
         "type": "float"
        },
        {
         "name": "bath",
         "rawType": "float64",
         "type": "float"
        },
        {
         "name": "price",
         "rawType": "float64",
         "type": "float"
        },
        {
         "name": "bhk",
         "rawType": "int32",
         "type": "integer"
        },
        {
         "name": "1st Block Jayanagar",
         "rawType": "bool",
         "type": "boolean"
        },
        {
         "name": "1st Phase JP Nagar",
         "rawType": "bool",
         "type": "boolean"
        },
        {
         "name": "2nd Phase Judicial Layout",
         "rawType": "bool",
         "type": "boolean"
        },
        {
         "name": "2nd Stage Nagarbhavi",
         "rawType": "bool",
         "type": "boolean"
        },
        {
         "name": "5th Block Hbr Layout",
         "rawType": "bool",
         "type": "boolean"
        },
        {
         "name": "5th Phase JP Nagar",
         "rawType": "bool",
         "type": "boolean"
        },
        {
         "name": "6th Phase JP Nagar",
         "rawType": "bool",
         "type": "boolean"
        },
        {
         "name": "7th Phase JP Nagar",
         "rawType": "bool",
         "type": "boolean"
        },
        {
         "name": "8th Phase JP Nagar",
         "rawType": "bool",
         "type": "boolean"
        },
        {
         "name": "9th Phase JP Nagar",
         "rawType": "bool",
         "type": "boolean"
        },
        {
         "name": "AECS Layout",
         "rawType": "bool",
         "type": "boolean"
        },
        {
         "name": "Abbigere",
         "rawType": "bool",
         "type": "boolean"
        },
        {
         "name": "Akshaya Nagar",
         "rawType": "bool",
         "type": "boolean"
        },
        {
         "name": "Ambalipura",
         "rawType": "bool",
         "type": "boolean"
        },
        {
         "name": "Ambedkar Nagar",
         "rawType": "bool",
         "type": "boolean"
        },
        {
         "name": "Amruthahalli",
         "rawType": "bool",
         "type": "boolean"
        },
        {
         "name": "Anandapura",
         "rawType": "bool",
         "type": "boolean"
        },
        {
         "name": "Ananth Nagar",
         "rawType": "bool",
         "type": "boolean"
        },
        {
         "name": "Anekal",
         "rawType": "bool",
         "type": "boolean"
        },
        {
         "name": "Anjanapura",
         "rawType": "bool",
         "type": "boolean"
        },
        {
         "name": "Ardendale",
         "rawType": "bool",
         "type": "boolean"
        },
        {
         "name": "Arekere",
         "rawType": "bool",
         "type": "boolean"
        },
        {
         "name": "Attibele",
         "rawType": "bool",
         "type": "boolean"
        },
        {
         "name": "BEML Layout",
         "rawType": "bool",
         "type": "boolean"
        },
        {
         "name": "BTM 2nd Stage",
         "rawType": "bool",
         "type": "boolean"
        },
        {
         "name": "BTM Layout",
         "rawType": "bool",
         "type": "boolean"
        },
        {
         "name": "Babusapalaya",
         "rawType": "bool",
         "type": "boolean"
        },
        {
         "name": "Badavala Nagar",
         "rawType": "bool",
         "type": "boolean"
        },
        {
         "name": "Balagere",
         "rawType": "bool",
         "type": "boolean"
        },
        {
         "name": "Banashankari",
         "rawType": "bool",
         "type": "boolean"
        },
        {
         "name": "Banashankari Stage II",
         "rawType": "bool",
         "type": "boolean"
        },
        {
         "name": "Banashankari Stage III",
         "rawType": "bool",
         "type": "boolean"
        },
        {
         "name": "Banashankari Stage V",
         "rawType": "bool",
         "type": "boolean"
        },
        {
         "name": "Banashankari Stage VI",
         "rawType": "bool",
         "type": "boolean"
        },
        {
         "name": "Banaswadi",
         "rawType": "bool",
         "type": "boolean"
        },
        {
         "name": "Banjara Layout",
         "rawType": "bool",
         "type": "boolean"
        },
        {
         "name": "Bannerghatta",
         "rawType": "bool",
         "type": "boolean"
        },
        {
         "name": "Bannerghatta Road",
         "rawType": "bool",
         "type": "boolean"
        },
        {
         "name": "Basavangudi",
         "rawType": "bool",
         "type": "boolean"
        },
        {
         "name": "Basaveshwara Nagar",
         "rawType": "bool",
         "type": "boolean"
        },
        {
         "name": "Battarahalli",
         "rawType": "bool",
         "type": "boolean"
        },
        {
         "name": "Begur",
         "rawType": "bool",
         "type": "boolean"
        },
        {
         "name": "Begur Road",
         "rawType": "bool",
         "type": "boolean"
        },
        {
         "name": "Bellandur",
         "rawType": "bool",
         "type": "boolean"
        },
        {
         "name": "Benson Town",
         "rawType": "bool",
         "type": "boolean"
        },
        {
         "name": "Bharathi Nagar",
         "rawType": "bool",
         "type": "boolean"
        },
        {
         "name": "Bhoganhalli",
         "rawType": "bool",
         "type": "boolean"
        },
        {
         "name": "Billekahalli",
         "rawType": "bool",
         "type": "boolean"
        },
        {
         "name": "Binny Pete",
         "rawType": "bool",
         "type": "boolean"
        },
        {
         "name": "Bisuvanahalli",
         "rawType": "bool",
         "type": "boolean"
        },
        {
         "name": "Bommanahalli",
         "rawType": "bool",
         "type": "boolean"
        },
        {
         "name": "Bommasandra",
         "rawType": "bool",
         "type": "boolean"
        },
        {
         "name": "Bommasandra Industrial Area",
         "rawType": "bool",
         "type": "boolean"
        },
        {
         "name": "Bommenahalli",
         "rawType": "bool",
         "type": "boolean"
        },
        {
         "name": "Brookefield",
         "rawType": "bool",
         "type": "boolean"
        },
        {
         "name": "Budigere",
         "rawType": "bool",
         "type": "boolean"
        },
        {
         "name": "CV Raman Nagar",
         "rawType": "bool",
         "type": "boolean"
        },
        {
         "name": "Chamrajpet",
         "rawType": "bool",
         "type": "boolean"
        },
        {
         "name": "Chandapura",
         "rawType": "bool",
         "type": "boolean"
        },
        {
         "name": "Channasandra",
         "rawType": "bool",
         "type": "boolean"
        },
        {
         "name": "Chikka Tirupathi",
         "rawType": "bool",
         "type": "boolean"
        },
        {
         "name": "Chikkabanavar",
         "rawType": "bool",
         "type": "boolean"
        },
        {
         "name": "Chikkalasandra",
         "rawType": "bool",
         "type": "boolean"
        },
        {
         "name": "Choodasandra",
         "rawType": "bool",
         "type": "boolean"
        },
        {
         "name": "Cooke Town",
         "rawType": "bool",
         "type": "boolean"
        },
        {
         "name": "Cox Town",
         "rawType": "bool",
         "type": "boolean"
        },
        {
         "name": "Cunningham Road",
         "rawType": "bool",
         "type": "boolean"
        },
        {
         "name": "Dasanapura",
         "rawType": "bool",
         "type": "boolean"
        },
        {
         "name": "Dasarahalli",
         "rawType": "bool",
         "type": "boolean"
        },
        {
         "name": "Devanahalli",
         "rawType": "bool",
         "type": "boolean"
        },
        {
         "name": "Devarachikkanahalli",
         "rawType": "bool",
         "type": "boolean"
        },
        {
         "name": "Dodda Nekkundi",
         "rawType": "bool",
         "type": "boolean"
        },
        {
         "name": "Doddaballapur",
         "rawType": "bool",
         "type": "boolean"
        },
        {
         "name": "Doddakallasandra",
         "rawType": "bool",
         "type": "boolean"
        },
        {
         "name": "Doddathoguru",
         "rawType": "bool",
         "type": "boolean"
        },
        {
         "name": "Domlur",
         "rawType": "bool",
         "type": "boolean"
        },
        {
         "name": "Dommasandra",
         "rawType": "bool",
         "type": "boolean"
        },
        {
         "name": "EPIP Zone",
         "rawType": "bool",
         "type": "boolean"
        },
        {
         "name": "Electronic City",
         "rawType": "bool",
         "type": "boolean"
        },
        {
         "name": "Electronic City Phase II",
         "rawType": "bool",
         "type": "boolean"
        },
        {
         "name": "Electronics City Phase 1",
         "rawType": "bool",
         "type": "boolean"
        },
        {
         "name": "Frazer Town",
         "rawType": "bool",
         "type": "boolean"
        },
        {
         "name": "GM Palaya",
         "rawType": "bool",
         "type": "boolean"
        },
        {
         "name": "Garudachar Palya",
         "rawType": "bool",
         "type": "boolean"
        },
        {
         "name": "Giri Nagar",
         "rawType": "bool",
         "type": "boolean"
        },
        {
         "name": "Gollarapalya Hosahalli",
         "rawType": "bool",
         "type": "boolean"
        },
        {
         "name": "Gottigere",
         "rawType": "bool",
         "type": "boolean"
        },
        {
         "name": "Green Glen Layout",
         "rawType": "bool",
         "type": "boolean"
        },
        {
         "name": "Gubbalala",
         "rawType": "bool",
         "type": "boolean"
        },
        {
         "name": "Gunjur",
         "rawType": "bool",
         "type": "boolean"
        },
        {
         "name": "HAL 2nd Stage",
         "rawType": "bool",
         "type": "boolean"
        },
        {
         "name": "HBR Layout",
         "rawType": "bool",
         "type": "boolean"
        },
        {
         "name": "HRBR Layout",
         "rawType": "bool",
         "type": "boolean"
        },
        {
         "name": "HSR Layout",
         "rawType": "bool",
         "type": "boolean"
        },
        {
         "name": "Haralur Road",
         "rawType": "bool",
         "type": "boolean"
        },
        {
         "name": "Harlur",
         "rawType": "bool",
         "type": "boolean"
        },
        {
         "name": "Hebbal",
         "rawType": "bool",
         "type": "boolean"
        },
        {
         "name": "Hebbal Kempapura",
         "rawType": "bool",
         "type": "boolean"
        },
        {
         "name": "Hegde Nagar",
         "rawType": "bool",
         "type": "boolean"
        },
        {
         "name": "Hennur",
         "rawType": "bool",
         "type": "boolean"
        },
        {
         "name": "Hennur Road",
         "rawType": "bool",
         "type": "boolean"
        },
        {
         "name": "Hoodi",
         "rawType": "bool",
         "type": "boolean"
        },
        {
         "name": "Horamavu Agara",
         "rawType": "bool",
         "type": "boolean"
        },
        {
         "name": "Horamavu Banaswadi",
         "rawType": "bool",
         "type": "boolean"
        },
        {
         "name": "Hormavu",
         "rawType": "bool",
         "type": "boolean"
        },
        {
         "name": "Hosa Road",
         "rawType": "bool",
         "type": "boolean"
        },
        {
         "name": "Hosakerehalli",
         "rawType": "bool",
         "type": "boolean"
        },
        {
         "name": "Hoskote",
         "rawType": "bool",
         "type": "boolean"
        },
        {
         "name": "Hosur Road",
         "rawType": "bool",
         "type": "boolean"
        },
        {
         "name": "Hulimavu",
         "rawType": "bool",
         "type": "boolean"
        },
        {
         "name": "ISRO Layout",
         "rawType": "bool",
         "type": "boolean"
        },
        {
         "name": "ITPL",
         "rawType": "bool",
         "type": "boolean"
        },
        {
         "name": "Iblur Village",
         "rawType": "bool",
         "type": "boolean"
        },
        {
         "name": "Indira Nagar",
         "rawType": "bool",
         "type": "boolean"
        },
        {
         "name": "JP Nagar",
         "rawType": "bool",
         "type": "boolean"
        },
        {
         "name": "Jakkur",
         "rawType": "bool",
         "type": "boolean"
        },
        {
         "name": "Jalahalli",
         "rawType": "bool",
         "type": "boolean"
        },
        {
         "name": "Jalahalli East",
         "rawType": "bool",
         "type": "boolean"
        },
        {
         "name": "Jigani",
         "rawType": "bool",
         "type": "boolean"
        },
        {
         "name": "Judicial Layout",
         "rawType": "bool",
         "type": "boolean"
        },
        {
         "name": "KR Puram",
         "rawType": "bool",
         "type": "boolean"
        },
        {
         "name": "Kadubeesanahalli",
         "rawType": "bool",
         "type": "boolean"
        },
        {
         "name": "Kadugodi",
         "rawType": "bool",
         "type": "boolean"
        },
        {
         "name": "Kaggadasapura",
         "rawType": "bool",
         "type": "boolean"
        },
        {
         "name": "Kaggalipura",
         "rawType": "bool",
         "type": "boolean"
        },
        {
         "name": "Kaikondrahalli",
         "rawType": "bool",
         "type": "boolean"
        },
        {
         "name": "Kalena Agrahara",
         "rawType": "bool",
         "type": "boolean"
        },
        {
         "name": "Kalyan nagar",
         "rawType": "bool",
         "type": "boolean"
        },
        {
         "name": "Kambipura",
         "rawType": "bool",
         "type": "boolean"
        },
        {
         "name": "Kammanahalli",
         "rawType": "bool",
         "type": "boolean"
        },
        {
         "name": "Kammasandra",
         "rawType": "bool",
         "type": "boolean"
        },
        {
         "name": "Kanakapura",
         "rawType": "bool",
         "type": "boolean"
        },
        {
         "name": "Kanakpura Road",
         "rawType": "bool",
         "type": "boolean"
        },
        {
         "name": "Kannamangala",
         "rawType": "bool",
         "type": "boolean"
        },
        {
         "name": "Karuna Nagar",
         "rawType": "bool",
         "type": "boolean"
        },
        {
         "name": "Kasavanhalli",
         "rawType": "bool",
         "type": "boolean"
        },
        {
         "name": "Kasturi Nagar",
         "rawType": "bool",
         "type": "boolean"
        },
        {
         "name": "Kathriguppe",
         "rawType": "bool",
         "type": "boolean"
        },
        {
         "name": "Kaval Byrasandra",
         "rawType": "bool",
         "type": "boolean"
        },
        {
         "name": "Kenchenahalli",
         "rawType": "bool",
         "type": "boolean"
        },
        {
         "name": "Kengeri",
         "rawType": "bool",
         "type": "boolean"
        },
        {
         "name": "Kengeri Satellite Town",
         "rawType": "bool",
         "type": "boolean"
        },
        {
         "name": "Kereguddadahalli",
         "rawType": "bool",
         "type": "boolean"
        },
        {
         "name": "Kodichikkanahalli",
         "rawType": "bool",
         "type": "boolean"
        },
        {
         "name": "Kodigehaali",
         "rawType": "bool",
         "type": "boolean"
        },
        {
         "name": "Kodigehalli",
         "rawType": "bool",
         "type": "boolean"
        },
        {
         "name": "Kodihalli",
         "rawType": "bool",
         "type": "boolean"
        },
        {
         "name": "Kogilu",
         "rawType": "bool",
         "type": "boolean"
        },
        {
         "name": "Konanakunte",
         "rawType": "bool",
         "type": "boolean"
        },
        {
         "name": "Koramangala",
         "rawType": "bool",
         "type": "boolean"
        },
        {
         "name": "Kothannur",
         "rawType": "bool",
         "type": "boolean"
        },
        {
         "name": "Kothanur",
         "rawType": "bool",
         "type": "boolean"
        },
        {
         "name": "Kudlu",
         "rawType": "bool",
         "type": "boolean"
        },
        {
         "name": "Kudlu Gate",
         "rawType": "bool",
         "type": "boolean"
        },
        {
         "name": "Kumaraswami Layout",
         "rawType": "bool",
         "type": "boolean"
        },
        {
         "name": "Kundalahalli",
         "rawType": "bool",
         "type": "boolean"
        },
        {
         "name": "LB Shastri Nagar",
         "rawType": "bool",
         "type": "boolean"
        },
        {
         "name": "Laggere",
         "rawType": "bool",
         "type": "boolean"
        },
        {
         "name": "Lakshminarayana Pura",
         "rawType": "bool",
         "type": "boolean"
        },
        {
         "name": "Lingadheeranahalli",
         "rawType": "bool",
         "type": "boolean"
        },
        {
         "name": "Magadi Road",
         "rawType": "bool",
         "type": "boolean"
        },
        {
         "name": "Mahadevpura",
         "rawType": "bool",
         "type": "boolean"
        },
        {
         "name": "Mahalakshmi Layout",
         "rawType": "bool",
         "type": "boolean"
        },
        {
         "name": "Mallasandra",
         "rawType": "bool",
         "type": "boolean"
        },
        {
         "name": "Malleshpalya",
         "rawType": "bool",
         "type": "boolean"
        },
        {
         "name": "Malleshwaram",
         "rawType": "bool",
         "type": "boolean"
        },
        {
         "name": "Marathahalli",
         "rawType": "bool",
         "type": "boolean"
        },
        {
         "name": "Margondanahalli",
         "rawType": "bool",
         "type": "boolean"
        },
        {
         "name": "Marsur",
         "rawType": "bool",
         "type": "boolean"
        },
        {
         "name": "Mico Layout",
         "rawType": "bool",
         "type": "boolean"
        },
        {
         "name": "Munnekollal",
         "rawType": "bool",
         "type": "boolean"
        },
        {
         "name": "Murugeshpalya",
         "rawType": "bool",
         "type": "boolean"
        },
        {
         "name": "Mysore Road",
         "rawType": "bool",
         "type": "boolean"
        },
        {
         "name": "NGR Layout",
         "rawType": "bool",
         "type": "boolean"
        },
        {
         "name": "NRI Layout",
         "rawType": "bool",
         "type": "boolean"
        },
        {
         "name": "Nagarbhavi",
         "rawType": "bool",
         "type": "boolean"
        },
        {
         "name": "Nagasandra",
         "rawType": "bool",
         "type": "boolean"
        },
        {
         "name": "Nagavara",
         "rawType": "bool",
         "type": "boolean"
        },
        {
         "name": "Nagavarapalya",
         "rawType": "bool",
         "type": "boolean"
        },
        {
         "name": "Narayanapura",
         "rawType": "bool",
         "type": "boolean"
        },
        {
         "name": "Neeladri Nagar",
         "rawType": "bool",
         "type": "boolean"
        },
        {
         "name": "Nehru Nagar",
         "rawType": "bool",
         "type": "boolean"
        },
        {
         "name": "OMBR Layout",
         "rawType": "bool",
         "type": "boolean"
        },
        {
         "name": "Old Airport Road",
         "rawType": "bool",
         "type": "boolean"
        },
        {
         "name": "Old Madras Road",
         "rawType": "bool",
         "type": "boolean"
        },
        {
         "name": "Padmanabhanagar",
         "rawType": "bool",
         "type": "boolean"
        },
        {
         "name": "Pai Layout",
         "rawType": "bool",
         "type": "boolean"
        },
        {
         "name": "Panathur",
         "rawType": "bool",
         "type": "boolean"
        },
        {
         "name": "Parappana Agrahara",
         "rawType": "bool",
         "type": "boolean"
        },
        {
         "name": "Pattandur Agrahara",
         "rawType": "bool",
         "type": "boolean"
        },
        {
         "name": "Poorna Pragna Layout",
         "rawType": "bool",
         "type": "boolean"
        },
        {
         "name": "Prithvi Layout",
         "rawType": "bool",
         "type": "boolean"
        },
        {
         "name": "R.T. Nagar",
         "rawType": "bool",
         "type": "boolean"
        },
        {
         "name": "Rachenahalli",
         "rawType": "bool",
         "type": "boolean"
        },
        {
         "name": "Raja Rajeshwari Nagar",
         "rawType": "bool",
         "type": "boolean"
        },
        {
         "name": "Rajaji Nagar",
         "rawType": "bool",
         "type": "boolean"
        },
        {
         "name": "Rajiv Nagar",
         "rawType": "bool",
         "type": "boolean"
        },
        {
         "name": "Ramagondanahalli",
         "rawType": "bool",
         "type": "boolean"
        },
        {
         "name": "Ramamurthy Nagar",
         "rawType": "bool",
         "type": "boolean"
        },
        {
         "name": "Rayasandra",
         "rawType": "bool",
         "type": "boolean"
        },
        {
         "name": "Sahakara Nagar",
         "rawType": "bool",
         "type": "boolean"
        },
        {
         "name": "Sanjay nagar",
         "rawType": "bool",
         "type": "boolean"
        },
        {
         "name": "Sarakki Nagar",
         "rawType": "bool",
         "type": "boolean"
        },
        {
         "name": "Sarjapur",
         "rawType": "bool",
         "type": "boolean"
        },
        {
         "name": "Sarjapur  Road",
         "rawType": "bool",
         "type": "boolean"
        },
        {
         "name": "Sarjapura - Attibele Road",
         "rawType": "bool",
         "type": "boolean"
        },
        {
         "name": "Sector 2 HSR Layout",
         "rawType": "bool",
         "type": "boolean"
        },
        {
         "name": "Sector 7 HSR Layout",
         "rawType": "bool",
         "type": "boolean"
        },
        {
         "name": "Seegehalli",
         "rawType": "bool",
         "type": "boolean"
        },
        {
         "name": "Shampura",
         "rawType": "bool",
         "type": "boolean"
        },
        {
         "name": "Shivaji Nagar",
         "rawType": "bool",
         "type": "boolean"
        },
        {
         "name": "Singasandra",
         "rawType": "bool",
         "type": "boolean"
        },
        {
         "name": "Somasundara Palya",
         "rawType": "bool",
         "type": "boolean"
        },
        {
         "name": "Sompura",
         "rawType": "bool",
         "type": "boolean"
        },
        {
         "name": "Sonnenahalli",
         "rawType": "bool",
         "type": "boolean"
        },
        {
         "name": "Subramanyapura",
         "rawType": "bool",
         "type": "boolean"
        },
        {
         "name": "Sultan Palaya",
         "rawType": "bool",
         "type": "boolean"
        },
        {
         "name": "TC Palaya",
         "rawType": "bool",
         "type": "boolean"
        },
        {
         "name": "Talaghattapura",
         "rawType": "bool",
         "type": "boolean"
        },
        {
         "name": "Thanisandra",
         "rawType": "bool",
         "type": "boolean"
        },
        {
         "name": "Thigalarapalya",
         "rawType": "bool",
         "type": "boolean"
        },
        {
         "name": "Thubarahalli",
         "rawType": "bool",
         "type": "boolean"
        },
        {
         "name": "Thyagaraja Nagar",
         "rawType": "bool",
         "type": "boolean"
        },
        {
         "name": "Tindlu",
         "rawType": "bool",
         "type": "boolean"
        },
        {
         "name": "Tumkur Road",
         "rawType": "bool",
         "type": "boolean"
        },
        {
         "name": "Ulsoor",
         "rawType": "bool",
         "type": "boolean"
        },
        {
         "name": "Uttarahalli",
         "rawType": "bool",
         "type": "boolean"
        },
        {
         "name": "Varthur",
         "rawType": "bool",
         "type": "boolean"
        },
        {
         "name": "Varthur Road",
         "rawType": "bool",
         "type": "boolean"
        },
        {
         "name": "Vasanthapura",
         "rawType": "bool",
         "type": "boolean"
        },
        {
         "name": "Vidyaranyapura",
         "rawType": "bool",
         "type": "boolean"
        },
        {
         "name": "Vijayanagar",
         "rawType": "bool",
         "type": "boolean"
        },
        {
         "name": "Vishveshwarya Layout",
         "rawType": "bool",
         "type": "boolean"
        },
        {
         "name": "Vishwapriya Layout",
         "rawType": "bool",
         "type": "boolean"
        },
        {
         "name": "Vittasandra",
         "rawType": "bool",
         "type": "boolean"
        },
        {
         "name": "Whitefield",
         "rawType": "bool",
         "type": "boolean"
        },
        {
         "name": "Yelachenahalli",
         "rawType": "bool",
         "type": "boolean"
        },
        {
         "name": "Yelahanka",
         "rawType": "bool",
         "type": "boolean"
        },
        {
         "name": "Yelahanka New Town",
         "rawType": "bool",
         "type": "boolean"
        },
        {
         "name": "Yelenahalli",
         "rawType": "bool",
         "type": "boolean"
        },
        {
         "name": "Yeshwanthpur",
         "rawType": "bool",
         "type": "boolean"
        }
       ],
       "conversionMethod": "pd.DataFrame",
       "ref": "d474af99-50ca-4f2e-ba5f-eec913d6ec4a",
       "rows": [
        [
         "6505",
         "1200.0",
         "2.0",
         "70.0",
         "2",
         "False",
         "False",
         "False",
         "False",
         "False",
         "False",
         "False",
         "False",
         "False",
         "False",
         "False",
         "False",
         "False",
         "False",
         "False",
         "False",
         "False",
         "False",
         "False",
         "False",
         "False",
         "False",
         "False",
         "False",
         "False",
         "False",
         "False",
         "False",
         "False",
         "False",
         "False",
         "False",
         "False",
         "False",
         "False",
         "False",
         "False",
         "False",
         "False",
         "False",
         "False",
         "False",
         "False",
         "False",
         "False",
         "False",
         "False",
         "False",
         "False",
         "False",
         "False",
         "False",
         "False",
         "False",
         "False",
         "False",
         "False",
         "False",
         "False",
         "False",
         "False",
         "False",
         "False",
         "False",
         "False",
         "False",
         "False",
         "False",
         "False",
         "False",
         "False",
         "False",
         "False",
         "False",
         "False",
         "False",
         "False",
         "False",
         "False",
         "False",
         "False",
         "False",
         "False",
         "False",
         "False",
         "False",
         "False",
         "False",
         "False",
         "False",
         "False",
         "False",
         "False",
         "False",
         "False",
         "False",
         "False",
         "False",
         "False",
         "False",
         "False",
         "False",
         "False",
         "False",
         "False",
         "False",
         "False",
         "False",
         "False",
         "False",
         "False",
         "False",
         "False",
         "False",
         "False",
         "False",
         "False",
         "False",
         "False",
         "False",
         "False",
         "False",
         "False",
         "False",
         "False",
         "False",
         "False",
         "False",
         "False",
         "False",
         "False",
         "False",
         "False",
         "False",
         "False",
         "False",
         "False",
         "False",
         "False",
         "False",
         "False",
         "False",
         "False",
         "False",
         "False",
         "False",
         "False",
         "False",
         "False",
         "False",
         "False",
         "False",
         "False",
         "False",
         "False",
         "False",
         "False",
         "False",
         "False",
         "False",
         "False",
         "False",
         "False",
         "False",
         "False",
         "False",
         "False",
         "False",
         "False",
         "False",
         "False",
         "False",
         "False",
         "False",
         "False",
         "False",
         "False",
         "False",
         "False",
         "False",
         "False",
         "False",
         "False",
         "False",
         "False",
         "False",
         "False",
         "False",
         "False",
         "False",
         "False",
         "False",
         "False",
         "False",
         "False",
         "False",
         "False",
         "False",
         "False",
         "False",
         "False",
         "False",
         "False",
         "False",
         "False",
         "False",
         "False",
         "False",
         "False",
         "False",
         "False",
         "False",
         "False",
         "False",
         "False",
         "False",
         "False",
         "True",
         "False",
         "False",
         "False",
         "False",
         "False",
         "False",
         "False",
         "False",
         "False",
         "False",
         "False",
         "False",
         "False",
         "False",
         "False",
         "False",
         "False",
         "False",
         "False",
         "False",
         "False",
         "False",
         "False"
        ],
        [
         "7839",
         "450.0",
         "1.0",
         "16.0",
         "1",
         "False",
         "False",
         "False",
         "False",
         "False",
         "False",
         "False",
         "False",
         "False",
         "False",
         "False",
         "False",
         "False",
         "False",
         "False",
         "False",
         "False",
         "False",
         "False",
         "False",
         "False",
         "False",
         "False",
         "False",
         "False",
         "False",
         "False",
         "False",
         "False",
         "False",
         "False",
         "False",
         "False",
         "False",
         "False",
         "False",
         "False",
         "False",
         "False",
         "False",
         "False",
         "False",
         "False",
         "False",
         "False",
         "False",
         "False",
         "False",
         "False",
         "False",
         "False",
         "False",
         "False",
         "False",
         "False",
         "False",
         "False",
         "False",
         "False",
         "False",
         "False",
         "False",
         "False",
         "False",
         "False",
         "False",
         "False",
         "False",
         "False",
         "False",
         "False",
         "False",
         "False",
         "False",
         "False",
         "False",
         "False",
         "False",
         "False",
         "False",
         "False",
         "False",
         "False",
         "False",
         "False",
         "False",
         "False",
         "False",
         "False",
         "False",
         "False",
         "False",
         "False",
         "False",
         "False",
         "False",
         "False",
         "False",
         "False",
         "False",
         "False",
         "False",
         "False",
         "False",
         "False",
         "False",
         "False",
         "False",
         "False",
         "False",
         "False",
         "False",
         "False",
         "False",
         "False",
         "False",
         "False",
         "False",
         "False",
         "False",
         "False",
         "False",
         "False",
         "False",
         "False",
         "False",
         "False",
         "False",
         "False",
         "False",
         "False",
         "False",
         "False",
         "False",
         "False",
         "False",
         "False",
         "False",
         "False",
         "False",
         "False",
         "False",
         "False",
         "False",
         "False",
         "False",
         "False",
         "False",
         "False",
         "False",
         "False",
         "False",
         "False",
         "False",
         "False",
         "False",
         "False",
         "False",
         "False",
         "False",
         "False",
         "False",
         "False",
         "False",
         "False",
         "False",
         "False",
         "False",
         "False",
         "False",
         "False",
         "False",
         "False",
         "False",
         "False",
         "False",
         "False",
         "False",
         "False",
         "False",
         "False",
         "False",
         "False",
         "False",
         "False",
         "False",
         "False",
         "False",
         "False",
         "False",
         "False",
         "False",
         "False",
         "False",
         "False",
         "False",
         "False",
         "False",
         "False",
         "False",
         "False",
         "False",
         "False",
         "False",
         "False",
         "False",
         "False",
         "False",
         "False",
         "False",
         "False",
         "False",
         "False",
         "False",
         "False",
         "False",
         "False",
         "False",
         "False",
         "False",
         "False",
         "False",
         "False",
         "False",
         "False",
         "False",
         "False",
         "False",
         "False",
         "False",
         "False",
         "False",
         "False",
         "False",
         "False",
         "False",
         "False",
         "False",
         "True",
         "False",
         "False"
        ],
        [
         "2992",
         "1040.0",
         "2.0",
         "42.12",
         "2",
         "False",
         "False",
         "False",
         "False",
         "False",
         "False",
         "False",
         "False",
         "False",
         "False",
         "False",
         "False",
         "False",
         "False",
         "False",
         "False",
         "False",
         "False",
         "False",
         "False",
         "False",
         "False",
         "False",
         "False",
         "False",
         "False",
         "False",
         "False",
         "False",
         "False",
         "False",
         "False",
         "False",
         "False",
         "False",
         "False",
         "False",
         "False",
         "False",
         "False",
         "False",
         "False",
         "False",
         "False",
         "False",
         "False",
         "False",
         "False",
         "False",
         "False",
         "False",
         "False",
         "False",
         "False",
         "False",
         "False",
         "False",
         "False",
         "False",
         "False",
         "False",
         "False",
         "False",
         "False",
         "False",
         "False",
         "False",
         "False",
         "False",
         "False",
         "False",
         "False",
         "False",
         "False",
         "False",
         "False",
         "False",
         "False",
         "False",
         "False",
         "False",
         "False",
         "False",
         "False",
         "False",
         "False",
         "False",
         "False",
         "False",
         "False",
         "False",
         "False",
         "False",
         "False",
         "False",
         "False",
         "False",
         "False",
         "False",
         "True",
         "False",
         "False",
         "False",
         "False",
         "False",
         "False",
         "False",
         "False",
         "False",
         "False",
         "False",
         "False",
         "False",
         "False",
         "False",
         "False",
         "False",
         "False",
         "False",
         "False",
         "False",
         "False",
         "False",
         "False",
         "False",
         "False",
         "False",
         "False",
         "False",
         "False",
         "False",
         "False",
         "False",
         "False",
         "False",
         "False",
         "False",
         "False",
         "False",
         "False",
         "False",
         "False",
         "False",
         "False",
         "False",
         "False",
         "False",
         "False",
         "False",
         "False",
         "False",
         "False",
         "False",
         "False",
         "False",
         "False",
         "False",
         "False",
         "False",
         "False",
         "False",
         "False",
         "False",
         "False",
         "False",
         "False",
         "False",
         "False",
         "False",
         "False",
         "False",
         "False",
         "False",
         "False",
         "False",
         "False",
         "False",
         "False",
         "False",
         "False",
         "False",
         "False",
         "False",
         "False",
         "False",
         "False",
         "False",
         "False",
         "False",
         "False",
         "False",
         "False",
         "False",
         "False",
         "False",
         "False",
         "False",
         "False",
         "False",
         "False",
         "False",
         "False",
         "False",
         "False",
         "False",
         "False",
         "False",
         "False",
         "False",
         "False",
         "False",
         "False",
         "False",
         "False",
         "False",
         "False",
         "False",
         "False",
         "False",
         "False",
         "False",
         "False",
         "False",
         "False",
         "False",
         "False",
         "False",
         "False",
         "False",
         "False",
         "False",
         "False",
         "False",
         "False",
         "False",
         "False",
         "False",
         "False",
         "False",
         "False",
         "False"
        ],
        [
         "1640",
         "1428.0",
         "2.0",
         "80.0",
         "3",
         "False",
         "False",
         "False",
         "False",
         "False",
         "False",
         "False",
         "False",
         "False",
         "False",
         "False",
         "False",
         "False",
         "False",
         "False",
         "False",
         "False",
         "False",
         "False",
         "False",
         "False",
         "False",
         "False",
         "False",
         "False",
         "False",
         "False",
         "False",
         "False",
         "False",
         "False",
         "False",
         "False",
         "False",
         "False",
         "False",
         "False",
         "False",
         "False",
         "False",
         "False",
         "False",
         "False",
         "False",
         "False",
         "False",
         "False",
         "False",
         "False",
         "False",
         "False",
         "False",
         "False",
         "False",
         "False",
         "False",
         "False",
         "False",
         "False",
         "False",
         "False",
         "False",
         "True",
         "False",
         "False",
         "False",
         "False",
         "False",
         "False",
         "False",
         "False",
         "False",
         "False",
         "False",
         "False",
         "False",
         "False",
         "False",
         "False",
         "False",
         "False",
         "False",
         "False",
         "False",
         "False",
         "False",
         "False",
         "False",
         "False",
         "False",
         "False",
         "False",
         "False",
         "False",
         "False",
         "False",
         "False",
         "False",
         "False",
         "False",
         "False",
         "False",
         "False",
         "False",
         "False",
         "False",
         "False",
         "False",
         "False",
         "False",
         "False",
         "False",
         "False",
         "False",
         "False",
         "False",
         "False",
         "False",
         "False",
         "False",
         "False",
         "False",
         "False",
         "False",
         "False",
         "False",
         "False",
         "False",
         "False",
         "False",
         "False",
         "False",
         "False",
         "False",
         "False",
         "False",
         "False",
         "False",
         "False",
         "False",
         "False",
         "False",
         "False",
         "False",
         "False",
         "False",
         "False",
         "False",
         "False",
         "False",
         "False",
         "False",
         "False",
         "False",
         "False",
         "False",
         "False",
         "False",
         "False",
         "False",
         "False",
         "False",
         "False",
         "False",
         "False",
         "False",
         "False",
         "False",
         "False",
         "False",
         "False",
         "False",
         "False",
         "False",
         "False",
         "False",
         "False",
         "False",
         "False",
         "False",
         "False",
         "False",
         "False",
         "False",
         "False",
         "False",
         "False",
         "False",
         "False",
         "False",
         "False",
         "False",
         "False",
         "False",
         "False",
         "False",
         "False",
         "False",
         "False",
         "False",
         "False",
         "False",
         "False",
         "False",
         "False",
         "False",
         "False",
         "False",
         "False",
         "False",
         "False",
         "False",
         "False",
         "False",
         "False",
         "False",
         "False",
         "False",
         "False",
         "False",
         "False",
         "False",
         "False",
         "False",
         "False",
         "False",
         "False",
         "False",
         "False",
         "False",
         "False",
         "False",
         "False",
         "False",
         "False",
         "False",
         "False",
         "False",
         "False",
         "False",
         "False"
        ],
        [
         "4345",
         "945.0",
         "2.0",
         "50.0",
         "2",
         "False",
         "False",
         "False",
         "False",
         "False",
         "False",
         "False",
         "False",
         "False",
         "False",
         "False",
         "False",
         "False",
         "False",
         "False",
         "False",
         "False",
         "False",
         "False",
         "False",
         "False",
         "False",
         "False",
         "False",
         "False",
         "False",
         "False",
         "False",
         "False",
         "False",
         "False",
         "False",
         "False",
         "False",
         "False",
         "False",
         "False",
         "False",
         "False",
         "False",
         "False",
         "False",
         "False",
         "False",
         "False",
         "False",
         "False",
         "False",
         "False",
         "False",
         "False",
         "False",
         "False",
         "False",
         "False",
         "False",
         "False",
         "False",
         "False",
         "False",
         "False",
         "False",
         "False",
         "False",
         "False",
         "False",
         "False",
         "False",
         "False",
         "False",
         "False",
         "False",
         "False",
         "False",
         "False",
         "False",
         "False",
         "False",
         "False",
         "False",
         "False",
         "False",
         "False",
         "False",
         "False",
         "False",
         "False",
         "False",
         "False",
         "False",
         "False",
         "False",
         "False",
         "False",
         "False",
         "False",
         "False",
         "False",
         "False",
         "False",
         "False",
         "False",
         "False",
         "False",
         "False",
         "False",
         "False",
         "False",
         "False",
         "False",
         "False",
         "False",
         "False",
         "False",
         "False",
         "False",
         "False",
         "False",
         "False",
         "False",
         "False",
         "False",
         "False",
         "False",
         "False",
         "False",
         "False",
         "False",
         "False",
         "False",
         "False",
         "False",
         "False",
         "False",
         "False",
         "False",
         "False",
         "False",
         "True",
         "False",
         "False",
         "False",
         "False",
         "False",
         "False",
         "False",
         "False",
         "False",
         "False",
         "False",
         "False",
         "False",
         "False",
         "False",
         "False",
         "False",
         "False",
         "False",
         "False",
         "False",
         "False",
         "False",
         "False",
         "False",
         "False",
         "False",
         "False",
         "False",
         "False",
         "False",
         "False",
         "False",
         "False",
         "False",
         "False",
         "False",
         "False",
         "False",
         "False",
         "False",
         "False",
         "False",
         "False",
         "False",
         "False",
         "False",
         "False",
         "False",
         "False",
         "False",
         "False",
         "False",
         "False",
         "False",
         "False",
         "False",
         "False",
         "False",
         "False",
         "False",
         "False",
         "False",
         "False",
         "False",
         "False",
         "False",
         "False",
         "False",
         "False",
         "False",
         "False",
         "False",
         "False",
         "False",
         "False",
         "False",
         "False",
         "False",
         "False",
         "False",
         "False",
         "False",
         "False",
         "False",
         "False",
         "False",
         "False",
         "False",
         "False",
         "False",
         "False",
         "False",
         "False",
         "False",
         "False",
         "False",
         "False",
         "False",
         "False",
         "False",
         "False"
        ],
        [
         "1526",
         "700.0",
         "1.0",
         "19.0",
         "2",
         "False",
         "False",
         "False",
         "False",
         "False",
         "False",
         "False",
         "False",
         "False",
         "False",
         "False",
         "False",
         "False",
         "False",
         "False",
         "False",
         "False",
         "False",
         "False",
         "False",
         "False",
         "False",
         "False",
         "False",
         "False",
         "False",
         "False",
         "False",
         "False",
         "False",
         "False",
         "False",
         "False",
         "False",
         "False",
         "False",
         "False",
         "False",
         "False",
         "False",
         "False",
         "False",
         "False",
         "False",
         "False",
         "False",
         "False",
         "False",
         "False",
         "False",
         "False",
         "False",
         "False",
         "False",
         "False",
         "False",
         "False",
         "False",
         "True",
         "False",
         "False",
         "False",
         "False",
         "False",
         "False",
         "False",
         "False",
         "False",
         "False",
         "False",
         "False",
         "False",
         "False",
         "False",
         "False",
         "False",
         "False",
         "False",
         "False",
         "False",
         "False",
         "False",
         "False",
         "False",
         "False",
         "False",
         "False",
         "False",
         "False",
         "False",
         "False",
         "False",
         "False",
         "False",
         "False",
         "False",
         "False",
         "False",
         "False",
         "False",
         "False",
         "False",
         "False",
         "False",
         "False",
         "False",
         "False",
         "False",
         "False",
         "False",
         "False",
         "False",
         "False",
         "False",
         "False",
         "False",
         "False",
         "False",
         "False",
         "False",
         "False",
         "False",
         "False",
         "False",
         "False",
         "False",
         "False",
         "False",
         "False",
         "False",
         "False",
         "False",
         "False",
         "False",
         "False",
         "False",
         "False",
         "False",
         "False",
         "False",
         "False",
         "False",
         "False",
         "False",
         "False",
         "False",
         "False",
         "False",
         "False",
         "False",
         "False",
         "False",
         "False",
         "False",
         "False",
         "False",
         "False",
         "False",
         "False",
         "False",
         "False",
         "False",
         "False",
         "False",
         "False",
         "False",
         "False",
         "False",
         "False",
         "False",
         "False",
         "False",
         "False",
         "False",
         "False",
         "False",
         "False",
         "False",
         "False",
         "False",
         "False",
         "False",
         "False",
         "False",
         "False",
         "False",
         "False",
         "False",
         "False",
         "False",
         "False",
         "False",
         "False",
         "False",
         "False",
         "False",
         "False",
         "False",
         "False",
         "False",
         "False",
         "False",
         "False",
         "False",
         "False",
         "False",
         "False",
         "False",
         "False",
         "False",
         "False",
         "False",
         "False",
         "False",
         "False",
         "False",
         "False",
         "False",
         "False",
         "False",
         "False",
         "False",
         "False",
         "False",
         "False",
         "False",
         "False",
         "False",
         "False",
         "False",
         "False",
         "False",
         "False",
         "False",
         "False",
         "False",
         "False",
         "False",
         "False",
         "False",
         "False"
        ],
        [
         "7860",
         "1240.0",
         "2.0",
         "47.12",
         "2",
         "False",
         "False",
         "False",
         "False",
         "False",
         "False",
         "False",
         "False",
         "False",
         "False",
         "False",
         "False",
         "False",
         "False",
         "False",
         "False",
         "False",
         "False",
         "False",
         "False",
         "False",
         "False",
         "False",
         "False",
         "False",
         "False",
         "False",
         "False",
         "False",
         "False",
         "False",
         "False",
         "False",
         "False",
         "False",
         "False",
         "False",
         "False",
         "False",
         "False",
         "False",
         "False",
         "False",
         "False",
         "False",
         "False",
         "False",
         "False",
         "False",
         "False",
         "False",
         "False",
         "False",
         "False",
         "False",
         "False",
         "False",
         "False",
         "False",
         "False",
         "False",
         "False",
         "False",
         "False",
         "False",
         "False",
         "False",
         "False",
         "False",
         "False",
         "False",
         "False",
         "False",
         "False",
         "False",
         "False",
         "False",
         "False",
         "False",
         "False",
         "False",
         "False",
         "False",
         "False",
         "False",
         "False",
         "False",
         "False",
         "False",
         "False",
         "False",
         "False",
         "False",
         "False",
         "False",
         "False",
         "False",
         "False",
         "False",
         "False",
         "False",
         "False",
         "False",
         "False",
         "False",
         "False",
         "False",
         "False",
         "False",
         "False",
         "False",
         "False",
         "False",
         "False",
         "False",
         "False",
         "False",
         "False",
         "False",
         "False",
         "False",
         "False",
         "False",
         "False",
         "False",
         "False",
         "False",
         "False",
         "False",
         "False",
         "False",
         "False",
         "False",
         "False",
         "False",
         "False",
         "False",
         "False",
         "False",
         "False",
         "False",
         "False",
         "False",
         "False",
         "False",
         "False",
         "False",
         "False",
         "False",
         "False",
         "False",
         "False",
         "False",
         "False",
         "False",
         "False",
         "False",
         "False",
         "False",
         "False",
         "False",
         "False",
         "False",
         "False",
         "False",
         "False",
         "False",
         "False",
         "False",
         "False",
         "False",
         "False",
         "False",
         "False",
         "False",
         "False",
         "False",
         "False",
         "False",
         "False",
         "False",
         "False",
         "False",
         "False",
         "False",
         "False",
         "False",
         "False",
         "False",
         "False",
         "False",
         "False",
         "False",
         "False",
         "False",
         "False",
         "False",
         "False",
         "False",
         "False",
         "False",
         "False",
         "False",
         "False",
         "False",
         "False",
         "False",
         "False",
         "False",
         "False",
         "False",
         "False",
         "False",
         "False",
         "False",
         "False",
         "False",
         "False",
         "False",
         "False",
         "False",
         "False",
         "False",
         "False",
         "False",
         "False",
         "False",
         "False",
         "False",
         "False",
         "False",
         "False",
         "False",
         "False",
         "False",
         "False",
         "False",
         "False",
         "False",
         "True",
         "False"
        ],
        [
         "6368",
         "2400.0",
         "2.0",
         "195.0",
         "3",
         "False",
         "False",
         "False",
         "False",
         "False",
         "False",
         "False",
         "False",
         "False",
         "False",
         "False",
         "False",
         "False",
         "False",
         "False",
         "False",
         "False",
         "False",
         "False",
         "False",
         "False",
         "False",
         "False",
         "False",
         "False",
         "False",
         "False",
         "False",
         "False",
         "False",
         "False",
         "False",
         "False",
         "False",
         "False",
         "False",
         "False",
         "False",
         "False",
         "False",
         "False",
         "False",
         "False",
         "False",
         "False",
         "False",
         "False",
         "False",
         "False",
         "False",
         "False",
         "False",
         "False",
         "False",
         "False",
         "False",
         "False",
         "False",
         "False",
         "False",
         "False",
         "False",
         "False",
         "False",
         "False",
         "False",
         "False",
         "False",
         "False",
         "False",
         "False",
         "False",
         "False",
         "False",
         "False",
         "False",
         "False",
         "False",
         "False",
         "False",
         "False",
         "False",
         "False",
         "False",
         "False",
         "False",
         "False",
         "False",
         "False",
         "False",
         "False",
         "False",
         "False",
         "False",
         "False",
         "False",
         "False",
         "False",
         "False",
         "False",
         "False",
         "False",
         "False",
         "False",
         "False",
         "False",
         "False",
         "False",
         "False",
         "False",
         "False",
         "False",
         "False",
         "False",
         "False",
         "False",
         "False",
         "False",
         "False",
         "False",
         "False",
         "False",
         "False",
         "False",
         "False",
         "False",
         "False",
         "False",
         "False",
         "False",
         "False",
         "False",
         "False",
         "False",
         "False",
         "False",
         "False",
         "False",
         "False",
         "False",
         "False",
         "False",
         "False",
         "False",
         "False",
         "False",
         "False",
         "False",
         "False",
         "False",
         "False",
         "False",
         "False",
         "False",
         "False",
         "False",
         "False",
         "False",
         "False",
         "False",
         "False",
         "False",
         "False",
         "False",
         "False",
         "False",
         "False",
         "False",
         "False",
         "False",
         "False",
         "False",
         "False",
         "False",
         "False",
         "False",
         "False",
         "False",
         "False",
         "False",
         "False",
         "False",
         "False",
         "False",
         "False",
         "False",
         "False",
         "False",
         "False",
         "False",
         "False",
         "False",
         "False",
         "False",
         "False",
         "False",
         "False",
         "False",
         "False",
         "False",
         "False",
         "False",
         "False",
         "False",
         "False",
         "False",
         "False",
         "True",
         "False",
         "False",
         "False",
         "False",
         "False",
         "False",
         "False",
         "False",
         "False",
         "False",
         "False",
         "False",
         "False",
         "False",
         "False",
         "False",
         "False",
         "False",
         "False",
         "False",
         "False",
         "False",
         "False",
         "False",
         "False",
         "False",
         "False",
         "False",
         "False",
         "False",
         "False",
         "False",
         "False"
        ],
        [
         "2313",
         "755.0",
         "1.0",
         "42.41",
         "1",
         "False",
         "False",
         "False",
         "False",
         "False",
         "False",
         "False",
         "False",
         "False",
         "False",
         "False",
         "False",
         "False",
         "False",
         "False",
         "False",
         "False",
         "False",
         "False",
         "False",
         "False",
         "False",
         "False",
         "False",
         "False",
         "False",
         "False",
         "False",
         "False",
         "False",
         "False",
         "False",
         "False",
         "False",
         "False",
         "False",
         "False",
         "False",
         "False",
         "False",
         "False",
         "False",
         "False",
         "False",
         "False",
         "False",
         "False",
         "False",
         "False",
         "False",
         "False",
         "False",
         "False",
         "False",
         "False",
         "False",
         "False",
         "False",
         "False",
         "False",
         "False",
         "False",
         "False",
         "False",
         "False",
         "False",
         "False",
         "False",
         "False",
         "False",
         "False",
         "False",
         "False",
         "False",
         "False",
         "False",
         "False",
         "False",
         "False",
         "False",
         "True",
         "False",
         "False",
         "False",
         "False",
         "False",
         "False",
         "False",
         "False",
         "False",
         "False",
         "False",
         "False",
         "False",
         "False",
         "False",
         "False",
         "False",
         "False",
         "False",
         "False",
         "False",
         "False",
         "False",
         "False",
         "False",
         "False",
         "False",
         "False",
         "False",
         "False",
         "False",
         "False",
         "False",
         "False",
         "False",
         "False",
         "False",
         "False",
         "False",
         "False",
         "False",
         "False",
         "False",
         "False",
         "False",
         "False",
         "False",
         "False",
         "False",
         "False",
         "False",
         "False",
         "False",
         "False",
         "False",
         "False",
         "False",
         "False",
         "False",
         "False",
         "False",
         "False",
         "False",
         "False",
         "False",
         "False",
         "False",
         "False",
         "False",
         "False",
         "False",
         "False",
         "False",
         "False",
         "False",
         "False",
         "False",
         "False",
         "False",
         "False",
         "False",
         "False",
         "False",
         "False",
         "False",
         "False",
         "False",
         "False",
         "False",
         "False",
         "False",
         "False",
         "False",
         "False",
         "False",
         "False",
         "False",
         "False",
         "False",
         "False",
         "False",
         "False",
         "False",
         "False",
         "False",
         "False",
         "False",
         "False",
         "False",
         "False",
         "False",
         "False",
         "False",
         "False",
         "False",
         "False",
         "False",
         "False",
         "False",
         "False",
         "False",
         "False",
         "False",
         "False",
         "False",
         "False",
         "False",
         "False",
         "False",
         "False",
         "False",
         "False",
         "False",
         "False",
         "False",
         "False",
         "False",
         "False",
         "False",
         "False",
         "False",
         "False",
         "False",
         "False",
         "False",
         "False",
         "False",
         "False",
         "False",
         "False",
         "False",
         "False",
         "False",
         "False",
         "False",
         "False",
         "False",
         "False",
         "False",
         "False"
        ],
        [
         "801",
         "1222.0",
         "2.0",
         "80.0",
         "2",
         "False",
         "False",
         "False",
         "False",
         "False",
         "False",
         "False",
         "False",
         "False",
         "False",
         "False",
         "False",
         "False",
         "False",
         "False",
         "False",
         "False",
         "False",
         "False",
         "False",
         "False",
         "False",
         "False",
         "False",
         "False",
         "False",
         "False",
         "False",
         "False",
         "False",
         "False",
         "False",
         "False",
         "False",
         "True",
         "False",
         "False",
         "False",
         "False",
         "False",
         "False",
         "False",
         "False",
         "False",
         "False",
         "False",
         "False",
         "False",
         "False",
         "False",
         "False",
         "False",
         "False",
         "False",
         "False",
         "False",
         "False",
         "False",
         "False",
         "False",
         "False",
         "False",
         "False",
         "False",
         "False",
         "False",
         "False",
         "False",
         "False",
         "False",
         "False",
         "False",
         "False",
         "False",
         "False",
         "False",
         "False",
         "False",
         "False",
         "False",
         "False",
         "False",
         "False",
         "False",
         "False",
         "False",
         "False",
         "False",
         "False",
         "False",
         "False",
         "False",
         "False",
         "False",
         "False",
         "False",
         "False",
         "False",
         "False",
         "False",
         "False",
         "False",
         "False",
         "False",
         "False",
         "False",
         "False",
         "False",
         "False",
         "False",
         "False",
         "False",
         "False",
         "False",
         "False",
         "False",
         "False",
         "False",
         "False",
         "False",
         "False",
         "False",
         "False",
         "False",
         "False",
         "False",
         "False",
         "False",
         "False",
         "False",
         "False",
         "False",
         "False",
         "False",
         "False",
         "False",
         "False",
         "False",
         "False",
         "False",
         "False",
         "False",
         "False",
         "False",
         "False",
         "False",
         "False",
         "False",
         "False",
         "False",
         "False",
         "False",
         "False",
         "False",
         "False",
         "False",
         "False",
         "False",
         "False",
         "False",
         "False",
         "False",
         "False",
         "False",
         "False",
         "False",
         "False",
         "False",
         "False",
         "False",
         "False",
         "False",
         "False",
         "False",
         "False",
         "False",
         "False",
         "False",
         "False",
         "False",
         "False",
         "False",
         "False",
         "False",
         "False",
         "False",
         "False",
         "False",
         "False",
         "False",
         "False",
         "False",
         "False",
         "False",
         "False",
         "False",
         "False",
         "False",
         "False",
         "False",
         "False",
         "False",
         "False",
         "False",
         "False",
         "False",
         "False",
         "False",
         "False",
         "False",
         "False",
         "False",
         "False",
         "False",
         "False",
         "False",
         "False",
         "False",
         "False",
         "False",
         "False",
         "False",
         "False",
         "False",
         "False",
         "False",
         "False",
         "False",
         "False",
         "False",
         "False",
         "False",
         "False",
         "False",
         "False",
         "False",
         "False",
         "False",
         "False",
         "False",
         "False"
        ]
       ],
       "shape": {
        "columns": 245,
        "rows": 10
       }
      },
      "text/html": [
       "<div>\n",
       "<style scoped>\n",
       "    .dataframe tbody tr th:only-of-type {\n",
       "        vertical-align: middle;\n",
       "    }\n",
       "\n",
       "    .dataframe tbody tr th {\n",
       "        vertical-align: top;\n",
       "    }\n",
       "\n",
       "    .dataframe thead th {\n",
       "        text-align: right;\n",
       "    }\n",
       "</style>\n",
       "<table border=\"1\" class=\"dataframe\">\n",
       "  <thead>\n",
       "    <tr style=\"text-align: right;\">\n",
       "      <th></th>\n",
       "      <th>total_sqft</th>\n",
       "      <th>bath</th>\n",
       "      <th>price</th>\n",
       "      <th>bhk</th>\n",
       "      <th>1st Block Jayanagar</th>\n",
       "      <th>1st Phase JP Nagar</th>\n",
       "      <th>2nd Phase Judicial Layout</th>\n",
       "      <th>2nd Stage Nagarbhavi</th>\n",
       "      <th>5th Block Hbr Layout</th>\n",
       "      <th>5th Phase JP Nagar</th>\n",
       "      <th>...</th>\n",
       "      <th>Vijayanagar</th>\n",
       "      <th>Vishveshwarya Layout</th>\n",
       "      <th>Vishwapriya Layout</th>\n",
       "      <th>Vittasandra</th>\n",
       "      <th>Whitefield</th>\n",
       "      <th>Yelachenahalli</th>\n",
       "      <th>Yelahanka</th>\n",
       "      <th>Yelahanka New Town</th>\n",
       "      <th>Yelenahalli</th>\n",
       "      <th>Yeshwanthpur</th>\n",
       "    </tr>\n",
       "  </thead>\n",
       "  <tbody>\n",
       "    <tr>\n",
       "      <th>6505</th>\n",
       "      <td>1200.0</td>\n",
       "      <td>2.0</td>\n",
       "      <td>70.00</td>\n",
       "      <td>2</td>\n",
       "      <td>False</td>\n",
       "      <td>False</td>\n",
       "      <td>False</td>\n",
       "      <td>False</td>\n",
       "      <td>False</td>\n",
       "      <td>False</td>\n",
       "      <td>...</td>\n",
       "      <td>False</td>\n",
       "      <td>False</td>\n",
       "      <td>False</td>\n",
       "      <td>False</td>\n",
       "      <td>False</td>\n",
       "      <td>False</td>\n",
       "      <td>False</td>\n",
       "      <td>False</td>\n",
       "      <td>False</td>\n",
       "      <td>False</td>\n",
       "    </tr>\n",
       "    <tr>\n",
       "      <th>7839</th>\n",
       "      <td>450.0</td>\n",
       "      <td>1.0</td>\n",
       "      <td>16.00</td>\n",
       "      <td>1</td>\n",
       "      <td>False</td>\n",
       "      <td>False</td>\n",
       "      <td>False</td>\n",
       "      <td>False</td>\n",
       "      <td>False</td>\n",
       "      <td>False</td>\n",
       "      <td>...</td>\n",
       "      <td>False</td>\n",
       "      <td>False</td>\n",
       "      <td>False</td>\n",
       "      <td>False</td>\n",
       "      <td>False</td>\n",
       "      <td>False</td>\n",
       "      <td>False</td>\n",
       "      <td>True</td>\n",
       "      <td>False</td>\n",
       "      <td>False</td>\n",
       "    </tr>\n",
       "    <tr>\n",
       "      <th>2992</th>\n",
       "      <td>1040.0</td>\n",
       "      <td>2.0</td>\n",
       "      <td>42.12</td>\n",
       "      <td>2</td>\n",
       "      <td>False</td>\n",
       "      <td>False</td>\n",
       "      <td>False</td>\n",
       "      <td>False</td>\n",
       "      <td>False</td>\n",
       "      <td>False</td>\n",
       "      <td>...</td>\n",
       "      <td>False</td>\n",
       "      <td>False</td>\n",
       "      <td>False</td>\n",
       "      <td>False</td>\n",
       "      <td>False</td>\n",
       "      <td>False</td>\n",
       "      <td>False</td>\n",
       "      <td>False</td>\n",
       "      <td>False</td>\n",
       "      <td>False</td>\n",
       "    </tr>\n",
       "    <tr>\n",
       "      <th>1640</th>\n",
       "      <td>1428.0</td>\n",
       "      <td>2.0</td>\n",
       "      <td>80.00</td>\n",
       "      <td>3</td>\n",
       "      <td>False</td>\n",
       "      <td>False</td>\n",
       "      <td>False</td>\n",
       "      <td>False</td>\n",
       "      <td>False</td>\n",
       "      <td>False</td>\n",
       "      <td>...</td>\n",
       "      <td>False</td>\n",
       "      <td>False</td>\n",
       "      <td>False</td>\n",
       "      <td>False</td>\n",
       "      <td>False</td>\n",
       "      <td>False</td>\n",
       "      <td>False</td>\n",
       "      <td>False</td>\n",
       "      <td>False</td>\n",
       "      <td>False</td>\n",
       "    </tr>\n",
       "    <tr>\n",
       "      <th>4345</th>\n",
       "      <td>945.0</td>\n",
       "      <td>2.0</td>\n",
       "      <td>50.00</td>\n",
       "      <td>2</td>\n",
       "      <td>False</td>\n",
       "      <td>False</td>\n",
       "      <td>False</td>\n",
       "      <td>False</td>\n",
       "      <td>False</td>\n",
       "      <td>False</td>\n",
       "      <td>...</td>\n",
       "      <td>False</td>\n",
       "      <td>False</td>\n",
       "      <td>False</td>\n",
       "      <td>False</td>\n",
       "      <td>False</td>\n",
       "      <td>False</td>\n",
       "      <td>False</td>\n",
       "      <td>False</td>\n",
       "      <td>False</td>\n",
       "      <td>False</td>\n",
       "    </tr>\n",
       "    <tr>\n",
       "      <th>1526</th>\n",
       "      <td>700.0</td>\n",
       "      <td>1.0</td>\n",
       "      <td>19.00</td>\n",
       "      <td>2</td>\n",
       "      <td>False</td>\n",
       "      <td>False</td>\n",
       "      <td>False</td>\n",
       "      <td>False</td>\n",
       "      <td>False</td>\n",
       "      <td>False</td>\n",
       "      <td>...</td>\n",
       "      <td>False</td>\n",
       "      <td>False</td>\n",
       "      <td>False</td>\n",
       "      <td>False</td>\n",
       "      <td>False</td>\n",
       "      <td>False</td>\n",
       "      <td>False</td>\n",
       "      <td>False</td>\n",
       "      <td>False</td>\n",
       "      <td>False</td>\n",
       "    </tr>\n",
       "    <tr>\n",
       "      <th>7860</th>\n",
       "      <td>1240.0</td>\n",
       "      <td>2.0</td>\n",
       "      <td>47.12</td>\n",
       "      <td>2</td>\n",
       "      <td>False</td>\n",
       "      <td>False</td>\n",
       "      <td>False</td>\n",
       "      <td>False</td>\n",
       "      <td>False</td>\n",
       "      <td>False</td>\n",
       "      <td>...</td>\n",
       "      <td>False</td>\n",
       "      <td>False</td>\n",
       "      <td>False</td>\n",
       "      <td>False</td>\n",
       "      <td>False</td>\n",
       "      <td>False</td>\n",
       "      <td>False</td>\n",
       "      <td>False</td>\n",
       "      <td>True</td>\n",
       "      <td>False</td>\n",
       "    </tr>\n",
       "    <tr>\n",
       "      <th>6368</th>\n",
       "      <td>2400.0</td>\n",
       "      <td>2.0</td>\n",
       "      <td>195.00</td>\n",
       "      <td>3</td>\n",
       "      <td>False</td>\n",
       "      <td>False</td>\n",
       "      <td>False</td>\n",
       "      <td>False</td>\n",
       "      <td>False</td>\n",
       "      <td>False</td>\n",
       "      <td>...</td>\n",
       "      <td>False</td>\n",
       "      <td>False</td>\n",
       "      <td>False</td>\n",
       "      <td>False</td>\n",
       "      <td>False</td>\n",
       "      <td>False</td>\n",
       "      <td>False</td>\n",
       "      <td>False</td>\n",
       "      <td>False</td>\n",
       "      <td>False</td>\n",
       "    </tr>\n",
       "    <tr>\n",
       "      <th>2313</th>\n",
       "      <td>755.0</td>\n",
       "      <td>1.0</td>\n",
       "      <td>42.41</td>\n",
       "      <td>1</td>\n",
       "      <td>False</td>\n",
       "      <td>False</td>\n",
       "      <td>False</td>\n",
       "      <td>False</td>\n",
       "      <td>False</td>\n",
       "      <td>False</td>\n",
       "      <td>...</td>\n",
       "      <td>False</td>\n",
       "      <td>False</td>\n",
       "      <td>False</td>\n",
       "      <td>False</td>\n",
       "      <td>False</td>\n",
       "      <td>False</td>\n",
       "      <td>False</td>\n",
       "      <td>False</td>\n",
       "      <td>False</td>\n",
       "      <td>False</td>\n",
       "    </tr>\n",
       "    <tr>\n",
       "      <th>801</th>\n",
       "      <td>1222.0</td>\n",
       "      <td>2.0</td>\n",
       "      <td>80.00</td>\n",
       "      <td>2</td>\n",
       "      <td>False</td>\n",
       "      <td>False</td>\n",
       "      <td>False</td>\n",
       "      <td>False</td>\n",
       "      <td>False</td>\n",
       "      <td>False</td>\n",
       "      <td>...</td>\n",
       "      <td>False</td>\n",
       "      <td>False</td>\n",
       "      <td>False</td>\n",
       "      <td>False</td>\n",
       "      <td>False</td>\n",
       "      <td>False</td>\n",
       "      <td>False</td>\n",
       "      <td>False</td>\n",
       "      <td>False</td>\n",
       "      <td>False</td>\n",
       "    </tr>\n",
       "  </tbody>\n",
       "</table>\n",
       "<p>10 rows × 245 columns</p>\n",
       "</div>"
      ],
      "text/plain": [
       "      total_sqft  bath   price  bhk  1st Block Jayanagar  1st Phase JP Nagar  \\\n",
       "6505      1200.0   2.0   70.00    2                False               False   \n",
       "7839       450.0   1.0   16.00    1                False               False   \n",
       "2992      1040.0   2.0   42.12    2                False               False   \n",
       "1640      1428.0   2.0   80.00    3                False               False   \n",
       "4345       945.0   2.0   50.00    2                False               False   \n",
       "1526       700.0   1.0   19.00    2                False               False   \n",
       "7860      1240.0   2.0   47.12    2                False               False   \n",
       "6368      2400.0   2.0  195.00    3                False               False   \n",
       "2313       755.0   1.0   42.41    1                False               False   \n",
       "801       1222.0   2.0   80.00    2                False               False   \n",
       "\n",
       "      2nd Phase Judicial Layout  2nd Stage Nagarbhavi  5th Block Hbr Layout  \\\n",
       "6505                      False                 False                 False   \n",
       "7839                      False                 False                 False   \n",
       "2992                      False                 False                 False   \n",
       "1640                      False                 False                 False   \n",
       "4345                      False                 False                 False   \n",
       "1526                      False                 False                 False   \n",
       "7860                      False                 False                 False   \n",
       "6368                      False                 False                 False   \n",
       "2313                      False                 False                 False   \n",
       "801                       False                 False                 False   \n",
       "\n",
       "      5th Phase JP Nagar  ...  Vijayanagar  Vishveshwarya Layout  \\\n",
       "6505               False  ...        False                 False   \n",
       "7839               False  ...        False                 False   \n",
       "2992               False  ...        False                 False   \n",
       "1640               False  ...        False                 False   \n",
       "4345               False  ...        False                 False   \n",
       "1526               False  ...        False                 False   \n",
       "7860               False  ...        False                 False   \n",
       "6368               False  ...        False                 False   \n",
       "2313               False  ...        False                 False   \n",
       "801                False  ...        False                 False   \n",
       "\n",
       "      Vishwapriya Layout  Vittasandra  Whitefield  Yelachenahalli  Yelahanka  \\\n",
       "6505               False        False       False           False      False   \n",
       "7839               False        False       False           False      False   \n",
       "2992               False        False       False           False      False   \n",
       "1640               False        False       False           False      False   \n",
       "4345               False        False       False           False      False   \n",
       "1526               False        False       False           False      False   \n",
       "7860               False        False       False           False      False   \n",
       "6368               False        False       False           False      False   \n",
       "2313               False        False       False           False      False   \n",
       "801                False        False       False           False      False   \n",
       "\n",
       "      Yelahanka New Town  Yelenahalli  Yeshwanthpur  \n",
       "6505               False        False         False  \n",
       "7839                True        False         False  \n",
       "2992               False        False         False  \n",
       "1640               False        False         False  \n",
       "4345               False        False         False  \n",
       "1526               False        False         False  \n",
       "7860               False         True         False  \n",
       "6368               False        False         False  \n",
       "2313               False        False         False  \n",
       "801                False        False         False  \n",
       "\n",
       "[10 rows x 245 columns]"
      ]
     },
     "execution_count": 59,
     "metadata": {},
     "output_type": "execute_result"
    }
   ],
   "source": [
    "df10.sample(10)"
   ]
  },
  {
   "cell_type": "code",
   "execution_count": 60,
   "metadata": {},
   "outputs": [
    {
     "data": {
      "application/vnd.microsoft.datawrangler.viewer.v0+json": {
       "columns": [
        {
         "name": "index",
         "rawType": "int64",
         "type": "integer"
        },
        {
         "name": "total_sqft",
         "rawType": "float64",
         "type": "float"
        },
        {
         "name": "bath",
         "rawType": "float64",
         "type": "float"
        },
        {
         "name": "bhk",
         "rawType": "int32",
         "type": "integer"
        },
        {
         "name": "1st Block Jayanagar",
         "rawType": "bool",
         "type": "boolean"
        },
        {
         "name": "1st Phase JP Nagar",
         "rawType": "bool",
         "type": "boolean"
        },
        {
         "name": "2nd Phase Judicial Layout",
         "rawType": "bool",
         "type": "boolean"
        },
        {
         "name": "2nd Stage Nagarbhavi",
         "rawType": "bool",
         "type": "boolean"
        },
        {
         "name": "5th Block Hbr Layout",
         "rawType": "bool",
         "type": "boolean"
        },
        {
         "name": "5th Phase JP Nagar",
         "rawType": "bool",
         "type": "boolean"
        },
        {
         "name": "6th Phase JP Nagar",
         "rawType": "bool",
         "type": "boolean"
        },
        {
         "name": "7th Phase JP Nagar",
         "rawType": "bool",
         "type": "boolean"
        },
        {
         "name": "8th Phase JP Nagar",
         "rawType": "bool",
         "type": "boolean"
        },
        {
         "name": "9th Phase JP Nagar",
         "rawType": "bool",
         "type": "boolean"
        },
        {
         "name": "AECS Layout",
         "rawType": "bool",
         "type": "boolean"
        },
        {
         "name": "Abbigere",
         "rawType": "bool",
         "type": "boolean"
        },
        {
         "name": "Akshaya Nagar",
         "rawType": "bool",
         "type": "boolean"
        },
        {
         "name": "Ambalipura",
         "rawType": "bool",
         "type": "boolean"
        },
        {
         "name": "Ambedkar Nagar",
         "rawType": "bool",
         "type": "boolean"
        },
        {
         "name": "Amruthahalli",
         "rawType": "bool",
         "type": "boolean"
        },
        {
         "name": "Anandapura",
         "rawType": "bool",
         "type": "boolean"
        },
        {
         "name": "Ananth Nagar",
         "rawType": "bool",
         "type": "boolean"
        },
        {
         "name": "Anekal",
         "rawType": "bool",
         "type": "boolean"
        },
        {
         "name": "Anjanapura",
         "rawType": "bool",
         "type": "boolean"
        },
        {
         "name": "Ardendale",
         "rawType": "bool",
         "type": "boolean"
        },
        {
         "name": "Arekere",
         "rawType": "bool",
         "type": "boolean"
        },
        {
         "name": "Attibele",
         "rawType": "bool",
         "type": "boolean"
        },
        {
         "name": "BEML Layout",
         "rawType": "bool",
         "type": "boolean"
        },
        {
         "name": "BTM 2nd Stage",
         "rawType": "bool",
         "type": "boolean"
        },
        {
         "name": "BTM Layout",
         "rawType": "bool",
         "type": "boolean"
        },
        {
         "name": "Babusapalaya",
         "rawType": "bool",
         "type": "boolean"
        },
        {
         "name": "Badavala Nagar",
         "rawType": "bool",
         "type": "boolean"
        },
        {
         "name": "Balagere",
         "rawType": "bool",
         "type": "boolean"
        },
        {
         "name": "Banashankari",
         "rawType": "bool",
         "type": "boolean"
        },
        {
         "name": "Banashankari Stage II",
         "rawType": "bool",
         "type": "boolean"
        },
        {
         "name": "Banashankari Stage III",
         "rawType": "bool",
         "type": "boolean"
        },
        {
         "name": "Banashankari Stage V",
         "rawType": "bool",
         "type": "boolean"
        },
        {
         "name": "Banashankari Stage VI",
         "rawType": "bool",
         "type": "boolean"
        },
        {
         "name": "Banaswadi",
         "rawType": "bool",
         "type": "boolean"
        },
        {
         "name": "Banjara Layout",
         "rawType": "bool",
         "type": "boolean"
        },
        {
         "name": "Bannerghatta",
         "rawType": "bool",
         "type": "boolean"
        },
        {
         "name": "Bannerghatta Road",
         "rawType": "bool",
         "type": "boolean"
        },
        {
         "name": "Basavangudi",
         "rawType": "bool",
         "type": "boolean"
        },
        {
         "name": "Basaveshwara Nagar",
         "rawType": "bool",
         "type": "boolean"
        },
        {
         "name": "Battarahalli",
         "rawType": "bool",
         "type": "boolean"
        },
        {
         "name": "Begur",
         "rawType": "bool",
         "type": "boolean"
        },
        {
         "name": "Begur Road",
         "rawType": "bool",
         "type": "boolean"
        },
        {
         "name": "Bellandur",
         "rawType": "bool",
         "type": "boolean"
        },
        {
         "name": "Benson Town",
         "rawType": "bool",
         "type": "boolean"
        },
        {
         "name": "Bharathi Nagar",
         "rawType": "bool",
         "type": "boolean"
        },
        {
         "name": "Bhoganhalli",
         "rawType": "bool",
         "type": "boolean"
        },
        {
         "name": "Billekahalli",
         "rawType": "bool",
         "type": "boolean"
        },
        {
         "name": "Binny Pete",
         "rawType": "bool",
         "type": "boolean"
        },
        {
         "name": "Bisuvanahalli",
         "rawType": "bool",
         "type": "boolean"
        },
        {
         "name": "Bommanahalli",
         "rawType": "bool",
         "type": "boolean"
        },
        {
         "name": "Bommasandra",
         "rawType": "bool",
         "type": "boolean"
        },
        {
         "name": "Bommasandra Industrial Area",
         "rawType": "bool",
         "type": "boolean"
        },
        {
         "name": "Bommenahalli",
         "rawType": "bool",
         "type": "boolean"
        },
        {
         "name": "Brookefield",
         "rawType": "bool",
         "type": "boolean"
        },
        {
         "name": "Budigere",
         "rawType": "bool",
         "type": "boolean"
        },
        {
         "name": "CV Raman Nagar",
         "rawType": "bool",
         "type": "boolean"
        },
        {
         "name": "Chamrajpet",
         "rawType": "bool",
         "type": "boolean"
        },
        {
         "name": "Chandapura",
         "rawType": "bool",
         "type": "boolean"
        },
        {
         "name": "Channasandra",
         "rawType": "bool",
         "type": "boolean"
        },
        {
         "name": "Chikka Tirupathi",
         "rawType": "bool",
         "type": "boolean"
        },
        {
         "name": "Chikkabanavar",
         "rawType": "bool",
         "type": "boolean"
        },
        {
         "name": "Chikkalasandra",
         "rawType": "bool",
         "type": "boolean"
        },
        {
         "name": "Choodasandra",
         "rawType": "bool",
         "type": "boolean"
        },
        {
         "name": "Cooke Town",
         "rawType": "bool",
         "type": "boolean"
        },
        {
         "name": "Cox Town",
         "rawType": "bool",
         "type": "boolean"
        },
        {
         "name": "Cunningham Road",
         "rawType": "bool",
         "type": "boolean"
        },
        {
         "name": "Dasanapura",
         "rawType": "bool",
         "type": "boolean"
        },
        {
         "name": "Dasarahalli",
         "rawType": "bool",
         "type": "boolean"
        },
        {
         "name": "Devanahalli",
         "rawType": "bool",
         "type": "boolean"
        },
        {
         "name": "Devarachikkanahalli",
         "rawType": "bool",
         "type": "boolean"
        },
        {
         "name": "Dodda Nekkundi",
         "rawType": "bool",
         "type": "boolean"
        },
        {
         "name": "Doddaballapur",
         "rawType": "bool",
         "type": "boolean"
        },
        {
         "name": "Doddakallasandra",
         "rawType": "bool",
         "type": "boolean"
        },
        {
         "name": "Doddathoguru",
         "rawType": "bool",
         "type": "boolean"
        },
        {
         "name": "Domlur",
         "rawType": "bool",
         "type": "boolean"
        },
        {
         "name": "Dommasandra",
         "rawType": "bool",
         "type": "boolean"
        },
        {
         "name": "EPIP Zone",
         "rawType": "bool",
         "type": "boolean"
        },
        {
         "name": "Electronic City",
         "rawType": "bool",
         "type": "boolean"
        },
        {
         "name": "Electronic City Phase II",
         "rawType": "bool",
         "type": "boolean"
        },
        {
         "name": "Electronics City Phase 1",
         "rawType": "bool",
         "type": "boolean"
        },
        {
         "name": "Frazer Town",
         "rawType": "bool",
         "type": "boolean"
        },
        {
         "name": "GM Palaya",
         "rawType": "bool",
         "type": "boolean"
        },
        {
         "name": "Garudachar Palya",
         "rawType": "bool",
         "type": "boolean"
        },
        {
         "name": "Giri Nagar",
         "rawType": "bool",
         "type": "boolean"
        },
        {
         "name": "Gollarapalya Hosahalli",
         "rawType": "bool",
         "type": "boolean"
        },
        {
         "name": "Gottigere",
         "rawType": "bool",
         "type": "boolean"
        },
        {
         "name": "Green Glen Layout",
         "rawType": "bool",
         "type": "boolean"
        },
        {
         "name": "Gubbalala",
         "rawType": "bool",
         "type": "boolean"
        },
        {
         "name": "Gunjur",
         "rawType": "bool",
         "type": "boolean"
        },
        {
         "name": "HAL 2nd Stage",
         "rawType": "bool",
         "type": "boolean"
        },
        {
         "name": "HBR Layout",
         "rawType": "bool",
         "type": "boolean"
        },
        {
         "name": "HRBR Layout",
         "rawType": "bool",
         "type": "boolean"
        },
        {
         "name": "HSR Layout",
         "rawType": "bool",
         "type": "boolean"
        },
        {
         "name": "Haralur Road",
         "rawType": "bool",
         "type": "boolean"
        },
        {
         "name": "Harlur",
         "rawType": "bool",
         "type": "boolean"
        },
        {
         "name": "Hebbal",
         "rawType": "bool",
         "type": "boolean"
        },
        {
         "name": "Hebbal Kempapura",
         "rawType": "bool",
         "type": "boolean"
        },
        {
         "name": "Hegde Nagar",
         "rawType": "bool",
         "type": "boolean"
        },
        {
         "name": "Hennur",
         "rawType": "bool",
         "type": "boolean"
        },
        {
         "name": "Hennur Road",
         "rawType": "bool",
         "type": "boolean"
        },
        {
         "name": "Hoodi",
         "rawType": "bool",
         "type": "boolean"
        },
        {
         "name": "Horamavu Agara",
         "rawType": "bool",
         "type": "boolean"
        },
        {
         "name": "Horamavu Banaswadi",
         "rawType": "bool",
         "type": "boolean"
        },
        {
         "name": "Hormavu",
         "rawType": "bool",
         "type": "boolean"
        },
        {
         "name": "Hosa Road",
         "rawType": "bool",
         "type": "boolean"
        },
        {
         "name": "Hosakerehalli",
         "rawType": "bool",
         "type": "boolean"
        },
        {
         "name": "Hoskote",
         "rawType": "bool",
         "type": "boolean"
        },
        {
         "name": "Hosur Road",
         "rawType": "bool",
         "type": "boolean"
        },
        {
         "name": "Hulimavu",
         "rawType": "bool",
         "type": "boolean"
        },
        {
         "name": "ISRO Layout",
         "rawType": "bool",
         "type": "boolean"
        },
        {
         "name": "ITPL",
         "rawType": "bool",
         "type": "boolean"
        },
        {
         "name": "Iblur Village",
         "rawType": "bool",
         "type": "boolean"
        },
        {
         "name": "Indira Nagar",
         "rawType": "bool",
         "type": "boolean"
        },
        {
         "name": "JP Nagar",
         "rawType": "bool",
         "type": "boolean"
        },
        {
         "name": "Jakkur",
         "rawType": "bool",
         "type": "boolean"
        },
        {
         "name": "Jalahalli",
         "rawType": "bool",
         "type": "boolean"
        },
        {
         "name": "Jalahalli East",
         "rawType": "bool",
         "type": "boolean"
        },
        {
         "name": "Jigani",
         "rawType": "bool",
         "type": "boolean"
        },
        {
         "name": "Judicial Layout",
         "rawType": "bool",
         "type": "boolean"
        },
        {
         "name": "KR Puram",
         "rawType": "bool",
         "type": "boolean"
        },
        {
         "name": "Kadubeesanahalli",
         "rawType": "bool",
         "type": "boolean"
        },
        {
         "name": "Kadugodi",
         "rawType": "bool",
         "type": "boolean"
        },
        {
         "name": "Kaggadasapura",
         "rawType": "bool",
         "type": "boolean"
        },
        {
         "name": "Kaggalipura",
         "rawType": "bool",
         "type": "boolean"
        },
        {
         "name": "Kaikondrahalli",
         "rawType": "bool",
         "type": "boolean"
        },
        {
         "name": "Kalena Agrahara",
         "rawType": "bool",
         "type": "boolean"
        },
        {
         "name": "Kalyan nagar",
         "rawType": "bool",
         "type": "boolean"
        },
        {
         "name": "Kambipura",
         "rawType": "bool",
         "type": "boolean"
        },
        {
         "name": "Kammanahalli",
         "rawType": "bool",
         "type": "boolean"
        },
        {
         "name": "Kammasandra",
         "rawType": "bool",
         "type": "boolean"
        },
        {
         "name": "Kanakapura",
         "rawType": "bool",
         "type": "boolean"
        },
        {
         "name": "Kanakpura Road",
         "rawType": "bool",
         "type": "boolean"
        },
        {
         "name": "Kannamangala",
         "rawType": "bool",
         "type": "boolean"
        },
        {
         "name": "Karuna Nagar",
         "rawType": "bool",
         "type": "boolean"
        },
        {
         "name": "Kasavanhalli",
         "rawType": "bool",
         "type": "boolean"
        },
        {
         "name": "Kasturi Nagar",
         "rawType": "bool",
         "type": "boolean"
        },
        {
         "name": "Kathriguppe",
         "rawType": "bool",
         "type": "boolean"
        },
        {
         "name": "Kaval Byrasandra",
         "rawType": "bool",
         "type": "boolean"
        },
        {
         "name": "Kenchenahalli",
         "rawType": "bool",
         "type": "boolean"
        },
        {
         "name": "Kengeri",
         "rawType": "bool",
         "type": "boolean"
        },
        {
         "name": "Kengeri Satellite Town",
         "rawType": "bool",
         "type": "boolean"
        },
        {
         "name": "Kereguddadahalli",
         "rawType": "bool",
         "type": "boolean"
        },
        {
         "name": "Kodichikkanahalli",
         "rawType": "bool",
         "type": "boolean"
        },
        {
         "name": "Kodigehaali",
         "rawType": "bool",
         "type": "boolean"
        },
        {
         "name": "Kodigehalli",
         "rawType": "bool",
         "type": "boolean"
        },
        {
         "name": "Kodihalli",
         "rawType": "bool",
         "type": "boolean"
        },
        {
         "name": "Kogilu",
         "rawType": "bool",
         "type": "boolean"
        },
        {
         "name": "Konanakunte",
         "rawType": "bool",
         "type": "boolean"
        },
        {
         "name": "Koramangala",
         "rawType": "bool",
         "type": "boolean"
        },
        {
         "name": "Kothannur",
         "rawType": "bool",
         "type": "boolean"
        },
        {
         "name": "Kothanur",
         "rawType": "bool",
         "type": "boolean"
        },
        {
         "name": "Kudlu",
         "rawType": "bool",
         "type": "boolean"
        },
        {
         "name": "Kudlu Gate",
         "rawType": "bool",
         "type": "boolean"
        },
        {
         "name": "Kumaraswami Layout",
         "rawType": "bool",
         "type": "boolean"
        },
        {
         "name": "Kundalahalli",
         "rawType": "bool",
         "type": "boolean"
        },
        {
         "name": "LB Shastri Nagar",
         "rawType": "bool",
         "type": "boolean"
        },
        {
         "name": "Laggere",
         "rawType": "bool",
         "type": "boolean"
        },
        {
         "name": "Lakshminarayana Pura",
         "rawType": "bool",
         "type": "boolean"
        },
        {
         "name": "Lingadheeranahalli",
         "rawType": "bool",
         "type": "boolean"
        },
        {
         "name": "Magadi Road",
         "rawType": "bool",
         "type": "boolean"
        },
        {
         "name": "Mahadevpura",
         "rawType": "bool",
         "type": "boolean"
        },
        {
         "name": "Mahalakshmi Layout",
         "rawType": "bool",
         "type": "boolean"
        },
        {
         "name": "Mallasandra",
         "rawType": "bool",
         "type": "boolean"
        },
        {
         "name": "Malleshpalya",
         "rawType": "bool",
         "type": "boolean"
        },
        {
         "name": "Malleshwaram",
         "rawType": "bool",
         "type": "boolean"
        },
        {
         "name": "Marathahalli",
         "rawType": "bool",
         "type": "boolean"
        },
        {
         "name": "Margondanahalli",
         "rawType": "bool",
         "type": "boolean"
        },
        {
         "name": "Marsur",
         "rawType": "bool",
         "type": "boolean"
        },
        {
         "name": "Mico Layout",
         "rawType": "bool",
         "type": "boolean"
        },
        {
         "name": "Munnekollal",
         "rawType": "bool",
         "type": "boolean"
        },
        {
         "name": "Murugeshpalya",
         "rawType": "bool",
         "type": "boolean"
        },
        {
         "name": "Mysore Road",
         "rawType": "bool",
         "type": "boolean"
        },
        {
         "name": "NGR Layout",
         "rawType": "bool",
         "type": "boolean"
        },
        {
         "name": "NRI Layout",
         "rawType": "bool",
         "type": "boolean"
        },
        {
         "name": "Nagarbhavi",
         "rawType": "bool",
         "type": "boolean"
        },
        {
         "name": "Nagasandra",
         "rawType": "bool",
         "type": "boolean"
        },
        {
         "name": "Nagavara",
         "rawType": "bool",
         "type": "boolean"
        },
        {
         "name": "Nagavarapalya",
         "rawType": "bool",
         "type": "boolean"
        },
        {
         "name": "Narayanapura",
         "rawType": "bool",
         "type": "boolean"
        },
        {
         "name": "Neeladri Nagar",
         "rawType": "bool",
         "type": "boolean"
        },
        {
         "name": "Nehru Nagar",
         "rawType": "bool",
         "type": "boolean"
        },
        {
         "name": "OMBR Layout",
         "rawType": "bool",
         "type": "boolean"
        },
        {
         "name": "Old Airport Road",
         "rawType": "bool",
         "type": "boolean"
        },
        {
         "name": "Old Madras Road",
         "rawType": "bool",
         "type": "boolean"
        },
        {
         "name": "Padmanabhanagar",
         "rawType": "bool",
         "type": "boolean"
        },
        {
         "name": "Pai Layout",
         "rawType": "bool",
         "type": "boolean"
        },
        {
         "name": "Panathur",
         "rawType": "bool",
         "type": "boolean"
        },
        {
         "name": "Parappana Agrahara",
         "rawType": "bool",
         "type": "boolean"
        },
        {
         "name": "Pattandur Agrahara",
         "rawType": "bool",
         "type": "boolean"
        },
        {
         "name": "Poorna Pragna Layout",
         "rawType": "bool",
         "type": "boolean"
        },
        {
         "name": "Prithvi Layout",
         "rawType": "bool",
         "type": "boolean"
        },
        {
         "name": "R.T. Nagar",
         "rawType": "bool",
         "type": "boolean"
        },
        {
         "name": "Rachenahalli",
         "rawType": "bool",
         "type": "boolean"
        },
        {
         "name": "Raja Rajeshwari Nagar",
         "rawType": "bool",
         "type": "boolean"
        },
        {
         "name": "Rajaji Nagar",
         "rawType": "bool",
         "type": "boolean"
        },
        {
         "name": "Rajiv Nagar",
         "rawType": "bool",
         "type": "boolean"
        },
        {
         "name": "Ramagondanahalli",
         "rawType": "bool",
         "type": "boolean"
        },
        {
         "name": "Ramamurthy Nagar",
         "rawType": "bool",
         "type": "boolean"
        },
        {
         "name": "Rayasandra",
         "rawType": "bool",
         "type": "boolean"
        },
        {
         "name": "Sahakara Nagar",
         "rawType": "bool",
         "type": "boolean"
        },
        {
         "name": "Sanjay nagar",
         "rawType": "bool",
         "type": "boolean"
        },
        {
         "name": "Sarakki Nagar",
         "rawType": "bool",
         "type": "boolean"
        },
        {
         "name": "Sarjapur",
         "rawType": "bool",
         "type": "boolean"
        },
        {
         "name": "Sarjapur  Road",
         "rawType": "bool",
         "type": "boolean"
        },
        {
         "name": "Sarjapura - Attibele Road",
         "rawType": "bool",
         "type": "boolean"
        },
        {
         "name": "Sector 2 HSR Layout",
         "rawType": "bool",
         "type": "boolean"
        },
        {
         "name": "Sector 7 HSR Layout",
         "rawType": "bool",
         "type": "boolean"
        },
        {
         "name": "Seegehalli",
         "rawType": "bool",
         "type": "boolean"
        },
        {
         "name": "Shampura",
         "rawType": "bool",
         "type": "boolean"
        },
        {
         "name": "Shivaji Nagar",
         "rawType": "bool",
         "type": "boolean"
        },
        {
         "name": "Singasandra",
         "rawType": "bool",
         "type": "boolean"
        },
        {
         "name": "Somasundara Palya",
         "rawType": "bool",
         "type": "boolean"
        },
        {
         "name": "Sompura",
         "rawType": "bool",
         "type": "boolean"
        },
        {
         "name": "Sonnenahalli",
         "rawType": "bool",
         "type": "boolean"
        },
        {
         "name": "Subramanyapura",
         "rawType": "bool",
         "type": "boolean"
        },
        {
         "name": "Sultan Palaya",
         "rawType": "bool",
         "type": "boolean"
        },
        {
         "name": "TC Palaya",
         "rawType": "bool",
         "type": "boolean"
        },
        {
         "name": "Talaghattapura",
         "rawType": "bool",
         "type": "boolean"
        },
        {
         "name": "Thanisandra",
         "rawType": "bool",
         "type": "boolean"
        },
        {
         "name": "Thigalarapalya",
         "rawType": "bool",
         "type": "boolean"
        },
        {
         "name": "Thubarahalli",
         "rawType": "bool",
         "type": "boolean"
        },
        {
         "name": "Thyagaraja Nagar",
         "rawType": "bool",
         "type": "boolean"
        },
        {
         "name": "Tindlu",
         "rawType": "bool",
         "type": "boolean"
        },
        {
         "name": "Tumkur Road",
         "rawType": "bool",
         "type": "boolean"
        },
        {
         "name": "Ulsoor",
         "rawType": "bool",
         "type": "boolean"
        },
        {
         "name": "Uttarahalli",
         "rawType": "bool",
         "type": "boolean"
        },
        {
         "name": "Varthur",
         "rawType": "bool",
         "type": "boolean"
        },
        {
         "name": "Varthur Road",
         "rawType": "bool",
         "type": "boolean"
        },
        {
         "name": "Vasanthapura",
         "rawType": "bool",
         "type": "boolean"
        },
        {
         "name": "Vidyaranyapura",
         "rawType": "bool",
         "type": "boolean"
        },
        {
         "name": "Vijayanagar",
         "rawType": "bool",
         "type": "boolean"
        },
        {
         "name": "Vishveshwarya Layout",
         "rawType": "bool",
         "type": "boolean"
        },
        {
         "name": "Vishwapriya Layout",
         "rawType": "bool",
         "type": "boolean"
        },
        {
         "name": "Vittasandra",
         "rawType": "bool",
         "type": "boolean"
        },
        {
         "name": "Whitefield",
         "rawType": "bool",
         "type": "boolean"
        },
        {
         "name": "Yelachenahalli",
         "rawType": "bool",
         "type": "boolean"
        },
        {
         "name": "Yelahanka",
         "rawType": "bool",
         "type": "boolean"
        },
        {
         "name": "Yelahanka New Town",
         "rawType": "bool",
         "type": "boolean"
        },
        {
         "name": "Yelenahalli",
         "rawType": "bool",
         "type": "boolean"
        },
        {
         "name": "Yeshwanthpur",
         "rawType": "bool",
         "type": "boolean"
        }
       ],
       "conversionMethod": "pd.DataFrame",
       "ref": "cd0fe943-cf24-465b-9c27-e43e78549185",
       "rows": [
        [
         "0",
         "2850.0",
         "4.0",
         "4",
         "True",
         "False",
         "False",
         "False",
         "False",
         "False",
         "False",
         "False",
         "False",
         "False",
         "False",
         "False",
         "False",
         "False",
         "False",
         "False",
         "False",
         "False",
         "False",
         "False",
         "False",
         "False",
         "False",
         "False",
         "False",
         "False",
         "False",
         "False",
         "False",
         "False",
         "False",
         "False",
         "False",
         "False",
         "False",
         "False",
         "False",
         "False",
         "False",
         "False",
         "False",
         "False",
         "False",
         "False",
         "False",
         "False",
         "False",
         "False",
         "False",
         "False",
         "False",
         "False",
         "False",
         "False",
         "False",
         "False",
         "False",
         "False",
         "False",
         "False",
         "False",
         "False",
         "False",
         "False",
         "False",
         "False",
         "False",
         "False",
         "False",
         "False",
         "False",
         "False",
         "False",
         "False",
         "False",
         "False",
         "False",
         "False",
         "False",
         "False",
         "False",
         "False",
         "False",
         "False",
         "False",
         "False",
         "False",
         "False",
         "False",
         "False",
         "False",
         "False",
         "False",
         "False",
         "False",
         "False",
         "False",
         "False",
         "False",
         "False",
         "False",
         "False",
         "False",
         "False",
         "False",
         "False",
         "False",
         "False",
         "False",
         "False",
         "False",
         "False",
         "False",
         "False",
         "False",
         "False",
         "False",
         "False",
         "False",
         "False",
         "False",
         "False",
         "False",
         "False",
         "False",
         "False",
         "False",
         "False",
         "False",
         "False",
         "False",
         "False",
         "False",
         "False",
         "False",
         "False",
         "False",
         "False",
         "False",
         "False",
         "False",
         "False",
         "False",
         "False",
         "False",
         "False",
         "False",
         "False",
         "False",
         "False",
         "False",
         "False",
         "False",
         "False",
         "False",
         "False",
         "False",
         "False",
         "False",
         "False",
         "False",
         "False",
         "False",
         "False",
         "False",
         "False",
         "False",
         "False",
         "False",
         "False",
         "False",
         "False",
         "False",
         "False",
         "False",
         "False",
         "False",
         "False",
         "False",
         "False",
         "False",
         "False",
         "False",
         "False",
         "False",
         "False",
         "False",
         "False",
         "False",
         "False",
         "False",
         "False",
         "False",
         "False",
         "False",
         "False",
         "False",
         "False",
         "False",
         "False",
         "False",
         "False",
         "False",
         "False",
         "False",
         "False",
         "False",
         "False",
         "False",
         "False",
         "False",
         "False",
         "False",
         "False",
         "False",
         "False",
         "False",
         "False",
         "False",
         "False",
         "False",
         "False",
         "False",
         "False",
         "False",
         "False",
         "False",
         "False",
         "False",
         "False",
         "False",
         "False",
         "False",
         "False",
         "False",
         "False",
         "False",
         "False",
         "False",
         "False",
         "False"
        ],
        [
         "1",
         "1630.0",
         "3.0",
         "3",
         "True",
         "False",
         "False",
         "False",
         "False",
         "False",
         "False",
         "False",
         "False",
         "False",
         "False",
         "False",
         "False",
         "False",
         "False",
         "False",
         "False",
         "False",
         "False",
         "False",
         "False",
         "False",
         "False",
         "False",
         "False",
         "False",
         "False",
         "False",
         "False",
         "False",
         "False",
         "False",
         "False",
         "False",
         "False",
         "False",
         "False",
         "False",
         "False",
         "False",
         "False",
         "False",
         "False",
         "False",
         "False",
         "False",
         "False",
         "False",
         "False",
         "False",
         "False",
         "False",
         "False",
         "False",
         "False",
         "False",
         "False",
         "False",
         "False",
         "False",
         "False",
         "False",
         "False",
         "False",
         "False",
         "False",
         "False",
         "False",
         "False",
         "False",
         "False",
         "False",
         "False",
         "False",
         "False",
         "False",
         "False",
         "False",
         "False",
         "False",
         "False",
         "False",
         "False",
         "False",
         "False",
         "False",
         "False",
         "False",
         "False",
         "False",
         "False",
         "False",
         "False",
         "False",
         "False",
         "False",
         "False",
         "False",
         "False",
         "False",
         "False",
         "False",
         "False",
         "False",
         "False",
         "False",
         "False",
         "False",
         "False",
         "False",
         "False",
         "False",
         "False",
         "False",
         "False",
         "False",
         "False",
         "False",
         "False",
         "False",
         "False",
         "False",
         "False",
         "False",
         "False",
         "False",
         "False",
         "False",
         "False",
         "False",
         "False",
         "False",
         "False",
         "False",
         "False",
         "False",
         "False",
         "False",
         "False",
         "False",
         "False",
         "False",
         "False",
         "False",
         "False",
         "False",
         "False",
         "False",
         "False",
         "False",
         "False",
         "False",
         "False",
         "False",
         "False",
         "False",
         "False",
         "False",
         "False",
         "False",
         "False",
         "False",
         "False",
         "False",
         "False",
         "False",
         "False",
         "False",
         "False",
         "False",
         "False",
         "False",
         "False",
         "False",
         "False",
         "False",
         "False",
         "False",
         "False",
         "False",
         "False",
         "False",
         "False",
         "False",
         "False",
         "False",
         "False",
         "False",
         "False",
         "False",
         "False",
         "False",
         "False",
         "False",
         "False",
         "False",
         "False",
         "False",
         "False",
         "False",
         "False",
         "False",
         "False",
         "False",
         "False",
         "False",
         "False",
         "False",
         "False",
         "False",
         "False",
         "False",
         "False",
         "False",
         "False",
         "False",
         "False",
         "False",
         "False",
         "False",
         "False",
         "False",
         "False",
         "False",
         "False",
         "False",
         "False",
         "False",
         "False",
         "False",
         "False",
         "False",
         "False",
         "False",
         "False",
         "False",
         "False",
         "False",
         "False",
         "False",
         "False"
        ],
        [
         "2",
         "1875.0",
         "2.0",
         "3",
         "True",
         "False",
         "False",
         "False",
         "False",
         "False",
         "False",
         "False",
         "False",
         "False",
         "False",
         "False",
         "False",
         "False",
         "False",
         "False",
         "False",
         "False",
         "False",
         "False",
         "False",
         "False",
         "False",
         "False",
         "False",
         "False",
         "False",
         "False",
         "False",
         "False",
         "False",
         "False",
         "False",
         "False",
         "False",
         "False",
         "False",
         "False",
         "False",
         "False",
         "False",
         "False",
         "False",
         "False",
         "False",
         "False",
         "False",
         "False",
         "False",
         "False",
         "False",
         "False",
         "False",
         "False",
         "False",
         "False",
         "False",
         "False",
         "False",
         "False",
         "False",
         "False",
         "False",
         "False",
         "False",
         "False",
         "False",
         "False",
         "False",
         "False",
         "False",
         "False",
         "False",
         "False",
         "False",
         "False",
         "False",
         "False",
         "False",
         "False",
         "False",
         "False",
         "False",
         "False",
         "False",
         "False",
         "False",
         "False",
         "False",
         "False",
         "False",
         "False",
         "False",
         "False",
         "False",
         "False",
         "False",
         "False",
         "False",
         "False",
         "False",
         "False",
         "False",
         "False",
         "False",
         "False",
         "False",
         "False",
         "False",
         "False",
         "False",
         "False",
         "False",
         "False",
         "False",
         "False",
         "False",
         "False",
         "False",
         "False",
         "False",
         "False",
         "False",
         "False",
         "False",
         "False",
         "False",
         "False",
         "False",
         "False",
         "False",
         "False",
         "False",
         "False",
         "False",
         "False",
         "False",
         "False",
         "False",
         "False",
         "False",
         "False",
         "False",
         "False",
         "False",
         "False",
         "False",
         "False",
         "False",
         "False",
         "False",
         "False",
         "False",
         "False",
         "False",
         "False",
         "False",
         "False",
         "False",
         "False",
         "False",
         "False",
         "False",
         "False",
         "False",
         "False",
         "False",
         "False",
         "False",
         "False",
         "False",
         "False",
         "False",
         "False",
         "False",
         "False",
         "False",
         "False",
         "False",
         "False",
         "False",
         "False",
         "False",
         "False",
         "False",
         "False",
         "False",
         "False",
         "False",
         "False",
         "False",
         "False",
         "False",
         "False",
         "False",
         "False",
         "False",
         "False",
         "False",
         "False",
         "False",
         "False",
         "False",
         "False",
         "False",
         "False",
         "False",
         "False",
         "False",
         "False",
         "False",
         "False",
         "False",
         "False",
         "False",
         "False",
         "False",
         "False",
         "False",
         "False",
         "False",
         "False",
         "False",
         "False",
         "False",
         "False",
         "False",
         "False",
         "False",
         "False",
         "False",
         "False",
         "False",
         "False",
         "False",
         "False",
         "False",
         "False",
         "False",
         "False",
         "False"
        ],
        [
         "3",
         "1200.0",
         "2.0",
         "3",
         "True",
         "False",
         "False",
         "False",
         "False",
         "False",
         "False",
         "False",
         "False",
         "False",
         "False",
         "False",
         "False",
         "False",
         "False",
         "False",
         "False",
         "False",
         "False",
         "False",
         "False",
         "False",
         "False",
         "False",
         "False",
         "False",
         "False",
         "False",
         "False",
         "False",
         "False",
         "False",
         "False",
         "False",
         "False",
         "False",
         "False",
         "False",
         "False",
         "False",
         "False",
         "False",
         "False",
         "False",
         "False",
         "False",
         "False",
         "False",
         "False",
         "False",
         "False",
         "False",
         "False",
         "False",
         "False",
         "False",
         "False",
         "False",
         "False",
         "False",
         "False",
         "False",
         "False",
         "False",
         "False",
         "False",
         "False",
         "False",
         "False",
         "False",
         "False",
         "False",
         "False",
         "False",
         "False",
         "False",
         "False",
         "False",
         "False",
         "False",
         "False",
         "False",
         "False",
         "False",
         "False",
         "False",
         "False",
         "False",
         "False",
         "False",
         "False",
         "False",
         "False",
         "False",
         "False",
         "False",
         "False",
         "False",
         "False",
         "False",
         "False",
         "False",
         "False",
         "False",
         "False",
         "False",
         "False",
         "False",
         "False",
         "False",
         "False",
         "False",
         "False",
         "False",
         "False",
         "False",
         "False",
         "False",
         "False",
         "False",
         "False",
         "False",
         "False",
         "False",
         "False",
         "False",
         "False",
         "False",
         "False",
         "False",
         "False",
         "False",
         "False",
         "False",
         "False",
         "False",
         "False",
         "False",
         "False",
         "False",
         "False",
         "False",
         "False",
         "False",
         "False",
         "False",
         "False",
         "False",
         "False",
         "False",
         "False",
         "False",
         "False",
         "False",
         "False",
         "False",
         "False",
         "False",
         "False",
         "False",
         "False",
         "False",
         "False",
         "False",
         "False",
         "False",
         "False",
         "False",
         "False",
         "False",
         "False",
         "False",
         "False",
         "False",
         "False",
         "False",
         "False",
         "False",
         "False",
         "False",
         "False",
         "False",
         "False",
         "False",
         "False",
         "False",
         "False",
         "False",
         "False",
         "False",
         "False",
         "False",
         "False",
         "False",
         "False",
         "False",
         "False",
         "False",
         "False",
         "False",
         "False",
         "False",
         "False",
         "False",
         "False",
         "False",
         "False",
         "False",
         "False",
         "False",
         "False",
         "False",
         "False",
         "False",
         "False",
         "False",
         "False",
         "False",
         "False",
         "False",
         "False",
         "False",
         "False",
         "False",
         "False",
         "False",
         "False",
         "False",
         "False",
         "False",
         "False",
         "False",
         "False",
         "False",
         "False",
         "False",
         "False",
         "False",
         "False",
         "False",
         "False"
        ],
        [
         "4",
         "1235.0",
         "2.0",
         "2",
         "True",
         "False",
         "False",
         "False",
         "False",
         "False",
         "False",
         "False",
         "False",
         "False",
         "False",
         "False",
         "False",
         "False",
         "False",
         "False",
         "False",
         "False",
         "False",
         "False",
         "False",
         "False",
         "False",
         "False",
         "False",
         "False",
         "False",
         "False",
         "False",
         "False",
         "False",
         "False",
         "False",
         "False",
         "False",
         "False",
         "False",
         "False",
         "False",
         "False",
         "False",
         "False",
         "False",
         "False",
         "False",
         "False",
         "False",
         "False",
         "False",
         "False",
         "False",
         "False",
         "False",
         "False",
         "False",
         "False",
         "False",
         "False",
         "False",
         "False",
         "False",
         "False",
         "False",
         "False",
         "False",
         "False",
         "False",
         "False",
         "False",
         "False",
         "False",
         "False",
         "False",
         "False",
         "False",
         "False",
         "False",
         "False",
         "False",
         "False",
         "False",
         "False",
         "False",
         "False",
         "False",
         "False",
         "False",
         "False",
         "False",
         "False",
         "False",
         "False",
         "False",
         "False",
         "False",
         "False",
         "False",
         "False",
         "False",
         "False",
         "False",
         "False",
         "False",
         "False",
         "False",
         "False",
         "False",
         "False",
         "False",
         "False",
         "False",
         "False",
         "False",
         "False",
         "False",
         "False",
         "False",
         "False",
         "False",
         "False",
         "False",
         "False",
         "False",
         "False",
         "False",
         "False",
         "False",
         "False",
         "False",
         "False",
         "False",
         "False",
         "False",
         "False",
         "False",
         "False",
         "False",
         "False",
         "False",
         "False",
         "False",
         "False",
         "False",
         "False",
         "False",
         "False",
         "False",
         "False",
         "False",
         "False",
         "False",
         "False",
         "False",
         "False",
         "False",
         "False",
         "False",
         "False",
         "False",
         "False",
         "False",
         "False",
         "False",
         "False",
         "False",
         "False",
         "False",
         "False",
         "False",
         "False",
         "False",
         "False",
         "False",
         "False",
         "False",
         "False",
         "False",
         "False",
         "False",
         "False",
         "False",
         "False",
         "False",
         "False",
         "False",
         "False",
         "False",
         "False",
         "False",
         "False",
         "False",
         "False",
         "False",
         "False",
         "False",
         "False",
         "False",
         "False",
         "False",
         "False",
         "False",
         "False",
         "False",
         "False",
         "False",
         "False",
         "False",
         "False",
         "False",
         "False",
         "False",
         "False",
         "False",
         "False",
         "False",
         "False",
         "False",
         "False",
         "False",
         "False",
         "False",
         "False",
         "False",
         "False",
         "False",
         "False",
         "False",
         "False",
         "False",
         "False",
         "False",
         "False",
         "False",
         "False",
         "False",
         "False",
         "False",
         "False",
         "False",
         "False",
         "False"
        ]
       ],
       "shape": {
        "columns": 244,
        "rows": 5
       }
      },
      "text/html": [
       "<div>\n",
       "<style scoped>\n",
       "    .dataframe tbody tr th:only-of-type {\n",
       "        vertical-align: middle;\n",
       "    }\n",
       "\n",
       "    .dataframe tbody tr th {\n",
       "        vertical-align: top;\n",
       "    }\n",
       "\n",
       "    .dataframe thead th {\n",
       "        text-align: right;\n",
       "    }\n",
       "</style>\n",
       "<table border=\"1\" class=\"dataframe\">\n",
       "  <thead>\n",
       "    <tr style=\"text-align: right;\">\n",
       "      <th></th>\n",
       "      <th>total_sqft</th>\n",
       "      <th>bath</th>\n",
       "      <th>bhk</th>\n",
       "      <th>1st Block Jayanagar</th>\n",
       "      <th>1st Phase JP Nagar</th>\n",
       "      <th>2nd Phase Judicial Layout</th>\n",
       "      <th>2nd Stage Nagarbhavi</th>\n",
       "      <th>5th Block Hbr Layout</th>\n",
       "      <th>5th Phase JP Nagar</th>\n",
       "      <th>6th Phase JP Nagar</th>\n",
       "      <th>...</th>\n",
       "      <th>Vijayanagar</th>\n",
       "      <th>Vishveshwarya Layout</th>\n",
       "      <th>Vishwapriya Layout</th>\n",
       "      <th>Vittasandra</th>\n",
       "      <th>Whitefield</th>\n",
       "      <th>Yelachenahalli</th>\n",
       "      <th>Yelahanka</th>\n",
       "      <th>Yelahanka New Town</th>\n",
       "      <th>Yelenahalli</th>\n",
       "      <th>Yeshwanthpur</th>\n",
       "    </tr>\n",
       "  </thead>\n",
       "  <tbody>\n",
       "    <tr>\n",
       "      <th>0</th>\n",
       "      <td>2850.0</td>\n",
       "      <td>4.0</td>\n",
       "      <td>4</td>\n",
       "      <td>True</td>\n",
       "      <td>False</td>\n",
       "      <td>False</td>\n",
       "      <td>False</td>\n",
       "      <td>False</td>\n",
       "      <td>False</td>\n",
       "      <td>False</td>\n",
       "      <td>...</td>\n",
       "      <td>False</td>\n",
       "      <td>False</td>\n",
       "      <td>False</td>\n",
       "      <td>False</td>\n",
       "      <td>False</td>\n",
       "      <td>False</td>\n",
       "      <td>False</td>\n",
       "      <td>False</td>\n",
       "      <td>False</td>\n",
       "      <td>False</td>\n",
       "    </tr>\n",
       "    <tr>\n",
       "      <th>1</th>\n",
       "      <td>1630.0</td>\n",
       "      <td>3.0</td>\n",
       "      <td>3</td>\n",
       "      <td>True</td>\n",
       "      <td>False</td>\n",
       "      <td>False</td>\n",
       "      <td>False</td>\n",
       "      <td>False</td>\n",
       "      <td>False</td>\n",
       "      <td>False</td>\n",
       "      <td>...</td>\n",
       "      <td>False</td>\n",
       "      <td>False</td>\n",
       "      <td>False</td>\n",
       "      <td>False</td>\n",
       "      <td>False</td>\n",
       "      <td>False</td>\n",
       "      <td>False</td>\n",
       "      <td>False</td>\n",
       "      <td>False</td>\n",
       "      <td>False</td>\n",
       "    </tr>\n",
       "    <tr>\n",
       "      <th>2</th>\n",
       "      <td>1875.0</td>\n",
       "      <td>2.0</td>\n",
       "      <td>3</td>\n",
       "      <td>True</td>\n",
       "      <td>False</td>\n",
       "      <td>False</td>\n",
       "      <td>False</td>\n",
       "      <td>False</td>\n",
       "      <td>False</td>\n",
       "      <td>False</td>\n",
       "      <td>...</td>\n",
       "      <td>False</td>\n",
       "      <td>False</td>\n",
       "      <td>False</td>\n",
       "      <td>False</td>\n",
       "      <td>False</td>\n",
       "      <td>False</td>\n",
       "      <td>False</td>\n",
       "      <td>False</td>\n",
       "      <td>False</td>\n",
       "      <td>False</td>\n",
       "    </tr>\n",
       "    <tr>\n",
       "      <th>3</th>\n",
       "      <td>1200.0</td>\n",
       "      <td>2.0</td>\n",
       "      <td>3</td>\n",
       "      <td>True</td>\n",
       "      <td>False</td>\n",
       "      <td>False</td>\n",
       "      <td>False</td>\n",
       "      <td>False</td>\n",
       "      <td>False</td>\n",
       "      <td>False</td>\n",
       "      <td>...</td>\n",
       "      <td>False</td>\n",
       "      <td>False</td>\n",
       "      <td>False</td>\n",
       "      <td>False</td>\n",
       "      <td>False</td>\n",
       "      <td>False</td>\n",
       "      <td>False</td>\n",
       "      <td>False</td>\n",
       "      <td>False</td>\n",
       "      <td>False</td>\n",
       "    </tr>\n",
       "    <tr>\n",
       "      <th>4</th>\n",
       "      <td>1235.0</td>\n",
       "      <td>2.0</td>\n",
       "      <td>2</td>\n",
       "      <td>True</td>\n",
       "      <td>False</td>\n",
       "      <td>False</td>\n",
       "      <td>False</td>\n",
       "      <td>False</td>\n",
       "      <td>False</td>\n",
       "      <td>False</td>\n",
       "      <td>...</td>\n",
       "      <td>False</td>\n",
       "      <td>False</td>\n",
       "      <td>False</td>\n",
       "      <td>False</td>\n",
       "      <td>False</td>\n",
       "      <td>False</td>\n",
       "      <td>False</td>\n",
       "      <td>False</td>\n",
       "      <td>False</td>\n",
       "      <td>False</td>\n",
       "    </tr>\n",
       "  </tbody>\n",
       "</table>\n",
       "<p>5 rows × 244 columns</p>\n",
       "</div>"
      ],
      "text/plain": [
       "   total_sqft  bath  bhk  1st Block Jayanagar  1st Phase JP Nagar  \\\n",
       "0      2850.0   4.0    4                 True               False   \n",
       "1      1630.0   3.0    3                 True               False   \n",
       "2      1875.0   2.0    3                 True               False   \n",
       "3      1200.0   2.0    3                 True               False   \n",
       "4      1235.0   2.0    2                 True               False   \n",
       "\n",
       "   2nd Phase Judicial Layout  2nd Stage Nagarbhavi  5th Block Hbr Layout  \\\n",
       "0                      False                 False                 False   \n",
       "1                      False                 False                 False   \n",
       "2                      False                 False                 False   \n",
       "3                      False                 False                 False   \n",
       "4                      False                 False                 False   \n",
       "\n",
       "   5th Phase JP Nagar  6th Phase JP Nagar  ...  Vijayanagar  \\\n",
       "0               False               False  ...        False   \n",
       "1               False               False  ...        False   \n",
       "2               False               False  ...        False   \n",
       "3               False               False  ...        False   \n",
       "4               False               False  ...        False   \n",
       "\n",
       "   Vishveshwarya Layout  Vishwapriya Layout  Vittasandra  Whitefield  \\\n",
       "0                 False               False        False       False   \n",
       "1                 False               False        False       False   \n",
       "2                 False               False        False       False   \n",
       "3                 False               False        False       False   \n",
       "4                 False               False        False       False   \n",
       "\n",
       "   Yelachenahalli  Yelahanka  Yelahanka New Town  Yelenahalli  Yeshwanthpur  \n",
       "0           False      False               False        False         False  \n",
       "1           False      False               False        False         False  \n",
       "2           False      False               False        False         False  \n",
       "3           False      False               False        False         False  \n",
       "4           False      False               False        False         False  \n",
       "\n",
       "[5 rows x 244 columns]"
      ]
     },
     "execution_count": 60,
     "metadata": {},
     "output_type": "execute_result"
    }
   ],
   "source": [
    "X = df10.drop(columns=['price'])\n",
    "X.head()"
   ]
  },
  {
   "cell_type": "code",
   "execution_count": 61,
   "metadata": {},
   "outputs": [
    {
     "data": {
      "text/plain": [
       "0    428.0\n",
       "1    194.0\n",
       "2    235.0\n",
       "3    130.0\n",
       "4    148.0\n",
       "Name: price, dtype: float64"
      ]
     },
     "execution_count": 61,
     "metadata": {},
     "output_type": "execute_result"
    }
   ],
   "source": [
    "y = df10['price']\n",
    "y.head()"
   ]
  },
  {
   "cell_type": "code",
   "execution_count": 62,
   "metadata": {},
   "outputs": [],
   "source": [
    "from sklearn.model_selection import train_test_split\n",
    "X_train, X_test, y_train, y_test = train_test_split(X,y,test_size=0.2,random_state=10)"
   ]
  },
  {
   "cell_type": "code",
   "execution_count": 63,
   "metadata": {},
   "outputs": [
    {
     "data": {
      "text/plain": [
       "0.8452277697874343"
      ]
     },
     "execution_count": 63,
     "metadata": {},
     "output_type": "execute_result"
    }
   ],
   "source": [
    "from sklearn.linear_model import LinearRegression\n",
    "lr_clf = LinearRegression()\n",
    "lr_clf.fit(X_train,y_train)\n",
    "lr_clf.score(X_test,y_test)"
   ]
  },
  {
   "cell_type": "code",
   "execution_count": 64,
   "metadata": {},
   "outputs": [
    {
     "data": {
      "text/plain": [
       "array([0.82430186, 0.77166234, 0.85089567, 0.80837764, 0.83653286])"
      ]
     },
     "execution_count": 64,
     "metadata": {},
     "output_type": "execute_result"
    }
   ],
   "source": [
    "from sklearn.model_selection import ShuffleSplit\n",
    "from sklearn.model_selection import cross_val_score\n",
    "\n",
    "cv = ShuffleSplit(n_splits=5, test_size=0.2, random_state=0)\n",
    "\n",
    "cross_val_score(LinearRegression(), X, y, cv=cv)"
   ]
  },
  {
   "cell_type": "code",
   "execution_count": 65,
   "metadata": {},
   "outputs": [
    {
     "data": {
      "text/plain": [
       "[{'model': 'Linear Regression',\n",
       "  'best_score': 0.8190012023137718,\n",
       "  'best_params': {'fit_intercept': False}}]"
      ]
     },
     "execution_count": 65,
     "metadata": {},
     "output_type": "execute_result"
    }
   ],
   "source": [
    "from sklearn.model_selection import GridSearchCV\n",
    "from sklearn.linear_model import Lasso\n",
    "from sklearn.tree import DecisionTreeRegressor\n",
    "\n",
    "def find_best_model_using_gridsearchcv(X, y):\n",
    "\n",
    "    models = {\n",
    "        'Linear Regression': LinearRegression(),\n",
    "        'Lasso': Lasso(max_iter=10000),\n",
    "        'Decision Tree': DecisionTreeRegressor()\n",
    "    }\n",
    "\n",
    "    parameters = {\n",
    "        'Linear Regression': {\n",
    "            'fit_intercept': [True, False]\n",
    "            },\n",
    "        'Lasso': {\n",
    "            'alpha': [1, 2],\n",
    "            'selection': ['random', 'cyclic']\n",
    "            },\n",
    "        'Decision Tree': {\n",
    "            'criterion': ['mse', 'friedman_mse'],\n",
    "            'splitter': ['best', 'random']\n",
    "            }\n",
    "    }\n",
    "\n",
    "    scores = []\n",
    "    for model_name, model in models.items():\n",
    "        clf = GridSearchCV(model, parameters[model_name], cv=cv)\n",
    "        clf.fit(X, y)\n",
    "        scores.append({\n",
    "            'model': model_name,\n",
    "            'best_score': clf.best_score_,\n",
    "            'best_params': clf.best_params_\n",
    "        })\n",
    "        return scores\n",
    "    \n",
    "find_best_model_using_gridsearchcv(X, y)"
   ]
  },
  {
   "cell_type": "code",
   "execution_count": 66,
   "metadata": {},
   "outputs": [
    {
     "data": {
      "text/plain": [
       "Index(['total_sqft', 'bath', 'bhk', '1st Block Jayanagar',\n",
       "       '1st Phase JP Nagar', '2nd Phase Judicial Layout',\n",
       "       '2nd Stage Nagarbhavi', '5th Block Hbr Layout', '5th Phase JP Nagar',\n",
       "       '6th Phase JP Nagar',\n",
       "       ...\n",
       "       'Vijayanagar', 'Vishveshwarya Layout', 'Vishwapriya Layout',\n",
       "       'Vittasandra', 'Whitefield', 'Yelachenahalli', 'Yelahanka',\n",
       "       'Yelahanka New Town', 'Yelenahalli', 'Yeshwanthpur'],\n",
       "      dtype='object', length=244)"
      ]
     },
     "execution_count": 66,
     "metadata": {},
     "output_type": "execute_result"
    }
   ],
   "source": [
    "X.columns"
   ]
  },
  {
   "cell_type": "code",
   "execution_count": 67,
   "metadata": {},
   "outputs": [],
   "source": [
    "def predict_price(location,sqft,bath,bhk):    \n",
    "    loc_index = np.where(X.columns==location)[0][0]\n",
    "\n",
    "    x = np.zeros(len(X.columns))\n",
    "    x[0] = sqft\n",
    "    x[1] = bath\n",
    "    x[2] = bhk\n",
    "    if loc_index >= 0:\n",
    "        x[loc_index] = 1\n",
    "\n",
    "    return lr_clf.predict([x])[0]"
   ]
  },
  {
   "cell_type": "code",
   "execution_count": 68,
   "metadata": {},
   "outputs": [
    {
     "name": "stderr",
     "output_type": "stream",
     "text": [
      "c:\\Users\\smitp\\AppData\\Local\\Programs\\Python\\Python312\\Lib\\site-packages\\sklearn\\base.py:493: UserWarning: X does not have valid feature names, but LinearRegression was fitted with feature names\n",
      "  warnings.warn(\n"
     ]
    },
    {
     "data": {
      "text/plain": [
       "83.49904677191724"
      ]
     },
     "execution_count": 68,
     "metadata": {},
     "output_type": "execute_result"
    }
   ],
   "source": [
    "predict_price('1st Phase JP Nagar',1000, 2, 2)"
   ]
  },
  {
   "cell_type": "code",
   "execution_count": 69,
   "metadata": {},
   "outputs": [
    {
     "name": "stderr",
     "output_type": "stream",
     "text": [
      "c:\\Users\\smitp\\AppData\\Local\\Programs\\Python\\Python312\\Lib\\site-packages\\sklearn\\base.py:493: UserWarning: X does not have valid feature names, but LinearRegression was fitted with feature names\n",
      "  warnings.warn(\n"
     ]
    },
    {
     "data": {
      "text/plain": [
       "196.27562132537582"
      ]
     },
     "execution_count": 69,
     "metadata": {},
     "output_type": "execute_result"
    }
   ],
   "source": [
    "predict_price('Indira Nagar',1000, 6, 5)"
   ]
  },
  {
   "cell_type": "code",
   "execution_count": 70,
   "metadata": {},
   "outputs": [],
   "source": [
    "import pickle\n",
    "with open('banglore_home_prices_model.pickle','wb') as f:\n",
    "    pickle.dump(lr_clf,f)"
   ]
  },
  {
   "cell_type": "code",
   "execution_count": 71,
   "metadata": {},
   "outputs": [],
   "source": [
    "import json\n",
    "columns = {\n",
    "    'data_columns': [col.lower() for col in X.columns]\n",
    "}\n",
    "with open(\"columns.json\",\"w\") as f:\n",
    "    f.write(json.dumps(columns))"
   ]
  },
  {
   "cell_type": "code",
   "execution_count": null,
   "metadata": {},
   "outputs": [],
   "source": []
  }
 ],
 "metadata": {
  "kernelspec": {
   "display_name": "Python 3",
   "language": "python",
   "name": "python3"
  },
  "language_info": {
   "codemirror_mode": {
    "name": "ipython",
    "version": 3
   },
   "file_extension": ".py",
   "mimetype": "text/x-python",
   "name": "python",
   "nbconvert_exporter": "python",
   "pygments_lexer": "ipython3",
   "version": "3.12.4"
  }
 },
 "nbformat": 4,
 "nbformat_minor": 2
}
